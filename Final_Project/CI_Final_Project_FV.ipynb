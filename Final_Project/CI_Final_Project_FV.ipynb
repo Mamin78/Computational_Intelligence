{
  "cells": [
    {
      "cell_type": "markdown",
      "metadata": {
        "id": "iCVtcOoA3Tgh"
      },
      "source": [
        "# **Packages**"
      ]
    },
    {
      "cell_type": "code",
      "execution_count": null,
      "metadata": {
        "colab": {
          "base_uri": "https://localhost:8080/"
        },
        "id": "Zex_krA6jaDc",
        "outputId": "698baed3-3f5c-4503-b012-7cf4dc2f6410"
      },
      "outputs": [
        {
          "output_type": "stream",
          "name": "stdout",
          "text": [
            "Collecting hazm\n",
            "  Downloading hazm-0.7.0-py3-none-any.whl (316 kB)\n",
            "\u001b[?25l\r\u001b[K     |█                               | 10 kB 35.3 MB/s eta 0:00:01\r\u001b[K     |██                              | 20 kB 38.2 MB/s eta 0:00:01\r\u001b[K     |███                             | 30 kB 43.1 MB/s eta 0:00:01\r\u001b[K     |████▏                           | 40 kB 32.7 MB/s eta 0:00:01\r\u001b[K     |█████▏                          | 51 kB 27.0 MB/s eta 0:00:01\r\u001b[K     |██████▏                         | 61 kB 22.4 MB/s eta 0:00:01\r\u001b[K     |███████▎                        | 71 kB 20.8 MB/s eta 0:00:01\r\u001b[K     |████████▎                       | 81 kB 22.3 MB/s eta 0:00:01\r\u001b[K     |█████████▎                      | 92 kB 24.2 MB/s eta 0:00:01\r\u001b[K     |██████████▍                     | 102 kB 23.2 MB/s eta 0:00:01\r\u001b[K     |███████████▍                    | 112 kB 23.2 MB/s eta 0:00:01\r\u001b[K     |████████████▍                   | 122 kB 23.2 MB/s eta 0:00:01\r\u001b[K     |█████████████▌                  | 133 kB 23.2 MB/s eta 0:00:01\r\u001b[K     |██████████████▌                 | 143 kB 23.2 MB/s eta 0:00:01\r\u001b[K     |███████████████▌                | 153 kB 23.2 MB/s eta 0:00:01\r\u001b[K     |████████████████▋               | 163 kB 23.2 MB/s eta 0:00:01\r\u001b[K     |█████████████████▋              | 174 kB 23.2 MB/s eta 0:00:01\r\u001b[K     |██████████████████▋             | 184 kB 23.2 MB/s eta 0:00:01\r\u001b[K     |███████████████████▋            | 194 kB 23.2 MB/s eta 0:00:01\r\u001b[K     |████████████████████▊           | 204 kB 23.2 MB/s eta 0:00:01\r\u001b[K     |█████████████████████▊          | 215 kB 23.2 MB/s eta 0:00:01\r\u001b[K     |██████████████████████▊         | 225 kB 23.2 MB/s eta 0:00:01\r\u001b[K     |███████████████████████▉        | 235 kB 23.2 MB/s eta 0:00:01\r\u001b[K     |████████████████████████▉       | 245 kB 23.2 MB/s eta 0:00:01\r\u001b[K     |█████████████████████████▉      | 256 kB 23.2 MB/s eta 0:00:01\r\u001b[K     |███████████████████████████     | 266 kB 23.2 MB/s eta 0:00:01\r\u001b[K     |████████████████████████████    | 276 kB 23.2 MB/s eta 0:00:01\r\u001b[K     |█████████████████████████████   | 286 kB 23.2 MB/s eta 0:00:01\r\u001b[K     |██████████████████████████████  | 296 kB 23.2 MB/s eta 0:00:01\r\u001b[K     |███████████████████████████████ | 307 kB 23.2 MB/s eta 0:00:01\r\u001b[K     |████████████████████████████████| 316 kB 23.2 MB/s \n",
            "\u001b[?25hCollecting nltk==3.3\n",
            "  Downloading nltk-3.3.0.zip (1.4 MB)\n",
            "\u001b[K     |████████████████████████████████| 1.4 MB 63.8 MB/s \n",
            "\u001b[?25hCollecting libwapiti>=0.2.1\n",
            "  Downloading libwapiti-0.2.1.tar.gz (233 kB)\n",
            "\u001b[K     |████████████████████████████████| 233 kB 67.6 MB/s \n",
            "\u001b[?25hRequirement already satisfied: six in /usr/local/lib/python3.7/dist-packages (from nltk==3.3->hazm) (1.15.0)\n",
            "Building wheels for collected packages: nltk, libwapiti\n",
            "  Building wheel for nltk (setup.py) ... \u001b[?25l\u001b[?25hdone\n",
            "  Created wheel for nltk: filename=nltk-3.3-py3-none-any.whl size=1394486 sha256=a476845daa5722c655e2217c9e735fe414928084552c1c8f6103c6a93ca26934\n",
            "  Stored in directory: /root/.cache/pip/wheels/9b/fd/0c/d92302c876e5de87ebd7fc0979d82edb93e2d8d768bf71fac4\n",
            "  Building wheel for libwapiti (setup.py) ... \u001b[?25l\u001b[?25hdone\n",
            "  Created wheel for libwapiti: filename=libwapiti-0.2.1-cp37-cp37m-linux_x86_64.whl size=154018 sha256=3c084208a76556f780edd4af0f346cade75a295f6c9d04a6a958a227a1eb7eed\n",
            "  Stored in directory: /root/.cache/pip/wheels/ab/b2/5b/0fe4b8f5c0e65341e8ea7bb3f4a6ebabfe8b1ac31322392dbf\n",
            "Successfully built nltk libwapiti\n",
            "Installing collected packages: nltk, libwapiti, hazm\n",
            "  Attempting uninstall: nltk\n",
            "    Found existing installation: nltk 3.2.5\n",
            "    Uninstalling nltk-3.2.5:\n",
            "      Successfully uninstalled nltk-3.2.5\n",
            "Successfully installed hazm-0.7.0 libwapiti-0.2.1 nltk-3.3\n"
          ]
        }
      ],
      "source": [
        "!pip install hazm"
      ]
    },
    {
      "cell_type": "code",
      "execution_count": null,
      "metadata": {
        "colab": {
          "base_uri": "https://localhost:8080/"
        },
        "id": "aXap4gfQBfJn",
        "outputId": "1ec81cd5-3ab6-4ca0-f3e3-d67c84ccacfb"
      },
      "outputs": [
        {
          "output_type": "stream",
          "name": "stdout",
          "text": [
            "Collecting clean-text\n",
            "  Downloading clean_text-0.5.0-py3-none-any.whl (9.8 kB)\n",
            "Collecting ftfy<7.0,>=6.0\n",
            "  Downloading ftfy-6.0.3.tar.gz (64 kB)\n",
            "\u001b[K     |████████████████████████████████| 64 kB 3.3 MB/s \n",
            "\u001b[?25hCollecting emoji\n",
            "  Downloading emoji-1.6.3.tar.gz (174 kB)\n",
            "\u001b[K     |████████████████████████████████| 174 kB 62.8 MB/s \n",
            "\u001b[?25hRequirement already satisfied: wcwidth in /usr/local/lib/python3.7/dist-packages (from ftfy<7.0,>=6.0->clean-text) (0.2.5)\n",
            "Building wheels for collected packages: ftfy, emoji\n",
            "  Building wheel for ftfy (setup.py) ... \u001b[?25l\u001b[?25hdone\n",
            "  Created wheel for ftfy: filename=ftfy-6.0.3-py3-none-any.whl size=41933 sha256=bd0fbfa945c04ec3aa53a9e881f5b5471b2a6d61499fc793fdfd6cc172d24e86\n",
            "  Stored in directory: /root/.cache/pip/wheels/19/f5/38/273eb3b5e76dfd850619312f693716ac4518b498f5ffb6f56d\n",
            "  Building wheel for emoji (setup.py) ... \u001b[?25l\u001b[?25hdone\n",
            "  Created wheel for emoji: filename=emoji-1.6.3-py3-none-any.whl size=170298 sha256=c2ca0a7befe0e74da6150c584dec7a87a545b2ae3a5b76e1c7f0ed2ddc0629e1\n",
            "  Stored in directory: /root/.cache/pip/wheels/03/8b/d7/ad579fbef83c287215c0caab60fb0ae0f30c4d7ce5f580eade\n",
            "Successfully built ftfy emoji\n",
            "Installing collected packages: ftfy, emoji, clean-text\n",
            "Successfully installed clean-text-0.5.0 emoji-1.6.3 ftfy-6.0.3\n"
          ]
        }
      ],
      "source": [
        "!pip install clean-text"
      ]
    },
    {
      "cell_type": "code",
      "execution_count": null,
      "metadata": {
        "colab": {
          "base_uri": "https://localhost:8080/"
        },
        "id": "pVy-ono2dQFK",
        "outputId": "e30ad962-4d6e-4295-d9b0-367ab6fe4ecc"
      },
      "outputs": [
        {
          "output_type": "stream",
          "name": "stdout",
          "text": [
            "Collecting transformers\n",
            "  Downloading transformers-4.15.0-py3-none-any.whl (3.4 MB)\n",
            "\u001b[K     |████████████████████████████████| 3.4 MB 32.8 MB/s \n",
            "\u001b[?25hRequirement already satisfied: regex!=2019.12.17 in /usr/local/lib/python3.7/dist-packages (from transformers) (2019.12.20)\n",
            "Requirement already satisfied: tqdm>=4.27 in /usr/local/lib/python3.7/dist-packages (from transformers) (4.62.3)\n",
            "Collecting sacremoses\n",
            "  Downloading sacremoses-0.0.47-py2.py3-none-any.whl (895 kB)\n",
            "\u001b[K     |████████████████████████████████| 895 kB 38.3 MB/s \n",
            "\u001b[?25hRequirement already satisfied: importlib-metadata in /usr/local/lib/python3.7/dist-packages (from transformers) (4.10.0)\n",
            "Collecting tokenizers<0.11,>=0.10.1\n",
            "  Downloading tokenizers-0.10.3-cp37-cp37m-manylinux_2_5_x86_64.manylinux1_x86_64.manylinux_2_12_x86_64.manylinux2010_x86_64.whl (3.3 MB)\n",
            "\u001b[K     |████████████████████████████████| 3.3 MB 62.6 MB/s \n",
            "\u001b[?25hCollecting pyyaml>=5.1\n",
            "  Downloading PyYAML-6.0-cp37-cp37m-manylinux_2_5_x86_64.manylinux1_x86_64.manylinux_2_12_x86_64.manylinux2010_x86_64.whl (596 kB)\n",
            "\u001b[K     |████████████████████████████████| 596 kB 70.1 MB/s \n",
            "\u001b[?25hRequirement already satisfied: numpy>=1.17 in /usr/local/lib/python3.7/dist-packages (from transformers) (1.19.5)\n",
            "Collecting huggingface-hub<1.0,>=0.1.0\n",
            "  Downloading huggingface_hub-0.4.0-py3-none-any.whl (67 kB)\n",
            "\u001b[K     |████████████████████████████████| 67 kB 6.9 MB/s \n",
            "\u001b[?25hRequirement already satisfied: requests in /usr/local/lib/python3.7/dist-packages (from transformers) (2.23.0)\n",
            "Requirement already satisfied: packaging>=20.0 in /usr/local/lib/python3.7/dist-packages (from transformers) (21.3)\n",
            "Requirement already satisfied: filelock in /usr/local/lib/python3.7/dist-packages (from transformers) (3.4.2)\n",
            "Requirement already satisfied: typing-extensions>=3.7.4.3 in /usr/local/lib/python3.7/dist-packages (from huggingface-hub<1.0,>=0.1.0->transformers) (3.10.0.2)\n",
            "Requirement already satisfied: pyparsing!=3.0.5,>=2.0.2 in /usr/local/lib/python3.7/dist-packages (from packaging>=20.0->transformers) (3.0.6)\n",
            "Requirement already satisfied: zipp>=0.5 in /usr/local/lib/python3.7/dist-packages (from importlib-metadata->transformers) (3.7.0)\n",
            "Requirement already satisfied: idna<3,>=2.5 in /usr/local/lib/python3.7/dist-packages (from requests->transformers) (2.10)\n",
            "Requirement already satisfied: chardet<4,>=3.0.2 in /usr/local/lib/python3.7/dist-packages (from requests->transformers) (3.0.4)\n",
            "Requirement already satisfied: urllib3!=1.25.0,!=1.25.1,<1.26,>=1.21.1 in /usr/local/lib/python3.7/dist-packages (from requests->transformers) (1.24.3)\n",
            "Requirement already satisfied: certifi>=2017.4.17 in /usr/local/lib/python3.7/dist-packages (from requests->transformers) (2021.10.8)\n",
            "Requirement already satisfied: six in /usr/local/lib/python3.7/dist-packages (from sacremoses->transformers) (1.15.0)\n",
            "Requirement already satisfied: click in /usr/local/lib/python3.7/dist-packages (from sacremoses->transformers) (7.1.2)\n",
            "Requirement already satisfied: joblib in /usr/local/lib/python3.7/dist-packages (from sacremoses->transformers) (1.1.0)\n",
            "Installing collected packages: pyyaml, tokenizers, sacremoses, huggingface-hub, transformers\n",
            "  Attempting uninstall: pyyaml\n",
            "    Found existing installation: PyYAML 3.13\n",
            "    Uninstalling PyYAML-3.13:\n",
            "      Successfully uninstalled PyYAML-3.13\n",
            "Successfully installed huggingface-hub-0.4.0 pyyaml-6.0 sacremoses-0.0.47 tokenizers-0.10.3 transformers-4.15.0\n"
          ]
        }
      ],
      "source": [
        "!pip install transformers"
      ]
    },
    {
      "cell_type": "markdown",
      "metadata": {
        "id": "mG6YKMPc3Zk2"
      },
      "source": [
        "# **Downloading the data**"
      ]
    },
    {
      "cell_type": "code",
      "execution_count": null,
      "metadata": {
        "colab": {
          "base_uri": "https://localhost:8080/"
        },
        "id": "U1THxF-b_U9q",
        "outputId": "27b63523-45f6-42d7-d5fe-a9661f2b7d84"
      },
      "outputs": [
        {
          "output_type": "stream",
          "name": "stdout",
          "text": [
            "\n",
            "UNRAR 5.50 freeware      Copyright (c) 1993-2017 Alexander Roshal\n",
            "\n",
            "\n",
            "Extracting from /content/drive/MyDrive/train.rar\n",
            "\n",
            "Extracting  train.csv                                                    \b\b\b\b 93%\b\b\b\b 99%\b\b\b\b\b  OK \n",
            "All OK\n"
          ]
        }
      ],
      "source": [
        "!unrar x \"/content/drive/MyDrive/train.rar\" "
      ]
    },
    {
      "cell_type": "code",
      "execution_count": null,
      "metadata": {
        "colab": {
          "base_uri": "https://localhost:8080/"
        },
        "id": "MeNpE8DBlGsM",
        "outputId": "c17387eb-5ad7-483c-a642-55e0d0296913"
      },
      "outputs": [
        {
          "output_type": "stream",
          "name": "stdout",
          "text": [
            "Mounted at /content/drive\n"
          ]
        }
      ],
      "source": [
        "from google.colab import drive\n",
        "drive.mount('/content/drive')"
      ]
    },
    {
      "cell_type": "markdown",
      "metadata": {
        "id": "7gXfpoRG3d_P"
      },
      "source": [
        "# **Imports**"
      ]
    },
    {
      "cell_type": "code",
      "execution_count": null,
      "metadata": {
        "id": "Aub9ImpP_nPD"
      },
      "outputs": [],
      "source": [
        "import pandas as pd\n",
        "import numpy as np\n",
        "import matplotlib.pyplot as plt\n",
        "import random"
      ]
    },
    {
      "cell_type": "code",
      "execution_count": null,
      "metadata": {
        "id": "ieSRSIwTjPiZ"
      },
      "outputs": [],
      "source": [
        "from __future__ import unicode_literals"
      ]
    },
    {
      "cell_type": "code",
      "execution_count": null,
      "metadata": {
        "id": "U-usRw-ejBIs"
      },
      "outputs": [],
      "source": [
        "from hazm import *"
      ]
    },
    {
      "cell_type": "code",
      "execution_count": null,
      "metadata": {
        "id": "U533fH6yBK5v",
        "colab": {
          "base_uri": "https://localhost:8080/"
        },
        "outputId": "685fbb63-2f4f-4e94-c5e9-7d0dac0c0b39"
      },
      "outputs": [
        {
          "output_type": "stream",
          "name": "stderr",
          "text": [
            "Since the GPL-licensed package `unidecode` is not installed, using Python's `unicodedata` package which yields worse results.\n"
          ]
        }
      ],
      "source": [
        "from cleantext import clean"
      ]
    },
    {
      "cell_type": "code",
      "execution_count": null,
      "metadata": {
        "id": "hV-Vmc9NCrR-"
      },
      "outputs": [],
      "source": [
        "import re"
      ]
    },
    {
      "cell_type": "code",
      "execution_count": null,
      "metadata": {
        "id": "6gLbzaRxdU4y"
      },
      "outputs": [],
      "source": [
        "from transformers import BertConfig, BertTokenizer\n",
        "from transformers import BertModel\n",
        "\n",
        "from transformers import AdamW\n",
        "from transformers import get_linear_schedule_with_warmup"
      ]
    },
    {
      "cell_type": "code",
      "execution_count": null,
      "metadata": {
        "id": "JXelf3EufSnK"
      },
      "outputs": [],
      "source": [
        "import nltk"
      ]
    },
    {
      "cell_type": "code",
      "execution_count": null,
      "metadata": {
        "id": "6Uuv9OGy-YNE"
      },
      "outputs": [],
      "source": [
        "from sklearn.model_selection import train_test_split"
      ]
    },
    {
      "cell_type": "code",
      "execution_count": null,
      "metadata": {
        "id": "MxmWrIU3D2AY"
      },
      "outputs": [],
      "source": [
        "from sklearn.feature_extraction.text import TfidfTransformer\n",
        "from sklearn.feature_extraction.text import TfidfVectorizer, HashingVectorizer"
      ]
    },
    {
      "cell_type": "code",
      "execution_count": null,
      "metadata": {
        "id": "a_illH6QgQgT"
      },
      "outputs": [],
      "source": [
        "import tensorflow as tf\n",
        "from tensorflow.keras.datasets import imdb\n",
        "from tensorflow.keras.layers import Embedding, Dense, LSTM\n",
        "from tensorflow.keras.losses import BinaryCrossentropy\n",
        "from tensorflow.keras.models import Sequential\n",
        "from tensorflow.keras.optimizers import Adam\n",
        "from tensorflow.keras.preprocessing.sequence import pad_sequences"
      ]
    },
    {
      "cell_type": "code",
      "execution_count": null,
      "metadata": {
        "id": "llhtI8prgTGj"
      },
      "outputs": [],
      "source": [
        "import numpy as np\n",
        "\n",
        "import tensorflow as tf\n",
        "import tensorflow_hub as hub\n",
        "import tensorflow_datasets as tfds\n",
        "\n",
        "import matplotlib.pyplot as plt"
      ]
    },
    {
      "cell_type": "markdown",
      "metadata": {
        "id": "IIbR08sX3gOF"
      },
      "source": [
        "# **Data Preprocessing**"
      ]
    },
    {
      "cell_type": "markdown",
      "metadata": {
        "id": "B6Z20dowosLM"
      },
      "source": [
        "## **Reading the data**"
      ]
    },
    {
      "cell_type": "code",
      "execution_count": null,
      "metadata": {
        "id": "KFM1d_nmBimR"
      },
      "outputs": [],
      "source": [
        "data = pd.read_csv('train.csv')"
      ]
    },
    {
      "cell_type": "code",
      "execution_count": null,
      "metadata": {
        "id": "tMsjHbpzlnZ7"
      },
      "outputs": [],
      "source": [
        "test_data = pd.read_csv('drive/MyDrive/CI_test.csv')"
      ]
    },
    {
      "cell_type": "code",
      "execution_count": null,
      "metadata": {
        "colab": {
          "base_uri": "https://localhost:8080/"
        },
        "id": "ELPkBWShDCOC",
        "outputId": "459afbcb-3806-4c50-d63a-0760a452270b"
      },
      "outputs": [
        {
          "output_type": "execute_result",
          "data": {
            "text/html": [
              "\n",
              "  <div id=\"df-e16e5798-4fc7-4644-b0c6-05ff2b325951\">\n",
              "    <div class=\"colab-df-container\">\n",
              "      <div>\n",
              "<style scoped>\n",
              "    .dataframe tbody tr th:only-of-type {\n",
              "        vertical-align: middle;\n",
              "    }\n",
              "\n",
              "    .dataframe tbody tr th {\n",
              "        vertical-align: top;\n",
              "    }\n",
              "\n",
              "    .dataframe thead th {\n",
              "        text-align: right;\n",
              "    }\n",
              "</style>\n",
              "<table border=\"1\" class=\"dataframe\">\n",
              "  <thead>\n",
              "    <tr style=\"text-align: right;\">\n",
              "      <th></th>\n",
              "      <th>product_id</th>\n",
              "      <th>product_title</th>\n",
              "      <th>user_id</th>\n",
              "      <th>likes</th>\n",
              "      <th>dislikes</th>\n",
              "      <th>title</th>\n",
              "      <th>comment</th>\n",
              "      <th>advantages</th>\n",
              "      <th>disadvantages</th>\n",
              "      <th>recommend</th>\n",
              "    </tr>\n",
              "  </thead>\n",
              "  <tbody>\n",
              "    <tr>\n",
              "      <th>0</th>\n",
              "      <td>90213</td>\n",
              "      <td>شارژر همراه شیاومی مدل NDY-02-AN با ظرفیت 1000...</td>\n",
              "      <td>3862150</td>\n",
              "      <td>4</td>\n",
              "      <td>1</td>\n",
              "      <td>واقعاً عالیه</td>\n",
              "      <td>سلام، قبل اینکه نظرم رو بگم میخواستم به یک موض...</td>\n",
              "      <td>[\"عمر طولانی\\r\",\"افت بسیار کم میزان شارژ\\r\",\"ا...</td>\n",
              "      <td>[\"ندارد\"]</td>\n",
              "      <td>recommended</td>\n",
              "    </tr>\n",
              "    <tr>\n",
              "      <th>1</th>\n",
              "      <td>59473</td>\n",
              "      <td>یدک پولیشر میکروفایبر مهسان مدل 20119</td>\n",
              "      <td>626843</td>\n",
              "      <td>1</td>\n",
              "      <td>0</td>\n",
              "      <td>خیلی سخت حوله اش در میاد</td>\n",
              "      <td>گیره های فلزی خیلی سخت تا میشوند و لذا حوله را...</td>\n",
              "      <td>NaN</td>\n",
              "      <td>NaN</td>\n",
              "      <td>not_recommended</td>\n",
              "    </tr>\n",
              "    <tr>\n",
              "      <th>2</th>\n",
              "      <td>133722</td>\n",
              "      <td>لپ تاپ 15 اینچی ایسوس مدل N501VW - A</td>\n",
              "      <td>497032</td>\n",
              "      <td>6</td>\n",
              "      <td>1</td>\n",
              "      <td>اقرار بیش از حد در ایراد گرفتن</td>\n",
              "      <td>سلام دوستان،،_x000D_\\nمنم مثه بعضی از دوستان ق...</td>\n",
              "      <td>[\"همه چیز که تو مشخصات اومده بجز 3 مورد کوچیک\"]</td>\n",
              "      <td>[\"تاچ پدش میتونست بهتر باشه از نظر سرعت پاسخ گ...</td>\n",
              "      <td>recommended</td>\n",
              "    </tr>\n",
              "    <tr>\n",
              "      <th>3</th>\n",
              "      <td>148509</td>\n",
              "      <td>اسپیکر بلوتوثی دیووم مدل Bluetune bean</td>\n",
              "      <td>574130</td>\n",
              "      <td>3</td>\n",
              "      <td>0</td>\n",
              "      <td>بسیار خوب</td>\n",
              "      <td>من چند سالی هست که این اسپیکرو خریدم و واقعا ح...</td>\n",
              "      <td>[\"کیفیت ساخت بسیار خوب\\r\",\"کیفیت صدا بسیار عال...</td>\n",
              "      <td>[\"ندارد\"]</td>\n",
              "      <td>recommended</td>\n",
              "    </tr>\n",
              "    <tr>\n",
              "      <th>4</th>\n",
              "      <td>5107</td>\n",
              "      <td>هارددیسک اکسترنال سیگیت مدل Backup Plus Deskto...</td>\n",
              "      <td>794316</td>\n",
              "      <td>1</td>\n",
              "      <td>0</td>\n",
              "      <td>هارد با کیفیت و ظاهر شیک</td>\n",
              "      <td>نزدیک به دو ساله که این هارد رو خریدم. استفاده...</td>\n",
              "      <td>[\"کیفیت ساخت خوب\\r\",\"ظاهر ساده و زیبا\\r\",\"صدای...</td>\n",
              "      <td>[\"عدم مقاومت در برابر ضربه\\r\",\"عدم سهولت جا به...</td>\n",
              "      <td>recommended</td>\n",
              "    </tr>\n",
              "    <tr>\n",
              "      <th>...</th>\n",
              "      <td>...</td>\n",
              "      <td>...</td>\n",
              "      <td>...</td>\n",
              "      <td>...</td>\n",
              "      <td>...</td>\n",
              "      <td>...</td>\n",
              "      <td>...</td>\n",
              "      <td>...</td>\n",
              "      <td>...</td>\n",
              "      <td>...</td>\n",
              "    </tr>\n",
              "    <tr>\n",
              "      <th>48077</th>\n",
              "      <td>842976</td>\n",
              "      <td>لیوان گامین گلس مدل محک بسته 6 عددی</td>\n",
              "      <td>2333505</td>\n",
              "      <td>10</td>\n",
              "      <td>1</td>\n",
              "      <td>بی کیفیت</td>\n",
              "      <td>کاملابی کیفیت، تو هر قیمتی اصلا ارزش خرید نداره</td>\n",
              "      <td>NaN</td>\n",
              "      <td>NaN</td>\n",
              "      <td>not_recommended</td>\n",
              "    </tr>\n",
              "    <tr>\n",
              "      <th>48078</th>\n",
              "      <td>362029</td>\n",
              "      <td>کتاب سفید و قرمز نسخه بارسلونا</td>\n",
              "      <td>8369747</td>\n",
              "      <td>0</td>\n",
              "      <td>0</td>\n",
              "      <td>عالی بود  خون دن داره</td>\n",
              "      <td>عالیییییییییییییییییییی</td>\n",
              "      <td>NaN</td>\n",
              "      <td>NaN</td>\n",
              "      <td>recommended</td>\n",
              "    </tr>\n",
              "    <tr>\n",
              "      <th>48079</th>\n",
              "      <td>818381</td>\n",
              "      <td>بالش بادی پورگونر مدل KMG</td>\n",
              "      <td>8027276</td>\n",
              "      <td>0</td>\n",
              "      <td>0</td>\n",
              "      <td>ارزش خرید نداره</td>\n",
              "      <td>اندازه بالش بسیار کوچک هست بیشتر بدرد بچه ۲ سا...</td>\n",
              "      <td>NaN</td>\n",
              "      <td>NaN</td>\n",
              "      <td>not_recommended</td>\n",
              "    </tr>\n",
              "    <tr>\n",
              "      <th>48080</th>\n",
              "      <td>549845</td>\n",
              "      <td>شید آباژور آرام مدل SH45/01</td>\n",
              "      <td>4979401</td>\n",
              "      <td>0</td>\n",
              "      <td>0</td>\n",
              "      <td>بسیار تمیز و زیبا</td>\n",
              "      <td>بسیار تمیز و زیبا...من که خیلی راضیم</td>\n",
              "      <td>[\"کاملا مطابق با عکس\\r\",\"ساخت بسیار تمیز\"]</td>\n",
              "      <td>[\"ندارد\"]</td>\n",
              "      <td>recommended</td>\n",
              "    </tr>\n",
              "    <tr>\n",
              "      <th>48081</th>\n",
              "      <td>820985</td>\n",
              "      <td>واکس کفش ساتل مدل 20 حجم 60 میلی لیتر</td>\n",
              "      <td>568208</td>\n",
              "      <td>0</td>\n",
              "      <td>0</td>\n",
              "      <td>خوبه و غلیظه</td>\n",
              "      <td>واکس خوبیه..</td>\n",
              "      <td>[\"روغنیه\"]</td>\n",
              "      <td>[\"ندیدم\"]</td>\n",
              "      <td>recommended</td>\n",
              "    </tr>\n",
              "  </tbody>\n",
              "</table>\n",
              "<p>48082 rows × 10 columns</p>\n",
              "</div>\n",
              "      <button class=\"colab-df-convert\" onclick=\"convertToInteractive('df-e16e5798-4fc7-4644-b0c6-05ff2b325951')\"\n",
              "              title=\"Convert this dataframe to an interactive table.\"\n",
              "              style=\"display:none;\">\n",
              "        \n",
              "  <svg xmlns=\"http://www.w3.org/2000/svg\" height=\"24px\"viewBox=\"0 0 24 24\"\n",
              "       width=\"24px\">\n",
              "    <path d=\"M0 0h24v24H0V0z\" fill=\"none\"/>\n",
              "    <path d=\"M18.56 5.44l.94 2.06.94-2.06 2.06-.94-2.06-.94-.94-2.06-.94 2.06-2.06.94zm-11 1L8.5 8.5l.94-2.06 2.06-.94-2.06-.94L8.5 2.5l-.94 2.06-2.06.94zm10 10l.94 2.06.94-2.06 2.06-.94-2.06-.94-.94-2.06-.94 2.06-2.06.94z\"/><path d=\"M17.41 7.96l-1.37-1.37c-.4-.4-.92-.59-1.43-.59-.52 0-1.04.2-1.43.59L10.3 9.45l-7.72 7.72c-.78.78-.78 2.05 0 2.83L4 21.41c.39.39.9.59 1.41.59.51 0 1.02-.2 1.41-.59l7.78-7.78 2.81-2.81c.8-.78.8-2.07 0-2.86zM5.41 20L4 18.59l7.72-7.72 1.47 1.35L5.41 20z\"/>\n",
              "  </svg>\n",
              "      </button>\n",
              "      \n",
              "  <style>\n",
              "    .colab-df-container {\n",
              "      display:flex;\n",
              "      flex-wrap:wrap;\n",
              "      gap: 12px;\n",
              "    }\n",
              "\n",
              "    .colab-df-convert {\n",
              "      background-color: #E8F0FE;\n",
              "      border: none;\n",
              "      border-radius: 50%;\n",
              "      cursor: pointer;\n",
              "      display: none;\n",
              "      fill: #1967D2;\n",
              "      height: 32px;\n",
              "      padding: 0 0 0 0;\n",
              "      width: 32px;\n",
              "    }\n",
              "\n",
              "    .colab-df-convert:hover {\n",
              "      background-color: #E2EBFA;\n",
              "      box-shadow: 0px 1px 2px rgba(60, 64, 67, 0.3), 0px 1px 3px 1px rgba(60, 64, 67, 0.15);\n",
              "      fill: #174EA6;\n",
              "    }\n",
              "\n",
              "    [theme=dark] .colab-df-convert {\n",
              "      background-color: #3B4455;\n",
              "      fill: #D2E3FC;\n",
              "    }\n",
              "\n",
              "    [theme=dark] .colab-df-convert:hover {\n",
              "      background-color: #434B5C;\n",
              "      box-shadow: 0px 1px 3px 1px rgba(0, 0, 0, 0.15);\n",
              "      filter: drop-shadow(0px 1px 2px rgba(0, 0, 0, 0.3));\n",
              "      fill: #FFFFFF;\n",
              "    }\n",
              "  </style>\n",
              "\n",
              "      <script>\n",
              "        const buttonEl =\n",
              "          document.querySelector('#df-e16e5798-4fc7-4644-b0c6-05ff2b325951 button.colab-df-convert');\n",
              "        buttonEl.style.display =\n",
              "          google.colab.kernel.accessAllowed ? 'block' : 'none';\n",
              "\n",
              "        async function convertToInteractive(key) {\n",
              "          const element = document.querySelector('#df-e16e5798-4fc7-4644-b0c6-05ff2b325951');\n",
              "          const dataTable =\n",
              "            await google.colab.kernel.invokeFunction('convertToInteractive',\n",
              "                                                     [key], {});\n",
              "          if (!dataTable) return;\n",
              "\n",
              "          const docLinkHtml = 'Like what you see? Visit the ' +\n",
              "            '<a target=\"_blank\" href=https://colab.research.google.com/notebooks/data_table.ipynb>data table notebook</a>'\n",
              "            + ' to learn more about interactive tables.';\n",
              "          element.innerHTML = '';\n",
              "          dataTable['output_type'] = 'display_data';\n",
              "          await google.colab.output.renderOutput(dataTable, element);\n",
              "          const docLink = document.createElement('div');\n",
              "          docLink.innerHTML = docLinkHtml;\n",
              "          element.appendChild(docLink);\n",
              "        }\n",
              "      </script>\n",
              "    </div>\n",
              "  </div>\n",
              "  "
            ],
            "text/plain": [
              "       product_id  ...        recommend\n",
              "0           90213  ...      recommended\n",
              "1           59473  ...  not_recommended\n",
              "2          133722  ...      recommended\n",
              "3          148509  ...      recommended\n",
              "4            5107  ...      recommended\n",
              "...           ...  ...              ...\n",
              "48077      842976  ...  not_recommended\n",
              "48078      362029  ...      recommended\n",
              "48079      818381  ...  not_recommended\n",
              "48080      549845  ...      recommended\n",
              "48081      820985  ...      recommended\n",
              "\n",
              "[48082 rows x 10 columns]"
            ]
          },
          "metadata": {},
          "execution_count": 147
        }
      ],
      "source": [
        "data"
      ]
    },
    {
      "cell_type": "code",
      "execution_count": null,
      "metadata": {
        "colab": {
          "base_uri": "https://localhost:8080/"
        },
        "id": "oKFxEiL-mpYp",
        "outputId": "af211c78-817e-4c81-de99-64c4ea498a2c"
      },
      "outputs": [
        {
          "output_type": "execute_result",
          "data": {
            "text/html": [
              "\n",
              "  <div id=\"df-70256731-befc-46e5-a60c-2829d4c8bac1\">\n",
              "    <div class=\"colab-df-container\">\n",
              "      <div>\n",
              "<style scoped>\n",
              "    .dataframe tbody tr th:only-of-type {\n",
              "        vertical-align: middle;\n",
              "    }\n",
              "\n",
              "    .dataframe tbody tr th {\n",
              "        vertical-align: top;\n",
              "    }\n",
              "\n",
              "    .dataframe thead th {\n",
              "        text-align: right;\n",
              "    }\n",
              "</style>\n",
              "<table border=\"1\" class=\"dataframe\">\n",
              "  <thead>\n",
              "    <tr style=\"text-align: right;\">\n",
              "      <th></th>\n",
              "      <th>id</th>\n",
              "      <th>product_id</th>\n",
              "      <th>product_title</th>\n",
              "      <th>user_id</th>\n",
              "      <th>likes</th>\n",
              "      <th>dislikes</th>\n",
              "      <th>title</th>\n",
              "      <th>comment</th>\n",
              "      <th>advantages</th>\n",
              "      <th>disadvantages</th>\n",
              "    </tr>\n",
              "  </thead>\n",
              "  <tbody>\n",
              "    <tr>\n",
              "      <th>0</th>\n",
              "      <td>1</td>\n",
              "      <td>146879</td>\n",
              "      <td>فلاسک غذا خودرو بلک اند دکر مدل BDV212F</td>\n",
              "      <td>2838703</td>\n",
              "      <td>15</td>\n",
              "      <td>12</td>\n",
              "      <td>فقط مناسب سفر طولانی</td>\n",
              "      <td>با توجه به قدرت خنک کنندگی حداقل ۲ ساعت زمان ل...</td>\n",
              "      <td>NaN</td>\n",
              "      <td>NaN</td>\n",
              "    </tr>\n",
              "    <tr>\n",
              "      <th>1</th>\n",
              "      <td>2</td>\n",
              "      <td>120648</td>\n",
              "      <td>ادو تویلت مردانه آنتونیو باندراس مدل The Golde...</td>\n",
              "      <td>1307120</td>\n",
              "      <td>5</td>\n",
              "      <td>3</td>\n",
              "      <td>خوش بو</td>\n",
              "      <td>بسیار خوش بو ولی ماندگاری در حد یک ساعت ، با ا...</td>\n",
              "      <td>NaN</td>\n",
              "      <td>NaN</td>\n",
              "    </tr>\n",
              "    <tr>\n",
              "      <th>2</th>\n",
              "      <td>3</td>\n",
              "      <td>76932</td>\n",
              "      <td>محلول تقویت و رشد ابرو لامینین 12ml</td>\n",
              "      <td>2724686</td>\n",
              "      <td>8</td>\n",
              "      <td>3</td>\n",
              "      <td>بدون فایده</td>\n",
              "      <td>اصلا تأثیری نداشت</td>\n",
              "      <td>NaN</td>\n",
              "      <td>NaN</td>\n",
              "    </tr>\n",
              "    <tr>\n",
              "      <th>3</th>\n",
              "      <td>4</td>\n",
              "      <td>179072</td>\n",
              "      <td>فن هیتر فلر مدل HFC201</td>\n",
              "      <td>2499534</td>\n",
              "      <td>5</td>\n",
              "      <td>0</td>\n",
              "      <td>NaN</td>\n",
              "      <td>کیفیت بدنه خیلی خوبی داره._x000D_\\nوقتی در جای...</td>\n",
              "      <td>NaN</td>\n",
              "      <td>NaN</td>\n",
              "    </tr>\n",
              "    <tr>\n",
              "      <th>4</th>\n",
              "      <td>5</td>\n",
              "      <td>184047</td>\n",
              "      <td>گوشی موبایل آنر مدل 6X BLN-L21 دو سیم‌ کارت</td>\n",
              "      <td>906159</td>\n",
              "      <td>19</td>\n",
              "      <td>4</td>\n",
              "      <td>فوق العاده در یک کلام</td>\n",
              "      <td>دو ساله استفاده میکنم، واقعاً هیچ کجا برام کم ...</td>\n",
              "      <td>[\"حسگر فوق‌العاده اثرانگشت \\r\",\"قابلیت تنظیم ف...</td>\n",
              "      <td>NaN</td>\n",
              "    </tr>\n",
              "    <tr>\n",
              "      <th>...</th>\n",
              "      <td>...</td>\n",
              "      <td>...</td>\n",
              "      <td>...</td>\n",
              "      <td>...</td>\n",
              "      <td>...</td>\n",
              "      <td>...</td>\n",
              "      <td>...</td>\n",
              "      <td>...</td>\n",
              "      <td>...</td>\n",
              "      <td>...</td>\n",
              "    </tr>\n",
              "    <tr>\n",
              "      <th>4995</th>\n",
              "      <td>4996</td>\n",
              "      <td>106518</td>\n",
              "      <td>بخار شوی کرشر مدل SC2 Premium</td>\n",
              "      <td>4477666</td>\n",
              "      <td>0</td>\n",
              "      <td>1</td>\n",
              "      <td>خریدشو پبشنهاد میکنم</td>\n",
              "      <td>من از دی جی کالا خریدم خیلی عالیه._x000D_\\nپیش...</td>\n",
              "      <td>[\"قدرت پرتاب بخار بالا\"]</td>\n",
              "      <td>[\"به نظر من نداره\"]</td>\n",
              "    </tr>\n",
              "    <tr>\n",
              "      <th>4996</th>\n",
              "      <td>4997</td>\n",
              "      <td>326261</td>\n",
              "      <td>ظرف نگهدارنده رویچن مدل Crystal Kankan بسته10 ...</td>\n",
              "      <td>1390121</td>\n",
              "      <td>2</td>\n",
              "      <td>0</td>\n",
              "      <td>کاربردی و خوب</td>\n",
              "      <td>خیلی خوبه._x000D_\\nاندازه هاش کاربردی و عالیه</td>\n",
              "      <td>NaN</td>\n",
              "      <td>NaN</td>\n",
              "    </tr>\n",
              "    <tr>\n",
              "      <th>4997</th>\n",
              "      <td>4998</td>\n",
              "      <td>195433</td>\n",
              "      <td>کرم براق کننده موی سر مدل A Plus E مقدار 120 گرم</td>\n",
              "      <td>2359378</td>\n",
              "      <td>0</td>\n",
              "      <td>0</td>\n",
              "      <td>یه جنس ایرانی خوب</td>\n",
              "      <td>چرب کردن مو باعث جلوگیری از سفیدی زودرس و پیری...</td>\n",
              "      <td>[\"بوی مطبوع و خوب\\r\",\"حجم زیاد \\r\",\"چربی کم و ...</td>\n",
              "      <td>[\"ضعف آنچنانی ندارد\"]</td>\n",
              "    </tr>\n",
              "    <tr>\n",
              "      <th>4998</th>\n",
              "      <td>4999</td>\n",
              "      <td>590683</td>\n",
              "      <td>کاور کوالا مدل Round TPU مناسب برای گوشی موبای...</td>\n",
              "      <td>7622063</td>\n",
              "      <td>0</td>\n",
              "      <td>0</td>\n",
              "      <td>خرابی</td>\n",
              "      <td>بعداز  یک ماه زرد میشه از هم در میره</td>\n",
              "      <td>[\"طراحی خوب\"]</td>\n",
              "      <td>[\"رنگ رفتن \\r\",\"خراب شدن\"]</td>\n",
              "    </tr>\n",
              "    <tr>\n",
              "      <th>4999</th>\n",
              "      <td>5000</td>\n",
              "      <td>173039</td>\n",
              "      <td>هواکش لوله ای دمنده سری هایلوکس مدل VDI-15S2S</td>\n",
              "      <td>981594</td>\n",
              "      <td>0</td>\n",
              "      <td>0</td>\n",
              "      <td>سلام</td>\n",
              "      <td>من با قیمت ارزون خریدم. ولی کیفیت و کارایی و د...</td>\n",
              "      <td>NaN</td>\n",
              "      <td>NaN</td>\n",
              "    </tr>\n",
              "  </tbody>\n",
              "</table>\n",
              "<p>5000 rows × 10 columns</p>\n",
              "</div>\n",
              "      <button class=\"colab-df-convert\" onclick=\"convertToInteractive('df-70256731-befc-46e5-a60c-2829d4c8bac1')\"\n",
              "              title=\"Convert this dataframe to an interactive table.\"\n",
              "              style=\"display:none;\">\n",
              "        \n",
              "  <svg xmlns=\"http://www.w3.org/2000/svg\" height=\"24px\"viewBox=\"0 0 24 24\"\n",
              "       width=\"24px\">\n",
              "    <path d=\"M0 0h24v24H0V0z\" fill=\"none\"/>\n",
              "    <path d=\"M18.56 5.44l.94 2.06.94-2.06 2.06-.94-2.06-.94-.94-2.06-.94 2.06-2.06.94zm-11 1L8.5 8.5l.94-2.06 2.06-.94-2.06-.94L8.5 2.5l-.94 2.06-2.06.94zm10 10l.94 2.06.94-2.06 2.06-.94-2.06-.94-.94-2.06-.94 2.06-2.06.94z\"/><path d=\"M17.41 7.96l-1.37-1.37c-.4-.4-.92-.59-1.43-.59-.52 0-1.04.2-1.43.59L10.3 9.45l-7.72 7.72c-.78.78-.78 2.05 0 2.83L4 21.41c.39.39.9.59 1.41.59.51 0 1.02-.2 1.41-.59l7.78-7.78 2.81-2.81c.8-.78.8-2.07 0-2.86zM5.41 20L4 18.59l7.72-7.72 1.47 1.35L5.41 20z\"/>\n",
              "  </svg>\n",
              "      </button>\n",
              "      \n",
              "  <style>\n",
              "    .colab-df-container {\n",
              "      display:flex;\n",
              "      flex-wrap:wrap;\n",
              "      gap: 12px;\n",
              "    }\n",
              "\n",
              "    .colab-df-convert {\n",
              "      background-color: #E8F0FE;\n",
              "      border: none;\n",
              "      border-radius: 50%;\n",
              "      cursor: pointer;\n",
              "      display: none;\n",
              "      fill: #1967D2;\n",
              "      height: 32px;\n",
              "      padding: 0 0 0 0;\n",
              "      width: 32px;\n",
              "    }\n",
              "\n",
              "    .colab-df-convert:hover {\n",
              "      background-color: #E2EBFA;\n",
              "      box-shadow: 0px 1px 2px rgba(60, 64, 67, 0.3), 0px 1px 3px 1px rgba(60, 64, 67, 0.15);\n",
              "      fill: #174EA6;\n",
              "    }\n",
              "\n",
              "    [theme=dark] .colab-df-convert {\n",
              "      background-color: #3B4455;\n",
              "      fill: #D2E3FC;\n",
              "    }\n",
              "\n",
              "    [theme=dark] .colab-df-convert:hover {\n",
              "      background-color: #434B5C;\n",
              "      box-shadow: 0px 1px 3px 1px rgba(0, 0, 0, 0.15);\n",
              "      filter: drop-shadow(0px 1px 2px rgba(0, 0, 0, 0.3));\n",
              "      fill: #FFFFFF;\n",
              "    }\n",
              "  </style>\n",
              "\n",
              "      <script>\n",
              "        const buttonEl =\n",
              "          document.querySelector('#df-70256731-befc-46e5-a60c-2829d4c8bac1 button.colab-df-convert');\n",
              "        buttonEl.style.display =\n",
              "          google.colab.kernel.accessAllowed ? 'block' : 'none';\n",
              "\n",
              "        async function convertToInteractive(key) {\n",
              "          const element = document.querySelector('#df-70256731-befc-46e5-a60c-2829d4c8bac1');\n",
              "          const dataTable =\n",
              "            await google.colab.kernel.invokeFunction('convertToInteractive',\n",
              "                                                     [key], {});\n",
              "          if (!dataTable) return;\n",
              "\n",
              "          const docLinkHtml = 'Like what you see? Visit the ' +\n",
              "            '<a target=\"_blank\" href=https://colab.research.google.com/notebooks/data_table.ipynb>data table notebook</a>'\n",
              "            + ' to learn more about interactive tables.';\n",
              "          element.innerHTML = '';\n",
              "          dataTable['output_type'] = 'display_data';\n",
              "          await google.colab.output.renderOutput(dataTable, element);\n",
              "          const docLink = document.createElement('div');\n",
              "          docLink.innerHTML = docLinkHtml;\n",
              "          element.appendChild(docLink);\n",
              "        }\n",
              "      </script>\n",
              "    </div>\n",
              "  </div>\n",
              "  "
            ],
            "text/plain": [
              "        id  ...               disadvantages\n",
              "0        1  ...                         NaN\n",
              "1        2  ...                         NaN\n",
              "2        3  ...                         NaN\n",
              "3        4  ...                         NaN\n",
              "4        5  ...                         NaN\n",
              "...    ...  ...                         ...\n",
              "4995  4996  ...         [\"به نظر من نداره\"]\n",
              "4996  4997  ...                         NaN\n",
              "4997  4998  ...       [\"ضعف آنچنانی ندارد\"]\n",
              "4998  4999  ...  [\"رنگ رفتن \\r\",\"خراب شدن\"]\n",
              "4999  5000  ...                         NaN\n",
              "\n",
              "[5000 rows x 10 columns]"
            ]
          },
          "metadata": {},
          "execution_count": 148
        }
      ],
      "source": [
        "test_data"
      ]
    },
    {
      "cell_type": "code",
      "execution_count": null,
      "metadata": {
        "id": "LeJWl11il92U"
      },
      "outputs": [],
      "source": [
        "data = pd.concat([data, test_data])"
      ]
    },
    {
      "cell_type": "markdown",
      "metadata": {
        "id": "zWLj9DFJkwuk"
      },
      "source": [
        "## **StopWords**"
      ]
    },
    {
      "cell_type": "code",
      "execution_count": null,
      "metadata": {
        "id": "vZCQAN3de-RM"
      },
      "outputs": [],
      "source": [
        "# stopwords_string = ' می های کن کرد کردن باش بود بودن شو شد شدن دار داشت داشتن خواه خواست خواستن گوی گفت گفتن گیر گرفت گرفتن آی آمد آمدن توان توانست توانستن یاب یافت یافتن آور آورد آوردن دیگران همچنان مدت چیز سایر جا طی کل کنونی بیرون مثلا کامل کاملا آنکه موارد واقعی امور امورات اکنون بطور به طور بخشی تحت چگونه عدم نوعی حاضر وضع مقابل کنار خویش نگاه درون زمانی بنابراین بنابرین تو خیلی بزرگ خودش جز اینجا مختلف توسط نوع همچنین آنجا قبل جناح اینها طور شاید ایشان جهت طریق مانند پیدا ممکن کسانی جای کسی غیر بی قابل درباره جدید وقتی اخیر چرا بیش روی طرف جریان زیر آنچه البته فقط چیزی چون برابر هنوز بخش زمینه بین بدون استفاد همان نشان بسیاری بعد عمل روز اعلام چند آنان بلکه امروز تمام بیشتر آیا برخی علیه دیگری ویژه گذشته انجام حتی داده راه سوی ولی زمان حال تنها بسیار یعنی عنوان همین هبچ پیش وی یکی اینکه وجود شما پس چنین میان مورد چه اگر همه نه دیگر آنها باید هر او ما من تا نیز اما یک خود بر یا هم را این با آن برای و در به که از و در به از كه مي اين است را با هاي براي آن يك شود شده خود ها كرد شد اي تا كند بر بود گفت نيز وي هم كنند دارد ما كرده يا اما بايد دو اند هر خواهد او مورد آنها باشد ديگر مردم نمي بين پيش پس اگر همه صورت يكي هستند بي من دهد هزار نيست استفاده داد داشته راه داشت چه همچنين كردند داده بوده دارند همين ميليون سوي شوند بيشتر بسيار روي گرفته هايي تواند اول نام هيچ چند جديد بيش شدن كردن كنيم نشان حتي اينكه ولی توسط چنين برخي نه ديروز دوم درباره بعد مختلف گيرد شما گفته آنان بار طور گرفت دهند گذاري بسياري طي بودند ميليارد بدون تمام كل تر  براساس شدند ترين امروز باشند ندارد چون قابل گويد ديگري همان خواهند قبل آمده اكنون تحت طريق گيري جاي هنوز چرا البته كنيد سازي سوم كنم بلكه زير توانند ضمن فقط بودن حق آيد وقتي اش يابد نخستين مقابل خدمات امسال تاكنون مانند تازه آورد فكر آنچه نخست نشده شايد چهار جريان پنج ساخته زيرا نزديك برداري كسي ريزي رفت گردد مثل آمد ام بهترين دانست كمتر دادن تمامي جلوگيري بيشتري ايم ناشي چيزي آنكه بالا بنابراين ايشان بعضي دادند داشتند برخوردار نخواهد هنگام نبايد غير نبود ديده وگو داريم چگونه بندي خواست فوق ده نوعي هستيم ديگران همچنان سراسر ندارند گروهي سعي روزهاي آنجا يكديگر كردم بيست بروز سپس رفته آورده نمايد باشيم گويند زياد خويش همواره گذاشته شش  نداشته شناسي خواهيم آباد داشتن نظير همچون باره نكرده شان سابق هفت دانند جايي بی جز زیرِ رویِ سریِ تویِ جلویِ پیشِ عقبِ بالایِ خارجِ وسطِ بیرونِ سویِ کنارِ پاعینِ نزدِ نزدیکِ دنبالِ حدودِ برابرِ طبقِ مانندِ ضدِّ هنگامِ برایِ مثلِ بارة اثرِ تولِ علّتِ سمتِ عنوانِ قصدِ روب جدا کی که چیست هست کجا کجاست کَی چطور کدام آیا مگر چندین یک چیزی دیگر کسی بعری هیچ چیز جا کس هرگز یا تنها بلکه خیاه بله بلی آره آری مرسی البتّه لطفاً ّه انکه وقتیکه همین پیش مدّتی هنگامی مان تان'"
      ]
    },
    {
      "cell_type": "code",
      "execution_count": null,
      "metadata": {
        "id": "RDPXY4FH9xGs"
      },
      "outputs": [],
      "source": [
        "stopwords_string = ' می های کن کرد کردن باش بود بودن شو شد شدن دار داشت داشتن خواه خواست خواستن گوی گفت گفتن گیر گرفت گرفتن آی آمد آمدن توان توانست توانستن یاب یافت یافتن آور آورد آوردن دیگران همچنان مدت چیز سایر جا طی کل کنونی بیرون مثلا کامل کاملا آنکه موارد واقعی امور امورات اکنون بطور به طور بخشی تحت چگونه عدم نوعی حاضر وضع مقابل کنار خویش نگاه درون زمانی بنابراین بنابرین تو خیلی بزرگ خودش جز اینجا مختلف توسط نوع همچنین آنجا قبل جناح اینها طور شاید ایشان جهت طریق مانند پیدا ممکن کسانی جای کسی غیر بی قابل درباره جدید وقتی اخیر چرا بیش روی طرف جریان زیر آنچه البته فقط چیزی چون برابر هنوز بخش زمینه بین بدون استفاد همان نشان بسیاری بعد عمل روز اعلام چند آنان بلکه امروز تمام بیشتر آیا برخی علیه دیگری ویژه گذشته انجام حتی داده راه سوی ولی زمان حال تنها بسیار یعنی عنوان همین هبچ پیش وی یکی اینکه وجود شما پس چنین میان مورد چه اگر همه نه دیگر آنها باید هر او ما من تا نیز اما یک خود بر یا هم را این با آن برای و در به که از و در به از كه مي اين است را با هاي براي آن يك شود شده خود ها كرد شد اي تا كند بر بود گفت نيز وي هم كنند دارد ما كرده يا اما بايد دو اند هر خواهد او مورد آنها باشد ديگر مردم نمي بين پيش پس اگر همه صورت يكي هستند بي من دهد هزار نيست داد داشته راه داشت چه همچنين كردند داده بوده دارند همين ميليون سوي شوند بيشتر بسيار روي گرفته هايي تواند اول نام هيچ چند جديد بيش شدن كردن كنيم نشان حتي اينكه ولی توسط چنين برخي نه ديروز دوم درباره بعد مختلف گيرد شما گفته آنان بار طور گرفت دهند گذاري بسياري طي بودند ميليارد بدون تمام كل تر  براساس شدند ترين امروز باشند ندارد چون قابل گويد ديگري همان خواهند قبل آمده اكنون تحت طريق گيري جاي هنوز چرا البته كنيد سازي سوم كنم بلكه زير توانند ضمن فقط بودن حق آيد وقتي اش يابد نخستين مقابل خدمات امسال تاكنون مانند تازه آورد فكر آنچه نخست نشده شايد چهار جريان پنج ساخته زيرا نزديك برداري كسي ريزي رفت گردد مثل آمد ام بهترين دانست كمتر دادن تمامي جلوگيري بيشتري ايم ناشي چيزي آنكه بالا بنابراين ايشان بعضي دادند داشتند برخوردار نخواهد هنگام نبايد غير نبود ديده وگو داريم چگونه بندي خواست فوق ده نوعي هستيم ديگران همچنان سراسر ندارند گروهي سعي روزهاي آنجا يكديگر كردم بيست بروز سپس رفته آورده نمايد باشيم گويند زياد خويش همواره گذاشته شش  نداشته شناسي خواهيم آباد داشتن نظير همچون باره نكرده شان سابق هفت دانند جايي بی جز زیرِ رویِ سریِ تویِ جلویِ پیشِ عقبِ بالایِ خارجِ وسطِ بیرونِ سویِ کنارِ پاعینِ نزدِ نزدیکِ دنبالِ حدودِ برابرِ طبقِ مانندِ ضدِّ هنگامِ برایِ مثلِ بارة اثرِ تولِ علّتِ سمتِ عنوانِ قصدِ روب جدا کی که چیست هست کجا کجاست کَی چطور کدام آیا مگر چندین یک چیزی دیگر کسی بعری هیچ چیز جا کس هرگز یا تنها بلکه خیاه بله بلی آره آری مرسی البتّه لطفاً ّه انکه وقتیکه همین پیش مدّتی هنگامی مان تان'"
      ]
    },
    {
      "cell_type": "code",
      "execution_count": null,
      "metadata": {
        "id": "ULJbcYiMfLEv"
      },
      "outputs": [],
      "source": [
        "stopwords = list(set(stopwords_string.split(' ')))"
      ]
    },
    {
      "cell_type": "code",
      "execution_count": null,
      "metadata": {
        "colab": {
          "base_uri": "https://localhost:8080/"
        },
        "id": "WKxa549lfjrj",
        "outputId": "ca28d5d1-0a2c-40f5-f6ba-1ea9733d6ae5"
      },
      "outputs": [
        {
          "output_type": "execute_result",
          "data": {
            "text/plain": [
              "445"
            ]
          },
          "metadata": {},
          "execution_count": 153
        }
      ],
      "source": [
        "len(stopwords)"
      ]
    },
    {
      "cell_type": "code",
      "execution_count": null,
      "metadata": {
        "id": "M-A_FSB0oV20"
      },
      "outputs": [],
      "source": [
        "stopwords.reverse()"
      ]
    },
    {
      "cell_type": "markdown",
      "metadata": {
        "id": "GXKehJikowAe"
      },
      "source": [
        "# **Data Cleaning**"
      ]
    },
    {
      "cell_type": "code",
      "execution_count": null,
      "metadata": {
        "id": "pcgyzUseKueI"
      },
      "outputs": [],
      "source": [
        "data['advantages'] = data['advantages'].fillna('')\n",
        "data['disadvantages'] = data['disadvantages'].fillna('')"
      ]
    },
    {
      "cell_type": "code",
      "execution_count": null,
      "metadata": {
        "id": "o9ejDd0wsoPz"
      },
      "outputs": [],
      "source": [
        "data['comment'] = data['comment'].astype(str)\n",
        "data['title'] = data['title'].astype(str)\n",
        "\n",
        "data['title_comment'] = data['title'] + ' ' + data['comment']"
      ]
    },
    {
      "cell_type": "code",
      "execution_count": null,
      "metadata": {
        "id": "ZCaQCqMbHRpa"
      },
      "outputs": [],
      "source": [
        "normalizer = Normalizer()\n",
        "stemmer = Stemmer()\n",
        "tokenizer = WordTokenizer()\n",
        "lemmatizer = Lemmatizer()\n",
        "\n",
        "# removing wierd patterns\n",
        "wierd_pattern = re.compile(\"[\"\n",
        "u\"\\U0001F600-\\U0001F64F\"  # emoticons\n",
        "u\"\\U0001F300-\\U0001F5FF\"  # symbols & pictographs\n",
        "u\"\\U0001F680-\\U0001F6FF\"  # transport & map symbols\n",
        "u\"\\U0001F1E0-\\U0001F1FF\"  # flags (iOS)\n",
        "u\"\\U00002702-\\U000027B0\"\n",
        "u\"\\U000024C2-\\U0001F251\"\n",
        "u\"\\U0001f926-\\U0001f937\"\n",
        "u'\\U00010000-\\U0010ffff'\n",
        "u\"\\u200d\"\n",
        "u\"\\u2640-\\u2642\"\n",
        "u\"\\u2600-\\u2B55\"\n",
        "u\"\\u23cf\"\n",
        "u\"\\u23e9\"\n",
        "u\"\\u231a\"\n",
        "u\"\\u3030\"\n",
        "u\"\\ufe0f\"\n",
        "u\"\\u2069\"\n",
        "u\"\\u2066\"\n",
        "u\"\\u200c\"\n",
        "u\"\\u2068\"\n",
        "u\"\\u2067\"\n",
        "u\"\\_x000D_\"\n",
        "u\"\\_x۰۰۰D_\"\n",
        "\"]+\", flags=re.UNICODE)"
      ]
    },
    {
      "cell_type": "code",
      "execution_count": null,
      "metadata": {
        "id": "BN_inax2ASLf"
      },
      "outputs": [],
      "source": [
        "def cleaning(text):\n",
        "  # print(text)\n",
        "  text = text.strip()\n",
        "\n",
        "  # Line breaks\n",
        "  text = text.replace('\\\\n', \" \")\n",
        "\n",
        "  # Puctuations!\n",
        "  text = re.sub(r'[^\\w\\s]', ' ', text)\n",
        "\n",
        "  # emails!\n",
        "  text = re.sub(r'\\S*@\\S*\\s?', ' ', text)\n",
        "\n",
        "  # text = normalizer.normalize(text)\n",
        "    \n",
        "  text = wierd_pattern.sub(r' ', text)\n",
        "      \n",
        "  # removing extra spaces, hashtags\n",
        "  text = re.sub(\"#\", \"\", text)\n",
        "  text = re.sub(\"\\s+\", \" \", text)\n",
        "\n",
        "  return text"
      ]
    },
    {
      "cell_type": "code",
      "execution_count": null,
      "metadata": {
        "colab": {
          "base_uri": "https://localhost:8080/"
        },
        "id": "Hl9u5H2jo3Dk",
        "outputId": "9453cb93-5791-4ca5-988e-7c8800edbec8"
      },
      "outputs": [
        {
          "output_type": "execute_result",
          "data": {
            "text/html": [
              "\n",
              "  <div id=\"df-6ad12b54-8973-4ef0-b91d-db0a64431c30\">\n",
              "    <div class=\"colab-df-container\">\n",
              "      <div>\n",
              "<style scoped>\n",
              "    .dataframe tbody tr th:only-of-type {\n",
              "        vertical-align: middle;\n",
              "    }\n",
              "\n",
              "    .dataframe tbody tr th {\n",
              "        vertical-align: top;\n",
              "    }\n",
              "\n",
              "    .dataframe thead th {\n",
              "        text-align: right;\n",
              "    }\n",
              "</style>\n",
              "<table border=\"1\" class=\"dataframe\">\n",
              "  <thead>\n",
              "    <tr style=\"text-align: right;\">\n",
              "      <th></th>\n",
              "      <th>product_id</th>\n",
              "      <th>product_title</th>\n",
              "      <th>user_id</th>\n",
              "      <th>likes</th>\n",
              "      <th>dislikes</th>\n",
              "      <th>title</th>\n",
              "      <th>comment</th>\n",
              "      <th>advantages</th>\n",
              "      <th>disadvantages</th>\n",
              "      <th>recommend</th>\n",
              "      <th>id</th>\n",
              "      <th>title_comment</th>\n",
              "      <th>cleaned_comment</th>\n",
              "    </tr>\n",
              "  </thead>\n",
              "  <tbody>\n",
              "    <tr>\n",
              "      <th>0</th>\n",
              "      <td>90213</td>\n",
              "      <td>شارژر همراه شیاومی مدل NDY-02-AN با ظرفیت 1000...</td>\n",
              "      <td>3862150</td>\n",
              "      <td>4</td>\n",
              "      <td>1</td>\n",
              "      <td>واقعاً عالیه</td>\n",
              "      <td>سلام، قبل اینکه نظرم رو بگم میخواستم به یک موض...</td>\n",
              "      <td>[\"عمر طولانی\\r\",\"افت بسیار کم میزان شارژ\\r\",\"ا...</td>\n",
              "      <td>[\"ندارد\"]</td>\n",
              "      <td>recommended</td>\n",
              "      <td>NaN</td>\n",
              "      <td>واقعاً عالیه سلام، قبل اینکه نظرم رو بگم میخوا...</td>\n",
              "      <td>واقعا عالیه سلام قبل اینکه نظرم رو بگم میخواست...</td>\n",
              "    </tr>\n",
              "    <tr>\n",
              "      <th>1</th>\n",
              "      <td>59473</td>\n",
              "      <td>یدک پولیشر میکروفایبر مهسان مدل 20119</td>\n",
              "      <td>626843</td>\n",
              "      <td>1</td>\n",
              "      <td>0</td>\n",
              "      <td>خیلی سخت حوله اش در میاد</td>\n",
              "      <td>گیره های فلزی خیلی سخت تا میشوند و لذا حوله را...</td>\n",
              "      <td></td>\n",
              "      <td></td>\n",
              "      <td>not_recommended</td>\n",
              "      <td>NaN</td>\n",
              "      <td>خیلی سخت حوله اش در میاد گیره های فلزی خیلی سخ...</td>\n",
              "      <td>خیلی سخت حوله اش در میاد گیره های فلزی خیلی سخ...</td>\n",
              "    </tr>\n",
              "  </tbody>\n",
              "</table>\n",
              "</div>\n",
              "      <button class=\"colab-df-convert\" onclick=\"convertToInteractive('df-6ad12b54-8973-4ef0-b91d-db0a64431c30')\"\n",
              "              title=\"Convert this dataframe to an interactive table.\"\n",
              "              style=\"display:none;\">\n",
              "        \n",
              "  <svg xmlns=\"http://www.w3.org/2000/svg\" height=\"24px\"viewBox=\"0 0 24 24\"\n",
              "       width=\"24px\">\n",
              "    <path d=\"M0 0h24v24H0V0z\" fill=\"none\"/>\n",
              "    <path d=\"M18.56 5.44l.94 2.06.94-2.06 2.06-.94-2.06-.94-.94-2.06-.94 2.06-2.06.94zm-11 1L8.5 8.5l.94-2.06 2.06-.94-2.06-.94L8.5 2.5l-.94 2.06-2.06.94zm10 10l.94 2.06.94-2.06 2.06-.94-2.06-.94-.94-2.06-.94 2.06-2.06.94z\"/><path d=\"M17.41 7.96l-1.37-1.37c-.4-.4-.92-.59-1.43-.59-.52 0-1.04.2-1.43.59L10.3 9.45l-7.72 7.72c-.78.78-.78 2.05 0 2.83L4 21.41c.39.39.9.59 1.41.59.51 0 1.02-.2 1.41-.59l7.78-7.78 2.81-2.81c.8-.78.8-2.07 0-2.86zM5.41 20L4 18.59l7.72-7.72 1.47 1.35L5.41 20z\"/>\n",
              "  </svg>\n",
              "      </button>\n",
              "      \n",
              "  <style>\n",
              "    .colab-df-container {\n",
              "      display:flex;\n",
              "      flex-wrap:wrap;\n",
              "      gap: 12px;\n",
              "    }\n",
              "\n",
              "    .colab-df-convert {\n",
              "      background-color: #E8F0FE;\n",
              "      border: none;\n",
              "      border-radius: 50%;\n",
              "      cursor: pointer;\n",
              "      display: none;\n",
              "      fill: #1967D2;\n",
              "      height: 32px;\n",
              "      padding: 0 0 0 0;\n",
              "      width: 32px;\n",
              "    }\n",
              "\n",
              "    .colab-df-convert:hover {\n",
              "      background-color: #E2EBFA;\n",
              "      box-shadow: 0px 1px 2px rgba(60, 64, 67, 0.3), 0px 1px 3px 1px rgba(60, 64, 67, 0.15);\n",
              "      fill: #174EA6;\n",
              "    }\n",
              "\n",
              "    [theme=dark] .colab-df-convert {\n",
              "      background-color: #3B4455;\n",
              "      fill: #D2E3FC;\n",
              "    }\n",
              "\n",
              "    [theme=dark] .colab-df-convert:hover {\n",
              "      background-color: #434B5C;\n",
              "      box-shadow: 0px 1px 3px 1px rgba(0, 0, 0, 0.15);\n",
              "      filter: drop-shadow(0px 1px 2px rgba(0, 0, 0, 0.3));\n",
              "      fill: #FFFFFF;\n",
              "    }\n",
              "  </style>\n",
              "\n",
              "      <script>\n",
              "        const buttonEl =\n",
              "          document.querySelector('#df-6ad12b54-8973-4ef0-b91d-db0a64431c30 button.colab-df-convert');\n",
              "        buttonEl.style.display =\n",
              "          google.colab.kernel.accessAllowed ? 'block' : 'none';\n",
              "\n",
              "        async function convertToInteractive(key) {\n",
              "          const element = document.querySelector('#df-6ad12b54-8973-4ef0-b91d-db0a64431c30');\n",
              "          const dataTable =\n",
              "            await google.colab.kernel.invokeFunction('convertToInteractive',\n",
              "                                                     [key], {});\n",
              "          if (!dataTable) return;\n",
              "\n",
              "          const docLinkHtml = 'Like what you see? Visit the ' +\n",
              "            '<a target=\"_blank\" href=https://colab.research.google.com/notebooks/data_table.ipynb>data table notebook</a>'\n",
              "            + ' to learn more about interactive tables.';\n",
              "          element.innerHTML = '';\n",
              "          dataTable['output_type'] = 'display_data';\n",
              "          await google.colab.output.renderOutput(dataTable, element);\n",
              "          const docLink = document.createElement('div');\n",
              "          docLink.innerHTML = docLinkHtml;\n",
              "          element.appendChild(docLink);\n",
              "        }\n",
              "      </script>\n",
              "    </div>\n",
              "  </div>\n",
              "  "
            ],
            "text/plain": [
              "   product_id  ...                                    cleaned_comment\n",
              "0       90213  ...  واقعا عالیه سلام قبل اینکه نظرم رو بگم میخواست...\n",
              "1       59473  ...  خیلی سخت حوله اش در میاد گیره های فلزی خیلی سخ...\n",
              "\n",
              "[2 rows x 13 columns]"
            ]
          },
          "metadata": {},
          "execution_count": 159
        }
      ],
      "source": [
        "data['cleaned_comment'] = data['title_comment'].apply(cleaning)\n",
        "data.head(2)"
      ]
    },
    {
      "cell_type": "code",
      "execution_count": null,
      "metadata": {
        "colab": {
          "base_uri": "https://localhost:8080/"
        },
        "id": "tFEmxsJ2M8fa",
        "outputId": "9fb75c6f-e8a1-4001-f6ed-f5675c641a92"
      },
      "outputs": [
        {
          "output_type": "execute_result",
          "data": {
            "text/plain": [
              "15    هدفون شیائومی مدل Quantie با سلام  من  این محص...\n",
              "15    لامپ ال ای دی من 10 تا ازینا گرفتم . یکیش توی ...\n",
              "Name: title_comment, dtype: object"
            ]
          },
          "metadata": {},
          "execution_count": 160
        }
      ],
      "source": [
        "data['title_comment'][15]"
      ]
    },
    {
      "cell_type": "code",
      "execution_count": null,
      "metadata": {
        "colab": {
          "base_uri": "https://localhost:8080/"
        },
        "id": "Ip_pDonIo282",
        "outputId": "3a0d4b2a-90b5-48e6-caa5-fb1e4912c169"
      },
      "outputs": [
        {
          "output_type": "execute_result",
          "data": {
            "text/plain": [
              "15    هدفون شیائومی مدل Quantie با سلام من این محصول...\n",
              "15    لامپ ال ای دی من 1 تا ازینا گرفتم یکیش توی دوم...\n",
              "Name: cleaned_comment, dtype: object"
            ]
          },
          "metadata": {},
          "execution_count": 161
        }
      ],
      "source": [
        "data['cleaned_comment'][15]"
      ]
    },
    {
      "cell_type": "code",
      "execution_count": null,
      "metadata": {
        "id": "V5B2CPskvMya"
      },
      "outputs": [],
      "source": [
        "def toknize_hazm(text):\n",
        "  return tokenizer.tokenize(text)"
      ]
    },
    {
      "cell_type": "code",
      "execution_count": null,
      "metadata": {
        "id": "yeX5J7CAu2NF"
      },
      "outputs": [],
      "source": [
        "def lemmatized_and_remove_stopwords(tokens):\n",
        "  lemmatized = [lemmatizer.lemmatize(w) for w in tokens]\n",
        "  lemmatized = [w.split('#')[0] for w in lemmatized]\n",
        "  return [w for w in lemmatized if (not w in stopwords and (not w == ''))]"
      ]
    },
    {
      "cell_type": "code",
      "execution_count": null,
      "metadata": {
        "id": "Xi5TTku_wzfA"
      },
      "outputs": [],
      "source": [
        "def lemmatized_and_remove_stopwords(tokens):\n",
        "  lemmatized = [lemmatizer.lemmatize(w) for w in tokens]\n",
        "  lemmatized = [w.split('#')[0] for w in lemmatized]\n",
        "  return lemmatized"
      ]
    },
    {
      "cell_type": "code",
      "execution_count": null,
      "metadata": {
        "colab": {
          "base_uri": "https://localhost:8080/"
        },
        "id": "ypI5pVGvvZLK",
        "outputId": "cf6d6945-c4f0-48db-9316-bd4553f5ec07"
      },
      "outputs": [
        {
          "output_type": "execute_result",
          "data": {
            "text/html": [
              "\n",
              "  <div id=\"df-13110dde-8873-4dbc-b698-b3df5ed0b1bc\">\n",
              "    <div class=\"colab-df-container\">\n",
              "      <div>\n",
              "<style scoped>\n",
              "    .dataframe tbody tr th:only-of-type {\n",
              "        vertical-align: middle;\n",
              "    }\n",
              "\n",
              "    .dataframe tbody tr th {\n",
              "        vertical-align: top;\n",
              "    }\n",
              "\n",
              "    .dataframe thead th {\n",
              "        text-align: right;\n",
              "    }\n",
              "</style>\n",
              "<table border=\"1\" class=\"dataframe\">\n",
              "  <thead>\n",
              "    <tr style=\"text-align: right;\">\n",
              "      <th></th>\n",
              "      <th>product_id</th>\n",
              "      <th>product_title</th>\n",
              "      <th>user_id</th>\n",
              "      <th>likes</th>\n",
              "      <th>dislikes</th>\n",
              "      <th>title</th>\n",
              "      <th>comment</th>\n",
              "      <th>advantages</th>\n",
              "      <th>disadvantages</th>\n",
              "      <th>recommend</th>\n",
              "      <th>id</th>\n",
              "      <th>title_comment</th>\n",
              "      <th>cleaned_comment</th>\n",
              "      <th>cleaned_comment_tokens</th>\n",
              "    </tr>\n",
              "  </thead>\n",
              "  <tbody>\n",
              "    <tr>\n",
              "      <th>0</th>\n",
              "      <td>90213</td>\n",
              "      <td>شارژر همراه شیاومی مدل NDY-02-AN با ظرفیت 1000...</td>\n",
              "      <td>3862150</td>\n",
              "      <td>4</td>\n",
              "      <td>1</td>\n",
              "      <td>واقعاً عالیه</td>\n",
              "      <td>سلام، قبل اینکه نظرم رو بگم میخواستم به یک موض...</td>\n",
              "      <td>[\"عمر طولانی\\r\",\"افت بسیار کم میزان شارژ\\r\",\"ا...</td>\n",
              "      <td>[\"ندارد\"]</td>\n",
              "      <td>recommended</td>\n",
              "      <td>NaN</td>\n",
              "      <td>واقعاً عالیه سلام، قبل اینکه نظرم رو بگم میخوا...</td>\n",
              "      <td>واقعا عالیه سلام قبل اینکه نظرم رو بگم میخواست...</td>\n",
              "      <td>[واقعا, عالیه, سلام, قبل, اینکه, نظرم, رو, بگم...</td>\n",
              "    </tr>\n",
              "    <tr>\n",
              "      <th>1</th>\n",
              "      <td>59473</td>\n",
              "      <td>یدک پولیشر میکروفایبر مهسان مدل 20119</td>\n",
              "      <td>626843</td>\n",
              "      <td>1</td>\n",
              "      <td>0</td>\n",
              "      <td>خیلی سخت حوله اش در میاد</td>\n",
              "      <td>گیره های فلزی خیلی سخت تا میشوند و لذا حوله را...</td>\n",
              "      <td></td>\n",
              "      <td></td>\n",
              "      <td>not_recommended</td>\n",
              "      <td>NaN</td>\n",
              "      <td>خیلی سخت حوله اش در میاد گیره های فلزی خیلی سخ...</td>\n",
              "      <td>خیلی سخت حوله اش در میاد گیره های فلزی خیلی سخ...</td>\n",
              "      <td>[خیلی, سخت, حوله, اش, در, میاد, گیره, های, فلز...</td>\n",
              "    </tr>\n",
              "  </tbody>\n",
              "</table>\n",
              "</div>\n",
              "      <button class=\"colab-df-convert\" onclick=\"convertToInteractive('df-13110dde-8873-4dbc-b698-b3df5ed0b1bc')\"\n",
              "              title=\"Convert this dataframe to an interactive table.\"\n",
              "              style=\"display:none;\">\n",
              "        \n",
              "  <svg xmlns=\"http://www.w3.org/2000/svg\" height=\"24px\"viewBox=\"0 0 24 24\"\n",
              "       width=\"24px\">\n",
              "    <path d=\"M0 0h24v24H0V0z\" fill=\"none\"/>\n",
              "    <path d=\"M18.56 5.44l.94 2.06.94-2.06 2.06-.94-2.06-.94-.94-2.06-.94 2.06-2.06.94zm-11 1L8.5 8.5l.94-2.06 2.06-.94-2.06-.94L8.5 2.5l-.94 2.06-2.06.94zm10 10l.94 2.06.94-2.06 2.06-.94-2.06-.94-.94-2.06-.94 2.06-2.06.94z\"/><path d=\"M17.41 7.96l-1.37-1.37c-.4-.4-.92-.59-1.43-.59-.52 0-1.04.2-1.43.59L10.3 9.45l-7.72 7.72c-.78.78-.78 2.05 0 2.83L4 21.41c.39.39.9.59 1.41.59.51 0 1.02-.2 1.41-.59l7.78-7.78 2.81-2.81c.8-.78.8-2.07 0-2.86zM5.41 20L4 18.59l7.72-7.72 1.47 1.35L5.41 20z\"/>\n",
              "  </svg>\n",
              "      </button>\n",
              "      \n",
              "  <style>\n",
              "    .colab-df-container {\n",
              "      display:flex;\n",
              "      flex-wrap:wrap;\n",
              "      gap: 12px;\n",
              "    }\n",
              "\n",
              "    .colab-df-convert {\n",
              "      background-color: #E8F0FE;\n",
              "      border: none;\n",
              "      border-radius: 50%;\n",
              "      cursor: pointer;\n",
              "      display: none;\n",
              "      fill: #1967D2;\n",
              "      height: 32px;\n",
              "      padding: 0 0 0 0;\n",
              "      width: 32px;\n",
              "    }\n",
              "\n",
              "    .colab-df-convert:hover {\n",
              "      background-color: #E2EBFA;\n",
              "      box-shadow: 0px 1px 2px rgba(60, 64, 67, 0.3), 0px 1px 3px 1px rgba(60, 64, 67, 0.15);\n",
              "      fill: #174EA6;\n",
              "    }\n",
              "\n",
              "    [theme=dark] .colab-df-convert {\n",
              "      background-color: #3B4455;\n",
              "      fill: #D2E3FC;\n",
              "    }\n",
              "\n",
              "    [theme=dark] .colab-df-convert:hover {\n",
              "      background-color: #434B5C;\n",
              "      box-shadow: 0px 1px 3px 1px rgba(0, 0, 0, 0.15);\n",
              "      filter: drop-shadow(0px 1px 2px rgba(0, 0, 0, 0.3));\n",
              "      fill: #FFFFFF;\n",
              "    }\n",
              "  </style>\n",
              "\n",
              "      <script>\n",
              "        const buttonEl =\n",
              "          document.querySelector('#df-13110dde-8873-4dbc-b698-b3df5ed0b1bc button.colab-df-convert');\n",
              "        buttonEl.style.display =\n",
              "          google.colab.kernel.accessAllowed ? 'block' : 'none';\n",
              "\n",
              "        async function convertToInteractive(key) {\n",
              "          const element = document.querySelector('#df-13110dde-8873-4dbc-b698-b3df5ed0b1bc');\n",
              "          const dataTable =\n",
              "            await google.colab.kernel.invokeFunction('convertToInteractive',\n",
              "                                                     [key], {});\n",
              "          if (!dataTable) return;\n",
              "\n",
              "          const docLinkHtml = 'Like what you see? Visit the ' +\n",
              "            '<a target=\"_blank\" href=https://colab.research.google.com/notebooks/data_table.ipynb>data table notebook</a>'\n",
              "            + ' to learn more about interactive tables.';\n",
              "          element.innerHTML = '';\n",
              "          dataTable['output_type'] = 'display_data';\n",
              "          await google.colab.output.renderOutput(dataTable, element);\n",
              "          const docLink = document.createElement('div');\n",
              "          docLink.innerHTML = docLinkHtml;\n",
              "          element.appendChild(docLink);\n",
              "        }\n",
              "      </script>\n",
              "    </div>\n",
              "  </div>\n",
              "  "
            ],
            "text/plain": [
              "   product_id  ...                             cleaned_comment_tokens\n",
              "0       90213  ...  [واقعا, عالیه, سلام, قبل, اینکه, نظرم, رو, بگم...\n",
              "1       59473  ...  [خیلی, سخت, حوله, اش, در, میاد, گیره, های, فلز...\n",
              "\n",
              "[2 rows x 14 columns]"
            ]
          },
          "metadata": {},
          "execution_count": 165
        }
      ],
      "source": [
        "data['cleaned_comment_tokens'] = data['cleaned_comment'].apply(toknize_hazm)\n",
        "data.head(2)"
      ]
    },
    {
      "cell_type": "code",
      "execution_count": null,
      "metadata": {
        "colab": {
          "base_uri": "https://localhost:8080/"
        },
        "id": "h9zEE8ikzaZs",
        "outputId": "9f8845e7-eaff-4a68-a74c-79bc6772d341"
      },
      "outputs": [
        {
          "output_type": "execute_result",
          "data": {
            "text/html": [
              "\n",
              "  <div id=\"df-f03a10b0-1640-4065-b76c-f6d257cced09\">\n",
              "    <div class=\"colab-df-container\">\n",
              "      <div>\n",
              "<style scoped>\n",
              "    .dataframe tbody tr th:only-of-type {\n",
              "        vertical-align: middle;\n",
              "    }\n",
              "\n",
              "    .dataframe tbody tr th {\n",
              "        vertical-align: top;\n",
              "    }\n",
              "\n",
              "    .dataframe thead th {\n",
              "        text-align: right;\n",
              "    }\n",
              "</style>\n",
              "<table border=\"1\" class=\"dataframe\">\n",
              "  <thead>\n",
              "    <tr style=\"text-align: right;\">\n",
              "      <th></th>\n",
              "      <th>product_id</th>\n",
              "      <th>product_title</th>\n",
              "      <th>user_id</th>\n",
              "      <th>likes</th>\n",
              "      <th>dislikes</th>\n",
              "      <th>title</th>\n",
              "      <th>comment</th>\n",
              "      <th>advantages</th>\n",
              "      <th>disadvantages</th>\n",
              "      <th>recommend</th>\n",
              "      <th>id</th>\n",
              "      <th>title_comment</th>\n",
              "      <th>cleaned_comment</th>\n",
              "      <th>cleaned_comment_tokens</th>\n",
              "      <th>cleaned_comment_tokens_non_stops</th>\n",
              "    </tr>\n",
              "  </thead>\n",
              "  <tbody>\n",
              "    <tr>\n",
              "      <th>0</th>\n",
              "      <td>90213</td>\n",
              "      <td>شارژر همراه شیاومی مدل NDY-02-AN با ظرفیت 1000...</td>\n",
              "      <td>3862150</td>\n",
              "      <td>4</td>\n",
              "      <td>1</td>\n",
              "      <td>واقعاً عالیه</td>\n",
              "      <td>سلام، قبل اینکه نظرم رو بگم میخواستم به یک موض...</td>\n",
              "      <td>[\"عمر طولانی\\r\",\"افت بسیار کم میزان شارژ\\r\",\"ا...</td>\n",
              "      <td>[\"ندارد\"]</td>\n",
              "      <td>recommended</td>\n",
              "      <td>NaN</td>\n",
              "      <td>واقعاً عالیه سلام، قبل اینکه نظرم رو بگم میخوا...</td>\n",
              "      <td>واقعا عالیه سلام قبل اینکه نظرم رو بگم میخواست...</td>\n",
              "      <td>[واقعا, عالیه, سلام, قبل, اینکه, نظرم, رو, بگم...</td>\n",
              "      <td>[واقعا, عالیه, سلام, قبل, اینکه, نظرم, رو, بگم...</td>\n",
              "    </tr>\n",
              "    <tr>\n",
              "      <th>1</th>\n",
              "      <td>59473</td>\n",
              "      <td>یدک پولیشر میکروفایبر مهسان مدل 20119</td>\n",
              "      <td>626843</td>\n",
              "      <td>1</td>\n",
              "      <td>0</td>\n",
              "      <td>خیلی سخت حوله اش در میاد</td>\n",
              "      <td>گیره های فلزی خیلی سخت تا میشوند و لذا حوله را...</td>\n",
              "      <td></td>\n",
              "      <td></td>\n",
              "      <td>not_recommended</td>\n",
              "      <td>NaN</td>\n",
              "      <td>خیلی سخت حوله اش در میاد گیره های فلزی خیلی سخ...</td>\n",
              "      <td>خیلی سخت حوله اش در میاد گیره های فلزی خیلی سخ...</td>\n",
              "      <td>[خیلی, سخت, حوله, اش, در, میاد, گیره, های, فلز...</td>\n",
              "      <td>[خیلی, سخت, حوله, اش, در, میاد, گیره, های, فلز...</td>\n",
              "    </tr>\n",
              "  </tbody>\n",
              "</table>\n",
              "</div>\n",
              "      <button class=\"colab-df-convert\" onclick=\"convertToInteractive('df-f03a10b0-1640-4065-b76c-f6d257cced09')\"\n",
              "              title=\"Convert this dataframe to an interactive table.\"\n",
              "              style=\"display:none;\">\n",
              "        \n",
              "  <svg xmlns=\"http://www.w3.org/2000/svg\" height=\"24px\"viewBox=\"0 0 24 24\"\n",
              "       width=\"24px\">\n",
              "    <path d=\"M0 0h24v24H0V0z\" fill=\"none\"/>\n",
              "    <path d=\"M18.56 5.44l.94 2.06.94-2.06 2.06-.94-2.06-.94-.94-2.06-.94 2.06-2.06.94zm-11 1L8.5 8.5l.94-2.06 2.06-.94-2.06-.94L8.5 2.5l-.94 2.06-2.06.94zm10 10l.94 2.06.94-2.06 2.06-.94-2.06-.94-.94-2.06-.94 2.06-2.06.94z\"/><path d=\"M17.41 7.96l-1.37-1.37c-.4-.4-.92-.59-1.43-.59-.52 0-1.04.2-1.43.59L10.3 9.45l-7.72 7.72c-.78.78-.78 2.05 0 2.83L4 21.41c.39.39.9.59 1.41.59.51 0 1.02-.2 1.41-.59l7.78-7.78 2.81-2.81c.8-.78.8-2.07 0-2.86zM5.41 20L4 18.59l7.72-7.72 1.47 1.35L5.41 20z\"/>\n",
              "  </svg>\n",
              "      </button>\n",
              "      \n",
              "  <style>\n",
              "    .colab-df-container {\n",
              "      display:flex;\n",
              "      flex-wrap:wrap;\n",
              "      gap: 12px;\n",
              "    }\n",
              "\n",
              "    .colab-df-convert {\n",
              "      background-color: #E8F0FE;\n",
              "      border: none;\n",
              "      border-radius: 50%;\n",
              "      cursor: pointer;\n",
              "      display: none;\n",
              "      fill: #1967D2;\n",
              "      height: 32px;\n",
              "      padding: 0 0 0 0;\n",
              "      width: 32px;\n",
              "    }\n",
              "\n",
              "    .colab-df-convert:hover {\n",
              "      background-color: #E2EBFA;\n",
              "      box-shadow: 0px 1px 2px rgba(60, 64, 67, 0.3), 0px 1px 3px 1px rgba(60, 64, 67, 0.15);\n",
              "      fill: #174EA6;\n",
              "    }\n",
              "\n",
              "    [theme=dark] .colab-df-convert {\n",
              "      background-color: #3B4455;\n",
              "      fill: #D2E3FC;\n",
              "    }\n",
              "\n",
              "    [theme=dark] .colab-df-convert:hover {\n",
              "      background-color: #434B5C;\n",
              "      box-shadow: 0px 1px 3px 1px rgba(0, 0, 0, 0.15);\n",
              "      filter: drop-shadow(0px 1px 2px rgba(0, 0, 0, 0.3));\n",
              "      fill: #FFFFFF;\n",
              "    }\n",
              "  </style>\n",
              "\n",
              "      <script>\n",
              "        const buttonEl =\n",
              "          document.querySelector('#df-f03a10b0-1640-4065-b76c-f6d257cced09 button.colab-df-convert');\n",
              "        buttonEl.style.display =\n",
              "          google.colab.kernel.accessAllowed ? 'block' : 'none';\n",
              "\n",
              "        async function convertToInteractive(key) {\n",
              "          const element = document.querySelector('#df-f03a10b0-1640-4065-b76c-f6d257cced09');\n",
              "          const dataTable =\n",
              "            await google.colab.kernel.invokeFunction('convertToInteractive',\n",
              "                                                     [key], {});\n",
              "          if (!dataTable) return;\n",
              "\n",
              "          const docLinkHtml = 'Like what you see? Visit the ' +\n",
              "            '<a target=\"_blank\" href=https://colab.research.google.com/notebooks/data_table.ipynb>data table notebook</a>'\n",
              "            + ' to learn more about interactive tables.';\n",
              "          element.innerHTML = '';\n",
              "          dataTable['output_type'] = 'display_data';\n",
              "          await google.colab.output.renderOutput(dataTable, element);\n",
              "          const docLink = document.createElement('div');\n",
              "          docLink.innerHTML = docLinkHtml;\n",
              "          element.appendChild(docLink);\n",
              "        }\n",
              "      </script>\n",
              "    </div>\n",
              "  </div>\n",
              "  "
            ],
            "text/plain": [
              "   product_id  ...                   cleaned_comment_tokens_non_stops\n",
              "0       90213  ...  [واقعا, عالیه, سلام, قبل, اینکه, نظرم, رو, بگم...\n",
              "1       59473  ...  [خیلی, سخت, حوله, اش, در, میاد, گیره, های, فلز...\n",
              "\n",
              "[2 rows x 15 columns]"
            ]
          },
          "metadata": {},
          "execution_count": 166
        }
      ],
      "source": [
        "# data['cleaned_comment_tokens_non_stops'] = data['cleaned_comment_tokens'].apply(lemmatized_and_remove_stopwords)\n",
        "data['cleaned_comment_tokens_non_stops'] = data['cleaned_comment_tokens']\n",
        "data.head(2)"
      ]
    },
    {
      "cell_type": "code",
      "execution_count": null,
      "metadata": {
        "id": "zC7om-xK7kms"
      },
      "outputs": [],
      "source": [
        "def concater(l_t):\n",
        "  text = ''\n",
        "  for t in l_t:\n",
        "    text += t + ' '\n",
        "  text = text.strip()\n",
        "  return text"
      ]
    },
    {
      "cell_type": "code",
      "execution_count": null,
      "metadata": {
        "colab": {
          "base_uri": "https://localhost:8080/"
        },
        "id": "EV0BrNbc74AF",
        "outputId": "89ad7c8d-eb5b-4e0a-cad4-a98da0fcffee"
      },
      "outputs": [
        {
          "output_type": "execute_result",
          "data": {
            "text/html": [
              "\n",
              "  <div id=\"df-0c61ad74-429f-4818-ac98-4e8c5cc891fb\">\n",
              "    <div class=\"colab-df-container\">\n",
              "      <div>\n",
              "<style scoped>\n",
              "    .dataframe tbody tr th:only-of-type {\n",
              "        vertical-align: middle;\n",
              "    }\n",
              "\n",
              "    .dataframe tbody tr th {\n",
              "        vertical-align: top;\n",
              "    }\n",
              "\n",
              "    .dataframe thead th {\n",
              "        text-align: right;\n",
              "    }\n",
              "</style>\n",
              "<table border=\"1\" class=\"dataframe\">\n",
              "  <thead>\n",
              "    <tr style=\"text-align: right;\">\n",
              "      <th></th>\n",
              "      <th>product_id</th>\n",
              "      <th>product_title</th>\n",
              "      <th>user_id</th>\n",
              "      <th>likes</th>\n",
              "      <th>dislikes</th>\n",
              "      <th>title</th>\n",
              "      <th>comment</th>\n",
              "      <th>advantages</th>\n",
              "      <th>disadvantages</th>\n",
              "      <th>recommend</th>\n",
              "      <th>id</th>\n",
              "      <th>title_comment</th>\n",
              "      <th>cleaned_comment</th>\n",
              "      <th>cleaned_comment_tokens</th>\n",
              "      <th>cleaned_comment_tokens_non_stops</th>\n",
              "      <th>cleaned</th>\n",
              "    </tr>\n",
              "  </thead>\n",
              "  <tbody>\n",
              "    <tr>\n",
              "      <th>0</th>\n",
              "      <td>90213</td>\n",
              "      <td>شارژر همراه شیاومی مدل NDY-02-AN با ظرفیت 1000...</td>\n",
              "      <td>3862150</td>\n",
              "      <td>4</td>\n",
              "      <td>1</td>\n",
              "      <td>واقعاً عالیه</td>\n",
              "      <td>سلام، قبل اینکه نظرم رو بگم میخواستم به یک موض...</td>\n",
              "      <td>[\"عمر طولانی\\r\",\"افت بسیار کم میزان شارژ\\r\",\"ا...</td>\n",
              "      <td>[\"ندارد\"]</td>\n",
              "      <td>recommended</td>\n",
              "      <td>NaN</td>\n",
              "      <td>واقعاً عالیه سلام، قبل اینکه نظرم رو بگم میخوا...</td>\n",
              "      <td>واقعا عالیه سلام قبل اینکه نظرم رو بگم میخواست...</td>\n",
              "      <td>[واقعا, عالیه, سلام, قبل, اینکه, نظرم, رو, بگم...</td>\n",
              "      <td>[واقعا, عالیه, سلام, قبل, اینکه, نظرم, رو, بگم...</td>\n",
              "      <td>واقعا عالیه سلام قبل اینکه نظرم رو بگم میخواست...</td>\n",
              "    </tr>\n",
              "    <tr>\n",
              "      <th>1</th>\n",
              "      <td>59473</td>\n",
              "      <td>یدک پولیشر میکروفایبر مهسان مدل 20119</td>\n",
              "      <td>626843</td>\n",
              "      <td>1</td>\n",
              "      <td>0</td>\n",
              "      <td>خیلی سخت حوله اش در میاد</td>\n",
              "      <td>گیره های فلزی خیلی سخت تا میشوند و لذا حوله را...</td>\n",
              "      <td></td>\n",
              "      <td></td>\n",
              "      <td>not_recommended</td>\n",
              "      <td>NaN</td>\n",
              "      <td>خیلی سخت حوله اش در میاد گیره های فلزی خیلی سخ...</td>\n",
              "      <td>خیلی سخت حوله اش در میاد گیره های فلزی خیلی سخ...</td>\n",
              "      <td>[خیلی, سخت, حوله, اش, در, میاد, گیره, های, فلز...</td>\n",
              "      <td>[خیلی, سخت, حوله, اش, در, میاد, گیره, های, فلز...</td>\n",
              "      <td>خیلی سخت حوله اش در میاد گیره های فلزی خیلی سخ...</td>\n",
              "    </tr>\n",
              "  </tbody>\n",
              "</table>\n",
              "</div>\n",
              "      <button class=\"colab-df-convert\" onclick=\"convertToInteractive('df-0c61ad74-429f-4818-ac98-4e8c5cc891fb')\"\n",
              "              title=\"Convert this dataframe to an interactive table.\"\n",
              "              style=\"display:none;\">\n",
              "        \n",
              "  <svg xmlns=\"http://www.w3.org/2000/svg\" height=\"24px\"viewBox=\"0 0 24 24\"\n",
              "       width=\"24px\">\n",
              "    <path d=\"M0 0h24v24H0V0z\" fill=\"none\"/>\n",
              "    <path d=\"M18.56 5.44l.94 2.06.94-2.06 2.06-.94-2.06-.94-.94-2.06-.94 2.06-2.06.94zm-11 1L8.5 8.5l.94-2.06 2.06-.94-2.06-.94L8.5 2.5l-.94 2.06-2.06.94zm10 10l.94 2.06.94-2.06 2.06-.94-2.06-.94-.94-2.06-.94 2.06-2.06.94z\"/><path d=\"M17.41 7.96l-1.37-1.37c-.4-.4-.92-.59-1.43-.59-.52 0-1.04.2-1.43.59L10.3 9.45l-7.72 7.72c-.78.78-.78 2.05 0 2.83L4 21.41c.39.39.9.59 1.41.59.51 0 1.02-.2 1.41-.59l7.78-7.78 2.81-2.81c.8-.78.8-2.07 0-2.86zM5.41 20L4 18.59l7.72-7.72 1.47 1.35L5.41 20z\"/>\n",
              "  </svg>\n",
              "      </button>\n",
              "      \n",
              "  <style>\n",
              "    .colab-df-container {\n",
              "      display:flex;\n",
              "      flex-wrap:wrap;\n",
              "      gap: 12px;\n",
              "    }\n",
              "\n",
              "    .colab-df-convert {\n",
              "      background-color: #E8F0FE;\n",
              "      border: none;\n",
              "      border-radius: 50%;\n",
              "      cursor: pointer;\n",
              "      display: none;\n",
              "      fill: #1967D2;\n",
              "      height: 32px;\n",
              "      padding: 0 0 0 0;\n",
              "      width: 32px;\n",
              "    }\n",
              "\n",
              "    .colab-df-convert:hover {\n",
              "      background-color: #E2EBFA;\n",
              "      box-shadow: 0px 1px 2px rgba(60, 64, 67, 0.3), 0px 1px 3px 1px rgba(60, 64, 67, 0.15);\n",
              "      fill: #174EA6;\n",
              "    }\n",
              "\n",
              "    [theme=dark] .colab-df-convert {\n",
              "      background-color: #3B4455;\n",
              "      fill: #D2E3FC;\n",
              "    }\n",
              "\n",
              "    [theme=dark] .colab-df-convert:hover {\n",
              "      background-color: #434B5C;\n",
              "      box-shadow: 0px 1px 3px 1px rgba(0, 0, 0, 0.15);\n",
              "      filter: drop-shadow(0px 1px 2px rgba(0, 0, 0, 0.3));\n",
              "      fill: #FFFFFF;\n",
              "    }\n",
              "  </style>\n",
              "\n",
              "      <script>\n",
              "        const buttonEl =\n",
              "          document.querySelector('#df-0c61ad74-429f-4818-ac98-4e8c5cc891fb button.colab-df-convert');\n",
              "        buttonEl.style.display =\n",
              "          google.colab.kernel.accessAllowed ? 'block' : 'none';\n",
              "\n",
              "        async function convertToInteractive(key) {\n",
              "          const element = document.querySelector('#df-0c61ad74-429f-4818-ac98-4e8c5cc891fb');\n",
              "          const dataTable =\n",
              "            await google.colab.kernel.invokeFunction('convertToInteractive',\n",
              "                                                     [key], {});\n",
              "          if (!dataTable) return;\n",
              "\n",
              "          const docLinkHtml = 'Like what you see? Visit the ' +\n",
              "            '<a target=\"_blank\" href=https://colab.research.google.com/notebooks/data_table.ipynb>data table notebook</a>'\n",
              "            + ' to learn more about interactive tables.';\n",
              "          element.innerHTML = '';\n",
              "          dataTable['output_type'] = 'display_data';\n",
              "          await google.colab.output.renderOutput(dataTable, element);\n",
              "          const docLink = document.createElement('div');\n",
              "          docLink.innerHTML = docLinkHtml;\n",
              "          element.appendChild(docLink);\n",
              "        }\n",
              "      </script>\n",
              "    </div>\n",
              "  </div>\n",
              "  "
            ],
            "text/plain": [
              "   product_id  ...                                            cleaned\n",
              "0       90213  ...  واقعا عالیه سلام قبل اینکه نظرم رو بگم میخواست...\n",
              "1       59473  ...  خیلی سخت حوله اش در میاد گیره های فلزی خیلی سخ...\n",
              "\n",
              "[2 rows x 16 columns]"
            ]
          },
          "metadata": {},
          "execution_count": 168
        }
      ],
      "source": [
        "data['cleaned'] = data['cleaned_comment_tokens_non_stops'].apply(concater)\n",
        "data.head(2)"
      ]
    },
    {
      "cell_type": "code",
      "execution_count": null,
      "metadata": {
        "colab": {
          "base_uri": "https://localhost:8080/"
        },
        "id": "GL4SWbcS8iAc",
        "outputId": "790d2586-463a-48e3-e807-2d1a80cc3c37"
      },
      "outputs": [
        {
          "output_type": "execute_result",
          "data": {
            "application/vnd.google.colaboratory.intrinsic+json": {
              "type": "string"
            },
            "text/plain": [
              "'Huawei Mate 8 آپدیت دو سال و نیم گذشت از خریدم بهترین گوشی بود که تا به حال داشتم هیچ مشکلی نداشت و برای هر نوع کارایی مناسب بود این گوشی من رو طرفدار هواووی کرد سرعت بالا دوربین بسیار خوب و از همه مهمتر باتری که حتی بعد از دو سال هنوز بهتر از گوشی نو جوابگو بود بارها و بارها ار دستم افتاد اما کوچکترین خش یا آسیبی ندید بدون کاور فقط متاسفانه به خاطر سیستم عامل قدیمیش که دیگه آپدیت نمیشد مجبور به خرید نوا 3 شدم که الان مقایسه میکنم باز میت 8 خیلی خیلی بهتر بود '"
            ]
          },
          "metadata": {},
          "execution_count": 169
        }
      ],
      "source": [
        "data['cleaned_comment'].iloc[10]"
      ]
    },
    {
      "cell_type": "code",
      "execution_count": null,
      "metadata": {
        "colab": {
          "base_uri": "https://localhost:8080/"
        },
        "id": "vrFbLYwH8YjU",
        "outputId": "7a830d4b-c5c0-4f3a-b8af-e923451af875"
      },
      "outputs": [
        {
          "output_type": "execute_result",
          "data": {
            "application/vnd.google.colaboratory.intrinsic+json": {
              "type": "string"
            },
            "text/plain": [
              "'خیلی سخت حوله اش در میاد گیره های فلزی خیلی سخت تا میشوند و لذا حوله را خیلی سخت می توان در آورد مهسان یه مدل دیگه داره که پلاستیکی هست و خیلی ساده و راحت خم می شود به نظرم تولید این طرح را باید متوقف کنن چون گیره های آهنی خیلی سفت هستن و وقتی می خواستم خمشون کنم پایه پلاستیکیش شکست و بلا استفاده شد'"
            ]
          },
          "metadata": {},
          "execution_count": 170
        }
      ],
      "source": [
        "data['cleaned'].iloc[1]"
      ]
    },
    {
      "cell_type": "code",
      "execution_count": null,
      "metadata": {
        "id": "DbhaYLu--eys"
      },
      "outputs": [],
      "source": [
        "data['recommend'] = 1 - pd.factorize(data['recommend'])[0]"
      ]
    },
    {
      "cell_type": "code",
      "execution_count": null,
      "metadata": {
        "id": "M0thB5SV7XXE"
      },
      "outputs": [],
      "source": [
        "train_y = data['recommend']"
      ]
    },
    {
      "cell_type": "markdown",
      "metadata": {
        "id": "V75CspC_YHsW"
      },
      "source": [
        "# **Creating Vocabulary!**"
      ]
    },
    {
      "cell_type": "code",
      "execution_count": null,
      "metadata": {
        "id": "gKqDJAeUXeAt"
      },
      "outputs": [],
      "source": [
        "vocab = []"
      ]
    },
    {
      "cell_type": "code",
      "execution_count": null,
      "metadata": {
        "id": "ebwbNTpnXgbF"
      },
      "outputs": [],
      "source": [
        "def create_vocab(text):\n",
        "  vocab.extend(text)"
      ]
    },
    {
      "cell_type": "code",
      "execution_count": null,
      "metadata": {
        "colab": {
          "base_uri": "https://localhost:8080/"
        },
        "id": "7T5-1kesXnHW",
        "outputId": "e84c06ea-23ed-4995-ee62-682503b853b7"
      },
      "outputs": [
        {
          "output_type": "execute_result",
          "data": {
            "text/plain": [
              "0       None\n",
              "1       None\n",
              "2       None\n",
              "3       None\n",
              "4       None\n",
              "        ... \n",
              "4995    None\n",
              "4996    None\n",
              "4997    None\n",
              "4998    None\n",
              "4999    None\n",
              "Name: cleaned_comment_tokens_non_stops, Length: 53082, dtype: object"
            ]
          },
          "metadata": {},
          "execution_count": 175
        }
      ],
      "source": [
        "data['cleaned_comment_tokens_non_stops'].apply(create_vocab)"
      ]
    },
    {
      "cell_type": "code",
      "execution_count": null,
      "metadata": {
        "id": "mkd6wjV-X53W"
      },
      "outputs": [],
      "source": [
        "vocab = set(vocab)"
      ]
    },
    {
      "cell_type": "code",
      "execution_count": null,
      "metadata": {
        "id": "5o_YsFJIYC0N"
      },
      "outputs": [],
      "source": [
        "vocab = list(vocab)"
      ]
    },
    {
      "cell_type": "code",
      "execution_count": null,
      "metadata": {
        "colab": {
          "base_uri": "https://localhost:8080/"
        },
        "id": "uaU9vxRfYFQ-",
        "outputId": "c1530248-54b4-4f86-88c1-cb772f76917a"
      },
      "outputs": [
        {
          "output_type": "execute_result",
          "data": {
            "text/plain": [
              "45960"
            ]
          },
          "metadata": {},
          "execution_count": 178
        }
      ],
      "source": [
        "len(vocab)"
      ]
    },
    {
      "cell_type": "code",
      "execution_count": null,
      "metadata": {
        "colab": {
          "base_uri": "https://localhost:8080/"
        },
        "id": "T-lyCAgsmjZd",
        "outputId": "527c3009-b12c-4513-ca7e-af2ad501147b"
      },
      "outputs": [
        {
          "output_type": "execute_result",
          "data": {
            "text/html": [
              "\n",
              "  <div id=\"df-623dd0cc-30f3-495b-894d-522cd897bdd8\">\n",
              "    <div class=\"colab-df-container\">\n",
              "      <div>\n",
              "<style scoped>\n",
              "    .dataframe tbody tr th:only-of-type {\n",
              "        vertical-align: middle;\n",
              "    }\n",
              "\n",
              "    .dataframe tbody tr th {\n",
              "        vertical-align: top;\n",
              "    }\n",
              "\n",
              "    .dataframe thead th {\n",
              "        text-align: right;\n",
              "    }\n",
              "</style>\n",
              "<table border=\"1\" class=\"dataframe\">\n",
              "  <thead>\n",
              "    <tr style=\"text-align: right;\">\n",
              "      <th></th>\n",
              "      <th>product_id</th>\n",
              "      <th>product_title</th>\n",
              "      <th>user_id</th>\n",
              "      <th>likes</th>\n",
              "      <th>dislikes</th>\n",
              "      <th>title</th>\n",
              "      <th>comment</th>\n",
              "      <th>advantages</th>\n",
              "      <th>disadvantages</th>\n",
              "      <th>recommend</th>\n",
              "      <th>id</th>\n",
              "      <th>title_comment</th>\n",
              "      <th>cleaned_comment</th>\n",
              "      <th>cleaned_comment_tokens</th>\n",
              "      <th>cleaned_comment_tokens_non_stops</th>\n",
              "      <th>cleaned</th>\n",
              "    </tr>\n",
              "  </thead>\n",
              "  <tbody>\n",
              "    <tr>\n",
              "      <th>0</th>\n",
              "      <td>90213</td>\n",
              "      <td>شارژر همراه شیاومی مدل NDY-02-AN با ظرفیت 1000...</td>\n",
              "      <td>3862150</td>\n",
              "      <td>4</td>\n",
              "      <td>1</td>\n",
              "      <td>واقعاً عالیه</td>\n",
              "      <td>سلام، قبل اینکه نظرم رو بگم میخواستم به یک موض...</td>\n",
              "      <td>[\"عمر طولانی\\r\",\"افت بسیار کم میزان شارژ\\r\",\"ا...</td>\n",
              "      <td>[\"ندارد\"]</td>\n",
              "      <td>1</td>\n",
              "      <td>NaN</td>\n",
              "      <td>واقعاً عالیه سلام، قبل اینکه نظرم رو بگم میخوا...</td>\n",
              "      <td>واقعا عالیه سلام قبل اینکه نظرم رو بگم میخواست...</td>\n",
              "      <td>[واقعا, عالیه, سلام, قبل, اینکه, نظرم, رو, بگم...</td>\n",
              "      <td>[واقعا, عالیه, سلام, قبل, اینکه, نظرم, رو, بگم...</td>\n",
              "      <td>واقعا عالیه سلام قبل اینکه نظرم رو بگم میخواست...</td>\n",
              "    </tr>\n",
              "    <tr>\n",
              "      <th>1</th>\n",
              "      <td>59473</td>\n",
              "      <td>یدک پولیشر میکروفایبر مهسان مدل 20119</td>\n",
              "      <td>626843</td>\n",
              "      <td>1</td>\n",
              "      <td>0</td>\n",
              "      <td>خیلی سخت حوله اش در میاد</td>\n",
              "      <td>گیره های فلزی خیلی سخت تا میشوند و لذا حوله را...</td>\n",
              "      <td></td>\n",
              "      <td></td>\n",
              "      <td>0</td>\n",
              "      <td>NaN</td>\n",
              "      <td>خیلی سخت حوله اش در میاد گیره های فلزی خیلی سخ...</td>\n",
              "      <td>خیلی سخت حوله اش در میاد گیره های فلزی خیلی سخ...</td>\n",
              "      <td>[خیلی, سخت, حوله, اش, در, میاد, گیره, های, فلز...</td>\n",
              "      <td>[خیلی, سخت, حوله, اش, در, میاد, گیره, های, فلز...</td>\n",
              "      <td>خیلی سخت حوله اش در میاد گیره های فلزی خیلی سخ...</td>\n",
              "    </tr>\n",
              "    <tr>\n",
              "      <th>2</th>\n",
              "      <td>133722</td>\n",
              "      <td>لپ تاپ 15 اینچی ایسوس مدل N501VW - A</td>\n",
              "      <td>497032</td>\n",
              "      <td>6</td>\n",
              "      <td>1</td>\n",
              "      <td>اقرار بیش از حد در ایراد گرفتن</td>\n",
              "      <td>سلام دوستان،،_x000D_\\nمنم مثه بعضی از دوستان ق...</td>\n",
              "      <td>[\"همه چیز که تو مشخصات اومده بجز 3 مورد کوچیک\"]</td>\n",
              "      <td>[\"تاچ پدش میتونست بهتر باشه از نظر سرعت پاسخ گ...</td>\n",
              "      <td>1</td>\n",
              "      <td>NaN</td>\n",
              "      <td>اقرار بیش از حد در ایراد گرفتن سلام دوستان،،_x...</td>\n",
              "      <td>اقرار بیش از حد در ایراد گرفتن سلام دوستان منم...</td>\n",
              "      <td>[اقرار, بیش, از, حد, در, ایراد, گرفتن, سلام, د...</td>\n",
              "      <td>[اقرار, بیش, از, حد, در, ایراد, گرفتن, سلام, د...</td>\n",
              "      <td>اقرار بیش از حد در ایراد گرفتن سلام دوستان منم...</td>\n",
              "    </tr>\n",
              "    <tr>\n",
              "      <th>3</th>\n",
              "      <td>148509</td>\n",
              "      <td>اسپیکر بلوتوثی دیووم مدل Bluetune bean</td>\n",
              "      <td>574130</td>\n",
              "      <td>3</td>\n",
              "      <td>0</td>\n",
              "      <td>بسیار خوب</td>\n",
              "      <td>من چند سالی هست که این اسپیکرو خریدم و واقعا ح...</td>\n",
              "      <td>[\"کیفیت ساخت بسیار خوب\\r\",\"کیفیت صدا بسیار عال...</td>\n",
              "      <td>[\"ندارد\"]</td>\n",
              "      <td>1</td>\n",
              "      <td>NaN</td>\n",
              "      <td>بسیار خوب من چند سالی هست که این اسپیکرو خریدم...</td>\n",
              "      <td>بسیار خوب من چند سالی هست که این اسپیکرو خریدم...</td>\n",
              "      <td>[بسیار, خوب, من, چند, سالی, هست, که, این, اسپی...</td>\n",
              "      <td>[بسیار, خوب, من, چند, سالی, هست, که, این, اسپی...</td>\n",
              "      <td>بسیار خوب من چند سالی هست که این اسپیکرو خریدم...</td>\n",
              "    </tr>\n",
              "    <tr>\n",
              "      <th>4</th>\n",
              "      <td>5107</td>\n",
              "      <td>هارددیسک اکسترنال سیگیت مدل Backup Plus Deskto...</td>\n",
              "      <td>794316</td>\n",
              "      <td>1</td>\n",
              "      <td>0</td>\n",
              "      <td>هارد با کیفیت و ظاهر شیک</td>\n",
              "      <td>نزدیک به دو ساله که این هارد رو خریدم. استفاده...</td>\n",
              "      <td>[\"کیفیت ساخت خوب\\r\",\"ظاهر ساده و زیبا\\r\",\"صدای...</td>\n",
              "      <td>[\"عدم مقاومت در برابر ضربه\\r\",\"عدم سهولت جا به...</td>\n",
              "      <td>1</td>\n",
              "      <td>NaN</td>\n",
              "      <td>هارد با کیفیت و ظاهر شیک نزدیک به دو ساله که ا...</td>\n",
              "      <td>هارد با کیفیت و ظاهر شیک نزدیک به دو ساله که ا...</td>\n",
              "      <td>[هارد, با, کیفیت, و, ظاهر, شیک, نزدیک, به, دو,...</td>\n",
              "      <td>[هارد, با, کیفیت, و, ظاهر, شیک, نزدیک, به, دو,...</td>\n",
              "      <td>هارد با کیفیت و ظاهر شیک نزدیک به دو ساله که ا...</td>\n",
              "    </tr>\n",
              "    <tr>\n",
              "      <th>...</th>\n",
              "      <td>...</td>\n",
              "      <td>...</td>\n",
              "      <td>...</td>\n",
              "      <td>...</td>\n",
              "      <td>...</td>\n",
              "      <td>...</td>\n",
              "      <td>...</td>\n",
              "      <td>...</td>\n",
              "      <td>...</td>\n",
              "      <td>...</td>\n",
              "      <td>...</td>\n",
              "      <td>...</td>\n",
              "      <td>...</td>\n",
              "      <td>...</td>\n",
              "      <td>...</td>\n",
              "      <td>...</td>\n",
              "    </tr>\n",
              "    <tr>\n",
              "      <th>4995</th>\n",
              "      <td>106518</td>\n",
              "      <td>بخار شوی کرشر مدل SC2 Premium</td>\n",
              "      <td>4477666</td>\n",
              "      <td>0</td>\n",
              "      <td>1</td>\n",
              "      <td>خریدشو پبشنهاد میکنم</td>\n",
              "      <td>من از دی جی کالا خریدم خیلی عالیه._x000D_\\nپیش...</td>\n",
              "      <td>[\"قدرت پرتاب بخار بالا\"]</td>\n",
              "      <td>[\"به نظر من نداره\"]</td>\n",
              "      <td>2</td>\n",
              "      <td>4996.0</td>\n",
              "      <td>خریدشو پبشنهاد میکنم من از دی جی کالا خریدم خی...</td>\n",
              "      <td>خریدشو پبشنهاد میکنم من از دی جی کالا خریدم خی...</td>\n",
              "      <td>[خریدشو, پبشنهاد, میکنم, من, از, دی, جی, کالا,...</td>\n",
              "      <td>[خریدشو, پبشنهاد, میکنم, من, از, دی, جی, کالا,...</td>\n",
              "      <td>خریدشو پبشنهاد میکنم من از دی جی کالا خریدم خی...</td>\n",
              "    </tr>\n",
              "    <tr>\n",
              "      <th>4996</th>\n",
              "      <td>326261</td>\n",
              "      <td>ظرف نگهدارنده رویچن مدل Crystal Kankan بسته10 ...</td>\n",
              "      <td>1390121</td>\n",
              "      <td>2</td>\n",
              "      <td>0</td>\n",
              "      <td>کاربردی و خوب</td>\n",
              "      <td>خیلی خوبه._x000D_\\nاندازه هاش کاربردی و عالیه</td>\n",
              "      <td></td>\n",
              "      <td></td>\n",
              "      <td>2</td>\n",
              "      <td>4997.0</td>\n",
              "      <td>کاربردی و خوب خیلی خوبه._x000D_\\nاندازه هاش کا...</td>\n",
              "      <td>کاربردی و خوب خیلی خوبه اندازه هاش کاربردی و ع...</td>\n",
              "      <td>[کاربردی, و, خوب, خیلی, خوبه, اندازه, هاش, کار...</td>\n",
              "      <td>[کاربردی, و, خوب, خیلی, خوبه, اندازه, هاش, کار...</td>\n",
              "      <td>کاربردی و خوب خیلی خوبه اندازه هاش کاربردی و ع...</td>\n",
              "    </tr>\n",
              "    <tr>\n",
              "      <th>4997</th>\n",
              "      <td>195433</td>\n",
              "      <td>کرم براق کننده موی سر مدل A Plus E مقدار 120 گرم</td>\n",
              "      <td>2359378</td>\n",
              "      <td>0</td>\n",
              "      <td>0</td>\n",
              "      <td>یه جنس ایرانی خوب</td>\n",
              "      <td>چرب کردن مو باعث جلوگیری از سفیدی زودرس و پیری...</td>\n",
              "      <td>[\"بوی مطبوع و خوب\\r\",\"حجم زیاد \\r\",\"چربی کم و ...</td>\n",
              "      <td>[\"ضعف آنچنانی ندارد\"]</td>\n",
              "      <td>2</td>\n",
              "      <td>4998.0</td>\n",
              "      <td>یه جنس ایرانی خوب چرب کردن مو باعث جلوگیری از ...</td>\n",
              "      <td>یه جنس ایرانی خوب چرب کردن مو باعث جلوگیری از ...</td>\n",
              "      <td>[یه, جنس, ایرانی, خوب, چرب, کردن, مو, باعث, جل...</td>\n",
              "      <td>[یه, جنس, ایرانی, خوب, چرب, کردن, مو, باعث, جل...</td>\n",
              "      <td>یه جنس ایرانی خوب چرب کردن مو باعث جلوگیری از ...</td>\n",
              "    </tr>\n",
              "    <tr>\n",
              "      <th>4998</th>\n",
              "      <td>590683</td>\n",
              "      <td>کاور کوالا مدل Round TPU مناسب برای گوشی موبای...</td>\n",
              "      <td>7622063</td>\n",
              "      <td>0</td>\n",
              "      <td>0</td>\n",
              "      <td>خرابی</td>\n",
              "      <td>بعداز  یک ماه زرد میشه از هم در میره</td>\n",
              "      <td>[\"طراحی خوب\"]</td>\n",
              "      <td>[\"رنگ رفتن \\r\",\"خراب شدن\"]</td>\n",
              "      <td>2</td>\n",
              "      <td>4999.0</td>\n",
              "      <td>خرابی بعداز  یک ماه زرد میشه از هم در میره</td>\n",
              "      <td>خرابی بعداز یک ماه زرد میشه از هم در میره</td>\n",
              "      <td>[خرابی, بعداز, یک, ماه, زرد, میشه, از, هم, در,...</td>\n",
              "      <td>[خرابی, بعداز, یک, ماه, زرد, میشه, از, هم, در,...</td>\n",
              "      <td>خرابی بعداز یک ماه زرد میشه از هم در میره</td>\n",
              "    </tr>\n",
              "    <tr>\n",
              "      <th>4999</th>\n",
              "      <td>173039</td>\n",
              "      <td>هواکش لوله ای دمنده سری هایلوکس مدل VDI-15S2S</td>\n",
              "      <td>981594</td>\n",
              "      <td>0</td>\n",
              "      <td>0</td>\n",
              "      <td>سلام</td>\n",
              "      <td>من با قیمت ارزون خریدم. ولی کیفیت و کارایی و د...</td>\n",
              "      <td></td>\n",
              "      <td></td>\n",
              "      <td>2</td>\n",
              "      <td>5000.0</td>\n",
              "      <td>سلام من با قیمت ارزون خریدم. ولی کیفیت و کارای...</td>\n",
              "      <td>سلام من با قیمت ارزون خریدم ولی کیفیت و کارایی...</td>\n",
              "      <td>[سلام, من, با, قیمت, ارزون, خریدم, ولی, کیفیت,...</td>\n",
              "      <td>[سلام, من, با, قیمت, ارزون, خریدم, ولی, کیفیت,...</td>\n",
              "      <td>سلام من با قیمت ارزون خریدم ولی کیفیت و کارایی...</td>\n",
              "    </tr>\n",
              "  </tbody>\n",
              "</table>\n",
              "<p>53082 rows × 16 columns</p>\n",
              "</div>\n",
              "      <button class=\"colab-df-convert\" onclick=\"convertToInteractive('df-623dd0cc-30f3-495b-894d-522cd897bdd8')\"\n",
              "              title=\"Convert this dataframe to an interactive table.\"\n",
              "              style=\"display:none;\">\n",
              "        \n",
              "  <svg xmlns=\"http://www.w3.org/2000/svg\" height=\"24px\"viewBox=\"0 0 24 24\"\n",
              "       width=\"24px\">\n",
              "    <path d=\"M0 0h24v24H0V0z\" fill=\"none\"/>\n",
              "    <path d=\"M18.56 5.44l.94 2.06.94-2.06 2.06-.94-2.06-.94-.94-2.06-.94 2.06-2.06.94zm-11 1L8.5 8.5l.94-2.06 2.06-.94-2.06-.94L8.5 2.5l-.94 2.06-2.06.94zm10 10l.94 2.06.94-2.06 2.06-.94-2.06-.94-.94-2.06-.94 2.06-2.06.94z\"/><path d=\"M17.41 7.96l-1.37-1.37c-.4-.4-.92-.59-1.43-.59-.52 0-1.04.2-1.43.59L10.3 9.45l-7.72 7.72c-.78.78-.78 2.05 0 2.83L4 21.41c.39.39.9.59 1.41.59.51 0 1.02-.2 1.41-.59l7.78-7.78 2.81-2.81c.8-.78.8-2.07 0-2.86zM5.41 20L4 18.59l7.72-7.72 1.47 1.35L5.41 20z\"/>\n",
              "  </svg>\n",
              "      </button>\n",
              "      \n",
              "  <style>\n",
              "    .colab-df-container {\n",
              "      display:flex;\n",
              "      flex-wrap:wrap;\n",
              "      gap: 12px;\n",
              "    }\n",
              "\n",
              "    .colab-df-convert {\n",
              "      background-color: #E8F0FE;\n",
              "      border: none;\n",
              "      border-radius: 50%;\n",
              "      cursor: pointer;\n",
              "      display: none;\n",
              "      fill: #1967D2;\n",
              "      height: 32px;\n",
              "      padding: 0 0 0 0;\n",
              "      width: 32px;\n",
              "    }\n",
              "\n",
              "    .colab-df-convert:hover {\n",
              "      background-color: #E2EBFA;\n",
              "      box-shadow: 0px 1px 2px rgba(60, 64, 67, 0.3), 0px 1px 3px 1px rgba(60, 64, 67, 0.15);\n",
              "      fill: #174EA6;\n",
              "    }\n",
              "\n",
              "    [theme=dark] .colab-df-convert {\n",
              "      background-color: #3B4455;\n",
              "      fill: #D2E3FC;\n",
              "    }\n",
              "\n",
              "    [theme=dark] .colab-df-convert:hover {\n",
              "      background-color: #434B5C;\n",
              "      box-shadow: 0px 1px 3px 1px rgba(0, 0, 0, 0.15);\n",
              "      filter: drop-shadow(0px 1px 2px rgba(0, 0, 0, 0.3));\n",
              "      fill: #FFFFFF;\n",
              "    }\n",
              "  </style>\n",
              "\n",
              "      <script>\n",
              "        const buttonEl =\n",
              "          document.querySelector('#df-623dd0cc-30f3-495b-894d-522cd897bdd8 button.colab-df-convert');\n",
              "        buttonEl.style.display =\n",
              "          google.colab.kernel.accessAllowed ? 'block' : 'none';\n",
              "\n",
              "        async function convertToInteractive(key) {\n",
              "          const element = document.querySelector('#df-623dd0cc-30f3-495b-894d-522cd897bdd8');\n",
              "          const dataTable =\n",
              "            await google.colab.kernel.invokeFunction('convertToInteractive',\n",
              "                                                     [key], {});\n",
              "          if (!dataTable) return;\n",
              "\n",
              "          const docLinkHtml = 'Like what you see? Visit the ' +\n",
              "            '<a target=\"_blank\" href=https://colab.research.google.com/notebooks/data_table.ipynb>data table notebook</a>'\n",
              "            + ' to learn more about interactive tables.';\n",
              "          element.innerHTML = '';\n",
              "          dataTable['output_type'] = 'display_data';\n",
              "          await google.colab.output.renderOutput(dataTable, element);\n",
              "          const docLink = document.createElement('div');\n",
              "          docLink.innerHTML = docLinkHtml;\n",
              "          element.appendChild(docLink);\n",
              "        }\n",
              "      </script>\n",
              "    </div>\n",
              "  </div>\n",
              "  "
            ],
            "text/plain": [
              "      product_id  ...                                            cleaned\n",
              "0          90213  ...  واقعا عالیه سلام قبل اینکه نظرم رو بگم میخواست...\n",
              "1          59473  ...  خیلی سخت حوله اش در میاد گیره های فلزی خیلی سخ...\n",
              "2         133722  ...  اقرار بیش از حد در ایراد گرفتن سلام دوستان منم...\n",
              "3         148509  ...  بسیار خوب من چند سالی هست که این اسپیکرو خریدم...\n",
              "4           5107  ...  هارد با کیفیت و ظاهر شیک نزدیک به دو ساله که ا...\n",
              "...          ...  ...                                                ...\n",
              "4995      106518  ...  خریدشو پبشنهاد میکنم من از دی جی کالا خریدم خی...\n",
              "4996      326261  ...  کاربردی و خوب خیلی خوبه اندازه هاش کاربردی و ع...\n",
              "4997      195433  ...  یه جنس ایرانی خوب چرب کردن مو باعث جلوگیری از ...\n",
              "4998      590683  ...          خرابی بعداز یک ماه زرد میشه از هم در میره\n",
              "4999      173039  ...  سلام من با قیمت ارزون خریدم ولی کیفیت و کارایی...\n",
              "\n",
              "[53082 rows x 16 columns]"
            ]
          },
          "metadata": {},
          "execution_count": 179
        }
      ],
      "source": [
        "data"
      ]
    },
    {
      "cell_type": "markdown",
      "metadata": {
        "id": "t7spUlx1I0kd"
      },
      "source": [
        "# **Models**"
      ]
    },
    {
      "cell_type": "markdown",
      "metadata": {
        "id": "6Cy8HnS_I7tF"
      },
      "source": [
        "## **SGDClassifier**"
      ]
    },
    {
      "cell_type": "code",
      "execution_count": null,
      "metadata": {
        "id": "z8GZlSjZA_ub"
      },
      "outputs": [],
      "source": [
        "import pandas as pd\n",
        "from hazm import *\n",
        "from __future__ import unicode_literals\n",
        "from sklearn.feature_extraction.text import TfidfVectorizer, HashingVectorizer\n",
        "from sklearn.feature_selection import SelectFromModel\n",
        "from sklearn.feature_selection import SelectKBest, chi2\n",
        "from sklearn.linear_model import RidgeClassifier\n",
        "from sklearn.pipeline import Pipeline\n",
        "from sklearn.svm import LinearSVC, SVC\n",
        "from sklearn.linear_model import SGDClassifier\n",
        "from sklearn.linear_model import Perceptron\n",
        "from sklearn.linear_model import PassiveAggressiveClassifier\n",
        "from sklearn.naive_bayes import BernoulliNB, ComplementNB, MultinomialNB\n",
        "from sklearn.neighbors import KNeighborsClassifier\n",
        "from sklearn.neighbors import NearestCentroid\n",
        "from sklearn.ensemble import RandomForestClassifier, AdaBoostClassifier\n",
        "from sklearn.utils.extmath import density\n",
        "from sklearn.model_selection import train_test_split\n",
        "from sklearn.neural_network import MLPClassifier\n",
        "from sklearn.preprocessing import LabelEncoder, StandardScaler\n",
        "from sklearn.gaussian_process import GaussianProcessClassifier\n",
        "from sklearn import metrics\n",
        "from sklearn import svm\n",
        "from sklearn.naive_bayes import GaussianNB\n",
        "from sklearn.discriminant_analysis import QuadraticDiscriminantAnalysis\n",
        "from sklearn.tree import DecisionTreeClassifier\n",
        "from sklearn.pipeline import make_pipeline\n",
        "from nltk.stem import WordNetLemmatizer\n",
        "from sklearn.feature_extraction.text import CountVectorizer\n",
        "from sklearn.feature_extraction.text import TfidfTransformer\n",
        "\n",
        "import numpy as np\n",
        "import csv"
      ]
    },
    {
      "cell_type": "code",
      "execution_count": null,
      "metadata": {
        "id": "Dzx17rHEEIax"
      },
      "outputs": [],
      "source": [
        "vectorizer = TfidfVectorizer(min_df=11, max_df=0.07, decode_error='strict', ngram_range=(1, 2), binary=0.5, sublinear_tf=True)\n",
        "train_x = vectorizer.fit_transform(data['cleaned'])"
      ]
    },
    {
      "cell_type": "code",
      "execution_count": null,
      "metadata": {
        "id": "RrPeuoGxni9h"
      },
      "outputs": [],
      "source": [
        "test_x = train_x[-5000:]\n",
        "train_x = train_x[:-5000]\n",
        "train_y = train_y[:-5000]"
      ]
    },
    {
      "cell_type": "code",
      "execution_count": null,
      "metadata": {
        "id": "azPhwjKwEMuh"
      },
      "outputs": [],
      "source": [
        "x_train, x_test, y_train, y_test = train_test_split(train_x, train_y, test_size=0.1, random_state=0)"
      ]
    },
    {
      "cell_type": "code",
      "execution_count": null,
      "metadata": {
        "colab": {
          "base_uri": "https://localhost:8080/"
        },
        "id": "MDmVipTdEMpS",
        "outputId": "309a167f-33ba-439b-c99d-92f3fb262497"
      },
      "outputs": [
        {
          "output_type": "stream",
          "name": "stdout",
          "text": [
            "  (0, 17851)\t0.21259942496536496\n",
            "  (0, 13257)\t0.1770318358963063\n",
            "  (0, 2413)\t0.12317230159565082\n",
            "  (0, 8105)\t0.14171443043696313\n",
            "  (0, 14670)\t0.16065643975349786\n",
            "  (0, 5794)\t0.19203747218726136\n",
            "  (0, 17813)\t0.19971664109344262\n",
            "  (0, 8606)\t0.11188136561082111\n",
            "  (0, 4464)\t0.11125434695390835\n",
            "  (0, 10560)\t0.2056669943858273\n",
            "  (0, 20013)\t0.15506221246425952\n",
            "  (0, 18747)\t0.16419885684470126\n",
            "  (0, 21554)\t0.1766102500115833\n",
            "  (0, 2434)\t0.18411658153680407\n",
            "  (0, 10941)\t0.1283594293132934\n",
            "  (0, 1860)\t0.22812399744819983\n",
            "  (0, 14666)\t0.13453324042697964\n",
            "  (0, 9344)\t0.14150971346464178\n",
            "  (0, 12407)\t0.23168334068617893\n",
            "  (0, 11953)\t0.16308217682195933\n",
            "  (0, 42)\t0.22651873263664501\n",
            "  (0, 13922)\t0.18221280236256066\n",
            "  (0, 2728)\t0.1314245912943973\n",
            "  (0, 8600)\t0.10229684844865207\n",
            "  (0, 11715)\t0.12109152625635718\n",
            "  (0, 5094)\t0.15804681880172133\n",
            "  (0, 21263)\t0.1397868607571021\n",
            "  (0, 16945)\t0.14233888930343577\n",
            "  (0, 14432)\t0.10385089603166534\n",
            "  (0, 14650)\t0.12406603744522368\n",
            "  (0, 15799)\t0.1781181645159813\n",
            "  (0, 9491)\t0.10080443131651513\n",
            "  (0, 14024)\t0.10943480447941786\n",
            "  (0, 17250)\t0.17422060835206304\n",
            "  (0, 2653)\t0.11064274682066816\n",
            "  (0, 18736)\t0.11984488347261488\n",
            "  (0, 17238)\t0.12406603744522368\n",
            "  (0, 11583)\t0.18068949140349155\n",
            "  (0, 20012)\t0.1334041673875618\n",
            "  (0, 10546)\t0.10870176977549335\n",
            "  (0, 10909)\t0.09530782146393839\n"
          ]
        }
      ],
      "source": [
        "print(train_x[15])"
      ]
    },
    {
      "cell_type": "code",
      "execution_count": null,
      "metadata": {
        "colab": {
          "base_uri": "https://localhost:8080/"
        },
        "id": "aQxUjhTkEPTo",
        "outputId": "b5eba93c-06c4-48f3-bc1e-7c5c6e52a1a2"
      },
      "outputs": [
        {
          "output_type": "execute_result",
          "data": {
            "text/plain": [
              "scipy.sparse.csr.csr_matrix"
            ]
          },
          "metadata": {},
          "execution_count": 185
        }
      ],
      "source": [
        "type(x_train[5])"
      ]
    },
    {
      "cell_type": "code",
      "execution_count": null,
      "metadata": {
        "colab": {
          "base_uri": "https://localhost:8080/"
        },
        "id": "pL10ZjdMBERr",
        "outputId": "7151ad73-16b9-4408-8d1e-68264c79e8e7"
      },
      "outputs": [
        {
          "output_type": "stream",
          "name": "stdout",
          "text": [
            "The accuracy of the model is :  0.9421917238511125\n"
          ]
        }
      ],
      "source": [
        "clf = SGDClassifier(loss=\"modified_huber\", penalty='l2', max_iter=1000, l1_ratio=0.15, class_weight=None, average=True, shuffle=False)\n",
        "\n",
        "clf.fit(x_train, y_train)\n",
        "prediction = clf.predict(x_test)\n",
        "acc = metrics.accuracy_score(y_test, prediction)\n",
        "print('The accuracy of the model is : ', acc)"
      ]
    },
    {
      "cell_type": "code",
      "execution_count": null,
      "metadata": {
        "id": "mkvho8zLgWdZ"
      },
      "outputs": [],
      "source": [
        "sgd_tfidf_pred = clf.predict(train_x)"
      ]
    },
    {
      "cell_type": "code",
      "execution_count": null,
      "metadata": {
        "id": "hAINkwCcnsOx"
      },
      "outputs": [],
      "source": [
        "p = clf.predict(test_x)"
      ]
    },
    {
      "cell_type": "code",
      "execution_count": null,
      "metadata": {
        "id": "7CzIpAt5oCri"
      },
      "outputs": [],
      "source": [
        "df = pd.DataFrame({'id': test_data.id,\n",
        "                   'recommend': p})"
      ]
    },
    {
      "cell_type": "code",
      "execution_count": null,
      "metadata": {
        "id": "CiIlb45NsG96"
      },
      "outputs": [],
      "source": [
        "df.loc[df['recommend'] == 1,'recommend'] = 'recommended'"
      ]
    },
    {
      "cell_type": "code",
      "execution_count": null,
      "metadata": {
        "id": "-Qh9x0mouRp6"
      },
      "outputs": [],
      "source": [
        "df.loc[df['recommend'] == 0,'recommend'] = 'not_recommended'"
      ]
    },
    {
      "cell_type": "code",
      "execution_count": null,
      "metadata": {
        "colab": {
          "base_uri": "https://localhost:8080/"
        },
        "id": "YlLj3YZksYgr",
        "outputId": "bdd83eb5-c504-4f72-d2ba-4ebdbaacc60e"
      },
      "outputs": [
        {
          "output_type": "execute_result",
          "data": {
            "text/html": [
              "\n",
              "  <div id=\"df-f7b0bea3-ed51-4b7e-a923-3a12f03c27c2\">\n",
              "    <div class=\"colab-df-container\">\n",
              "      <div>\n",
              "<style scoped>\n",
              "    .dataframe tbody tr th:only-of-type {\n",
              "        vertical-align: middle;\n",
              "    }\n",
              "\n",
              "    .dataframe tbody tr th {\n",
              "        vertical-align: top;\n",
              "    }\n",
              "\n",
              "    .dataframe thead th {\n",
              "        text-align: right;\n",
              "    }\n",
              "</style>\n",
              "<table border=\"1\" class=\"dataframe\">\n",
              "  <thead>\n",
              "    <tr style=\"text-align: right;\">\n",
              "      <th></th>\n",
              "      <th>id</th>\n",
              "      <th>recommend</th>\n",
              "    </tr>\n",
              "  </thead>\n",
              "  <tbody>\n",
              "    <tr>\n",
              "      <th>0</th>\n",
              "      <td>1</td>\n",
              "      <td>recommended</td>\n",
              "    </tr>\n",
              "    <tr>\n",
              "      <th>1</th>\n",
              "      <td>2</td>\n",
              "      <td>not_recommended</td>\n",
              "    </tr>\n",
              "    <tr>\n",
              "      <th>2</th>\n",
              "      <td>3</td>\n",
              "      <td>not_recommended</td>\n",
              "    </tr>\n",
              "    <tr>\n",
              "      <th>3</th>\n",
              "      <td>4</td>\n",
              "      <td>recommended</td>\n",
              "    </tr>\n",
              "    <tr>\n",
              "      <th>4</th>\n",
              "      <td>5</td>\n",
              "      <td>recommended</td>\n",
              "    </tr>\n",
              "    <tr>\n",
              "      <th>...</th>\n",
              "      <td>...</td>\n",
              "      <td>...</td>\n",
              "    </tr>\n",
              "    <tr>\n",
              "      <th>4995</th>\n",
              "      <td>4996</td>\n",
              "      <td>recommended</td>\n",
              "    </tr>\n",
              "    <tr>\n",
              "      <th>4996</th>\n",
              "      <td>4997</td>\n",
              "      <td>recommended</td>\n",
              "    </tr>\n",
              "    <tr>\n",
              "      <th>4997</th>\n",
              "      <td>4998</td>\n",
              "      <td>recommended</td>\n",
              "    </tr>\n",
              "    <tr>\n",
              "      <th>4998</th>\n",
              "      <td>4999</td>\n",
              "      <td>not_recommended</td>\n",
              "    </tr>\n",
              "    <tr>\n",
              "      <th>4999</th>\n",
              "      <td>5000</td>\n",
              "      <td>not_recommended</td>\n",
              "    </tr>\n",
              "  </tbody>\n",
              "</table>\n",
              "<p>5000 rows × 2 columns</p>\n",
              "</div>\n",
              "      <button class=\"colab-df-convert\" onclick=\"convertToInteractive('df-f7b0bea3-ed51-4b7e-a923-3a12f03c27c2')\"\n",
              "              title=\"Convert this dataframe to an interactive table.\"\n",
              "              style=\"display:none;\">\n",
              "        \n",
              "  <svg xmlns=\"http://www.w3.org/2000/svg\" height=\"24px\"viewBox=\"0 0 24 24\"\n",
              "       width=\"24px\">\n",
              "    <path d=\"M0 0h24v24H0V0z\" fill=\"none\"/>\n",
              "    <path d=\"M18.56 5.44l.94 2.06.94-2.06 2.06-.94-2.06-.94-.94-2.06-.94 2.06-2.06.94zm-11 1L8.5 8.5l.94-2.06 2.06-.94-2.06-.94L8.5 2.5l-.94 2.06-2.06.94zm10 10l.94 2.06.94-2.06 2.06-.94-2.06-.94-.94-2.06-.94 2.06-2.06.94z\"/><path d=\"M17.41 7.96l-1.37-1.37c-.4-.4-.92-.59-1.43-.59-.52 0-1.04.2-1.43.59L10.3 9.45l-7.72 7.72c-.78.78-.78 2.05 0 2.83L4 21.41c.39.39.9.59 1.41.59.51 0 1.02-.2 1.41-.59l7.78-7.78 2.81-2.81c.8-.78.8-2.07 0-2.86zM5.41 20L4 18.59l7.72-7.72 1.47 1.35L5.41 20z\"/>\n",
              "  </svg>\n",
              "      </button>\n",
              "      \n",
              "  <style>\n",
              "    .colab-df-container {\n",
              "      display:flex;\n",
              "      flex-wrap:wrap;\n",
              "      gap: 12px;\n",
              "    }\n",
              "\n",
              "    .colab-df-convert {\n",
              "      background-color: #E8F0FE;\n",
              "      border: none;\n",
              "      border-radius: 50%;\n",
              "      cursor: pointer;\n",
              "      display: none;\n",
              "      fill: #1967D2;\n",
              "      height: 32px;\n",
              "      padding: 0 0 0 0;\n",
              "      width: 32px;\n",
              "    }\n",
              "\n",
              "    .colab-df-convert:hover {\n",
              "      background-color: #E2EBFA;\n",
              "      box-shadow: 0px 1px 2px rgba(60, 64, 67, 0.3), 0px 1px 3px 1px rgba(60, 64, 67, 0.15);\n",
              "      fill: #174EA6;\n",
              "    }\n",
              "\n",
              "    [theme=dark] .colab-df-convert {\n",
              "      background-color: #3B4455;\n",
              "      fill: #D2E3FC;\n",
              "    }\n",
              "\n",
              "    [theme=dark] .colab-df-convert:hover {\n",
              "      background-color: #434B5C;\n",
              "      box-shadow: 0px 1px 3px 1px rgba(0, 0, 0, 0.15);\n",
              "      filter: drop-shadow(0px 1px 2px rgba(0, 0, 0, 0.3));\n",
              "      fill: #FFFFFF;\n",
              "    }\n",
              "  </style>\n",
              "\n",
              "      <script>\n",
              "        const buttonEl =\n",
              "          document.querySelector('#df-f7b0bea3-ed51-4b7e-a923-3a12f03c27c2 button.colab-df-convert');\n",
              "        buttonEl.style.display =\n",
              "          google.colab.kernel.accessAllowed ? 'block' : 'none';\n",
              "\n",
              "        async function convertToInteractive(key) {\n",
              "          const element = document.querySelector('#df-f7b0bea3-ed51-4b7e-a923-3a12f03c27c2');\n",
              "          const dataTable =\n",
              "            await google.colab.kernel.invokeFunction('convertToInteractive',\n",
              "                                                     [key], {});\n",
              "          if (!dataTable) return;\n",
              "\n",
              "          const docLinkHtml = 'Like what you see? Visit the ' +\n",
              "            '<a target=\"_blank\" href=https://colab.research.google.com/notebooks/data_table.ipynb>data table notebook</a>'\n",
              "            + ' to learn more about interactive tables.';\n",
              "          element.innerHTML = '';\n",
              "          dataTable['output_type'] = 'display_data';\n",
              "          await google.colab.output.renderOutput(dataTable, element);\n",
              "          const docLink = document.createElement('div');\n",
              "          docLink.innerHTML = docLinkHtml;\n",
              "          element.appendChild(docLink);\n",
              "        }\n",
              "      </script>\n",
              "    </div>\n",
              "  </div>\n",
              "  "
            ],
            "text/plain": [
              "        id        recommend\n",
              "0        1      recommended\n",
              "1        2  not_recommended\n",
              "2        3  not_recommended\n",
              "3        4      recommended\n",
              "4        5      recommended\n",
              "...    ...              ...\n",
              "4995  4996      recommended\n",
              "4996  4997      recommended\n",
              "4997  4998      recommended\n",
              "4998  4999  not_recommended\n",
              "4999  5000  not_recommended\n",
              "\n",
              "[5000 rows x 2 columns]"
            ]
          },
          "metadata": {},
          "execution_count": 192
        }
      ],
      "source": [
        "df"
      ]
    },
    {
      "cell_type": "code",
      "execution_count": null,
      "metadata": {
        "id": "UVoFokMCuX1y"
      },
      "outputs": [],
      "source": [
        "df.to_csv('TFIDF.csv', index=False)"
      ]
    },
    {
      "cell_type": "markdown",
      "metadata": {
        "id": "7PlTIrfOmQjX"
      },
      "source": [
        "## **LSTM**"
      ]
    },
    {
      "cell_type": "markdown",
      "metadata": {
        "id": "GkOrDl3wUgif"
      },
      "source": [
        "### **Creating int vectors!**"
      ]
    },
    {
      "cell_type": "code",
      "execution_count": null,
      "metadata": {
        "id": "MhOP7Xm0Y2jA"
      },
      "outputs": [],
      "source": [
        "from gensim import corpora\n",
        "dictionary = corpora.Dictionary([vocab])"
      ]
    },
    {
      "cell_type": "code",
      "execution_count": null,
      "metadata": {
        "id": "2LJAYMsxbsR0"
      },
      "outputs": [],
      "source": [
        "l_max = -1\n",
        "ind = 0\n",
        "for i in range(len(data)):\n",
        "  d = data.iloc[i]['cleaned_comment_tokens_non_stops']\n",
        "  d = len(d)\n",
        "  if l_max < d:\n",
        "    l_max = d\n",
        "    ind = i"
      ]
    },
    {
      "cell_type": "code",
      "execution_count": null,
      "metadata": {
        "colab": {
          "base_uri": "https://localhost:8080/"
        },
        "id": "AqzhD2r9c_nW",
        "outputId": "6b3e6448-5b26-41f9-bca7-fce58b9cd14d"
      },
      "outputs": [
        {
          "output_type": "execute_result",
          "data": {
            "text/plain": [
              "889"
            ]
          },
          "metadata": {},
          "execution_count": 196
        }
      ],
      "source": [
        "l_max"
      ]
    },
    {
      "cell_type": "code",
      "execution_count": null,
      "metadata": {
        "colab": {
          "base_uri": "https://localhost:8080/"
        },
        "id": "rM3OrKq3dCiT",
        "outputId": "48180114-7587-439d-80d4-883150b67977"
      },
      "outputs": [
        {
          "output_type": "execute_result",
          "data": {
            "text/plain": [
              "399"
            ]
          },
          "metadata": {},
          "execution_count": 197
        }
      ],
      "source": [
        "ind"
      ]
    },
    {
      "cell_type": "code",
      "execution_count": null,
      "metadata": {
        "id": "8cHPcflndK0t"
      },
      "outputs": [],
      "source": [
        "tokenized = np.zeros((len(data), l_max))\n",
        "for i in range(len(data)):\n",
        "  d = data.iloc[i]['cleaned_comment_tokens_non_stops']\n",
        "  dd = len(d)\n",
        "  diff = l_max - dd\n",
        "  for k in range(dd):\n",
        "    tokenized[i][diff + k] = dictionary.token2id[d[k]]"
      ]
    },
    {
      "cell_type": "code",
      "execution_count": null,
      "metadata": {
        "id": "cvnZqKBhfEKu"
      },
      "outputs": [],
      "source": [
        "train_y = data['recommend']\n",
        "train_y = np.array(train_y)"
      ]
    },
    {
      "cell_type": "code",
      "execution_count": null,
      "metadata": {
        "colab": {
          "base_uri": "https://localhost:8080/"
        },
        "id": "2Tzs7G8AesIv",
        "outputId": "01598e1d-60f7-4900-be0f-99fe4893b2ad"
      },
      "outputs": [
        {
          "output_type": "execute_result",
          "data": {
            "text/plain": [
              "array([[    0.,     0.,     0., ...,  9922., 25426., 24045.],\n",
              "       [    0.,     0.,     0., ..., 11664.,  6128., 24045.],\n",
              "       [    0.,     0.,     0., ..., 19484., 43348., 42767.],\n",
              "       ...,\n",
              "       [    0.,     0.,     0., ..., 17173., 12095., 17721.],\n",
              "       [    0.,     0.,     0., ..., 36558., 18143., 32641.],\n",
              "       [    0.,     0.,     0., ..., 18658.,  5150., 25736.]])"
            ]
          },
          "metadata": {},
          "execution_count": 200
        }
      ],
      "source": [
        "tokenized"
      ]
    },
    {
      "cell_type": "code",
      "execution_count": null,
      "metadata": {
        "id": "Yl1OmC9MpZza"
      },
      "outputs": [],
      "source": [
        "test_x = tokenized[-5000:]\n",
        "tokenized = tokenized[:-5000]\n",
        "train_y = train_y[:-5000]"
      ]
    },
    {
      "cell_type": "markdown",
      "metadata": {
        "id": "XX8_b2vFEh7Q"
      },
      "source": [
        "### **LSTM model**"
      ]
    },
    {
      "cell_type": "code",
      "execution_count": null,
      "metadata": {
        "id": "7VQSXop0mPdh"
      },
      "outputs": [],
      "source": [
        "# Model configuration\n",
        "additional_metrics = ['accuracy']\n",
        "batch_size = 128\n",
        "embedding_output_dims = 64\n",
        "loss_function = BinaryCrossentropy()\n",
        "max_sequence_length = l_max\n",
        "num_distinct_words = len(vocab)\n",
        "number_of_epochs = 2\n",
        "optimizer = Adam()\n",
        "validation_split = 0.30\n",
        "verbosity_mode = 1"
      ]
    },
    {
      "cell_type": "code",
      "execution_count": null,
      "metadata": {
        "id": "CFmgt9wumPaX"
      },
      "outputs": [],
      "source": [
        "tf.compat.v1.disable_eager_execution()"
      ]
    },
    {
      "cell_type": "code",
      "execution_count": null,
      "metadata": {
        "id": "F3QSpAkLpE8-"
      },
      "outputs": [],
      "source": [
        "tokenized = tokenized.astype(int)"
      ]
    },
    {
      "cell_type": "code",
      "execution_count": null,
      "metadata": {
        "id": "LS7rPrt7hRgZ"
      },
      "outputs": [],
      "source": [
        "from tensorflow.keras.layers import Dropout"
      ]
    },
    {
      "cell_type": "code",
      "execution_count": null,
      "metadata": {
        "colab": {
          "base_uri": "https://localhost:8080/"
        },
        "id": "9_7h4HjdmaWn",
        "outputId": "7b5be1b8-6ed8-480d-c02f-8812d3aad49a"
      },
      "outputs": [
        {
          "output_type": "stream",
          "name": "stdout",
          "text": [
            "WARNING:tensorflow:Layer lstm_4 will not use cuDNN kernels since it doesn't meet the criteria. It will use a generic GPU kernel as fallback when running on GPU.\n"
          ]
        },
        {
          "output_type": "stream",
          "name": "stderr",
          "text": [
            "WARNING:tensorflow:Layer lstm_4 will not use cuDNN kernels since it doesn't meet the criteria. It will use a generic GPU kernel as fallback when running on GPU.\n"
          ]
        }
      ],
      "source": [
        "model = Sequential()\n",
        "model.add(Embedding(num_distinct_words, embedding_output_dims, input_length=max_sequence_length))\n",
        "model.add(LSTM(16))\n",
        "model.add(Dense(1, activation='sigmoid'))"
      ]
    },
    {
      "cell_type": "code",
      "execution_count": null,
      "metadata": {
        "id": "VUFBahohmaTm"
      },
      "outputs": [],
      "source": [
        "model.compile(optimizer=optimizer, loss=loss_function, metrics=additional_metrics)"
      ]
    },
    {
      "cell_type": "code",
      "execution_count": null,
      "metadata": {
        "colab": {
          "base_uri": "https://localhost:8080/"
        },
        "id": "UTYK_QaxmaQ3",
        "outputId": "ac890333-db4f-4632-b02c-9f77b89f4b15"
      },
      "outputs": [
        {
          "output_type": "stream",
          "name": "stdout",
          "text": [
            "Model: \"sequential_5\"\n",
            "_________________________________________________________________\n",
            " Layer (type)                Output Shape              Param #   \n",
            "=================================================================\n",
            " embedding_4 (Embedding)     (None, 889, 64)           2941440   \n",
            "                                                                 \n",
            " lstm_4 (LSTM)               (None, 16)                5184      \n",
            "                                                                 \n",
            " dense_8 (Dense)             (None, 1)                 17        \n",
            "                                                                 \n",
            "=================================================================\n",
            "Total params: 2,946,641\n",
            "Trainable params: 2,946,641\n",
            "Non-trainable params: 0\n",
            "_________________________________________________________________\n"
          ]
        }
      ],
      "source": [
        "model.summary()"
      ]
    },
    {
      "cell_type": "code",
      "execution_count": null,
      "metadata": {
        "colab": {
          "base_uri": "https://localhost:8080/"
        },
        "id": "x7gy-8ClmaOB",
        "outputId": "f6ab992c-e174-4a72-c354-1f1d3fab8cbc"
      },
      "outputs": [
        {
          "output_type": "stream",
          "name": "stdout",
          "text": [
            "Train on 33657 samples, validate on 14425 samples\n",
            "Epoch 1/2\n",
            "33657/33657 [==============================] - ETA: 0s - loss: 0.3639 - accuracy: 0.8435"
          ]
        },
        {
          "output_type": "stream",
          "name": "stderr",
          "text": [
            "/usr/local/lib/python3.7/dist-packages/keras/engine/training_v1.py:2057: UserWarning: `Model.state_updates` will be removed in a future version. This property should not be used in TensorFlow 2.0, as `updates` are applied automatically.\n",
            "  updates = self.state_updates\n"
          ]
        },
        {
          "output_type": "stream",
          "name": "stdout",
          "text": [
            "\b\b\b\b\b\b\b\b\b\b\b\b\b\b\b\b\b\b\b\b\b\b\b\b\b\b\b\b\b\b\b\b\b\b\b\b\b\b\b\b\b\b\b\b\b\b\b\b\b\b\b\b\b\b\b\b\b\b\b\b\b\b\b\b\b\b\b\b\b\b\b\b\b\b\b\b\b\b\b\b\b\b\b\b\b\b\b\b\r33657/33657 [==============================] - 252s 7ms/sample - loss: 0.3639 - accuracy: 0.8435 - val_loss: 0.3014 - val_accuracy: 0.8757\n",
            "Epoch 2/2\n",
            "33657/33657 [==============================] - 250s 7ms/sample - loss: 0.2107 - accuracy: 0.9260 - val_loss: 0.2082 - val_accuracy: 0.9210\n"
          ]
        }
      ],
      "source": [
        "history = model.fit(tokenized, train_y, batch_size=batch_size, epochs=number_of_epochs, verbose=verbosity_mode, validation_split=validation_split)"
      ]
    },
    {
      "cell_type": "code",
      "execution_count": null,
      "metadata": {
        "colab": {
          "base_uri": "https://localhost:8080/"
        },
        "id": "A8YEhjiA6XFp",
        "outputId": "9936e393-67a4-423f-f1ed-8983643362bd"
      },
      "outputs": [
        {
          "output_type": "execute_result",
          "data": {
            "text/plain": [
              "1"
            ]
          },
          "metadata": {},
          "execution_count": 285
        }
      ],
      "source": [
        "train_y[10]"
      ]
    },
    {
      "cell_type": "code",
      "execution_count": null,
      "metadata": {
        "colab": {
          "base_uri": "https://localhost:8080/"
        },
        "id": "kpLwPHY05H34",
        "outputId": "d2dacfe5-0fc8-412b-b18c-7b71b61390bb"
      },
      "outputs": [
        {
          "output_type": "stream",
          "name": "stderr",
          "text": [
            "/usr/local/lib/python3.7/dist-packages/keras/engine/training_v1.py:2079: UserWarning: `Model.state_updates` will be removed in a future version. This property should not be used in TensorFlow 2.0, as `updates` are applied automatically.\n",
            "  updates=self.state_updates,\n"
          ]
        },
        {
          "output_type": "execute_result",
          "data": {
            "text/plain": [
              "array([[0.9883159]], dtype=float32)"
            ]
          },
          "metadata": {},
          "execution_count": 286
        }
      ],
      "source": [
        "model.predict(np.reshape(tokenized[10],(1,l_max)))"
      ]
    },
    {
      "cell_type": "code",
      "execution_count": null,
      "metadata": {
        "id": "2T_PdTURf6OZ"
      },
      "outputs": [],
      "source": [
        "lstm_train_predicted = model.predict(tokenized)"
      ]
    },
    {
      "cell_type": "code",
      "execution_count": null,
      "metadata": {
        "id": "BmKA26B6o-tK"
      },
      "outputs": [],
      "source": [
        "p_lstm = model.predict(test_x)"
      ]
    },
    {
      "cell_type": "code",
      "execution_count": null,
      "metadata": {
        "id": "XLkLci06bWl7"
      },
      "outputs": [],
      "source": [
        "p_lstm = p_lstm.reshape((p_lstm.shape[0],))"
      ]
    },
    {
      "cell_type": "code",
      "execution_count": null,
      "metadata": {
        "id": "sgz8UYeqpFzK"
      },
      "outputs": [],
      "source": [
        "df_lstm = pd.DataFrame({'id': test_data.id,\n",
        "                   'recommend': p_lstm})"
      ]
    },
    {
      "cell_type": "code",
      "execution_count": null,
      "metadata": {
        "id": "nmZwWI_PbfQ7"
      },
      "outputs": [],
      "source": [
        "gh = df_lstm['recommend'] >= 0.5"
      ]
    },
    {
      "cell_type": "code",
      "execution_count": null,
      "metadata": {
        "id": "StYYBJtAbfQ8"
      },
      "outputs": [],
      "source": [
        "df_lstm.loc[:,'recommend'] = 'not_recommended'"
      ]
    },
    {
      "cell_type": "code",
      "execution_count": null,
      "metadata": {
        "id": "nWSg0PPAbfQ8"
      },
      "outputs": [],
      "source": [
        "df_lstm.loc[gh,'recommend'] = 'recommended'"
      ]
    },
    {
      "cell_type": "code",
      "execution_count": null,
      "metadata": {
        "id": "6bTx6xR_bb3q"
      },
      "outputs": [],
      "source": [
        "df_lstm.to_csv('LSTM.csv', index=False)"
      ]
    },
    {
      "cell_type": "markdown",
      "metadata": {
        "id": "Mgi1m-BBuRe1"
      },
      "source": [
        "### **LSTM model embedding_output_dims = 128**"
      ]
    },
    {
      "cell_type": "code",
      "execution_count": null,
      "metadata": {
        "id": "QXTZSPYNuRe2"
      },
      "outputs": [],
      "source": [
        "# Model configuration\n",
        "additional_metrics = ['accuracy']\n",
        "batch_size = 128\n",
        "embedding_output_dims = 64\n",
        "loss_function = BinaryCrossentropy()\n",
        "max_sequence_length = l_max\n",
        "num_distinct_words = len(vocab)\n",
        "number_of_epochs = 2\n",
        "optimizer = Adam()\n",
        "validation_split = 0.30\n",
        "verbosity_mode = 1"
      ]
    },
    {
      "cell_type": "code",
      "execution_count": null,
      "metadata": {
        "id": "s5HZbeqMuRe2"
      },
      "outputs": [],
      "source": [
        "tf.compat.v1.disable_eager_execution()"
      ]
    },
    {
      "cell_type": "code",
      "execution_count": null,
      "metadata": {
        "id": "IhJk_vd6uRe2"
      },
      "outputs": [],
      "source": [
        "tokenized = tokenized.astype(int)"
      ]
    },
    {
      "cell_type": "code",
      "execution_count": null,
      "metadata": {
        "id": "XTjS6jyUuRe2"
      },
      "outputs": [],
      "source": [
        "from tensorflow.keras.layers import Dropout"
      ]
    },
    {
      "cell_type": "code",
      "execution_count": null,
      "metadata": {
        "colab": {
          "base_uri": "https://localhost:8080/"
        },
        "outputId": "783db8d5-a1e7-4a0a-b62c-896cb8c31b6f",
        "id": "MkEplxnFuRe2"
      },
      "outputs": [
        {
          "output_type": "stream",
          "name": "stdout",
          "text": [
            "WARNING:tensorflow:Layer lstm_5 will not use cuDNN kernels since it doesn't meet the criteria. It will use a generic GPU kernel as fallback when running on GPU.\n"
          ]
        },
        {
          "output_type": "stream",
          "name": "stderr",
          "text": [
            "WARNING:tensorflow:Layer lstm_5 will not use cuDNN kernels since it doesn't meet the criteria. It will use a generic GPU kernel as fallback when running on GPU.\n"
          ]
        }
      ],
      "source": [
        "model = Sequential()\n",
        "model.add(Embedding(num_distinct_words, embedding_output_dims, input_length=max_sequence_length))\n",
        "model.add(LSTM(16))\n",
        "model.add(Dense(1, activation='sigmoid'))"
      ]
    },
    {
      "cell_type": "code",
      "execution_count": null,
      "metadata": {
        "id": "DPTSn6VjuRe3"
      },
      "outputs": [],
      "source": [
        "model.compile(optimizer=optimizer, loss=loss_function, metrics=additional_metrics)"
      ]
    },
    {
      "cell_type": "code",
      "execution_count": null,
      "metadata": {
        "colab": {
          "base_uri": "https://localhost:8080/"
        },
        "outputId": "dd5c5b33-8de6-4848-8d47-6b7f6b9b0e9d",
        "id": "ncDyswHguRe3"
      },
      "outputs": [
        {
          "output_type": "stream",
          "name": "stdout",
          "text": [
            "Model: \"sequential_6\"\n",
            "_________________________________________________________________\n",
            " Layer (type)                Output Shape              Param #   \n",
            "=================================================================\n",
            " embedding_5 (Embedding)     (None, 889, 64)           2941440   \n",
            "                                                                 \n",
            " lstm_5 (LSTM)               (None, 16)                5184      \n",
            "                                                                 \n",
            " dense_9 (Dense)             (None, 1)                 17        \n",
            "                                                                 \n",
            "=================================================================\n",
            "Total params: 2,946,641\n",
            "Trainable params: 2,946,641\n",
            "Non-trainable params: 0\n",
            "_________________________________________________________________\n"
          ]
        }
      ],
      "source": [
        "model.summary()"
      ]
    },
    {
      "cell_type": "code",
      "execution_count": null,
      "metadata": {
        "colab": {
          "base_uri": "https://localhost:8080/"
        },
        "outputId": "9d71d9ca-584a-4b31-c5c3-be0c2036a20b",
        "id": "n8BXRdeTuRe3"
      },
      "outputs": [
        {
          "output_type": "stream",
          "name": "stdout",
          "text": [
            "Train on 33657 samples, validate on 14425 samples\n",
            "Epoch 1/2\n",
            "33657/33657 [==============================] - ETA: 0s - loss: 0.3187 - accuracy: 0.8619"
          ]
        },
        {
          "output_type": "stream",
          "name": "stderr",
          "text": [
            "/usr/local/lib/python3.7/dist-packages/keras/engine/training_v1.py:2057: UserWarning: `Model.state_updates` will be removed in a future version. This property should not be used in TensorFlow 2.0, as `updates` are applied automatically.\n",
            "  updates = self.state_updates\n"
          ]
        },
        {
          "output_type": "stream",
          "name": "stdout",
          "text": [
            "\b\b\b\b\b\b\b\b\b\b\b\b\b\b\b\b\b\b\b\b\b\b\b\b\b\b\b\b\b\b\b\b\b\b\b\b\b\b\b\b\b\b\b\b\b\b\b\b\b\b\b\b\b\b\b\b\b\b\b\b\b\b\b\b\b\b\b\b\b\b\b\b\b\b\b\b\b\b\b\b\b\b\b\b\b\b\b\b\r33657/33657 [==============================] - 254s 8ms/sample - loss: 0.3187 - accuracy: 0.8619 - val_loss: 0.2201 - val_accuracy: 0.9118\n",
            "Epoch 2/2\n",
            "33657/33657 [==============================] - 255s 8ms/sample - loss: 0.1437 - accuracy: 0.9524 - val_loss: 0.1834 - val_accuracy: 0.9369\n"
          ]
        }
      ],
      "source": [
        "history128 = model.fit(tokenized, train_y, batch_size=batch_size, epochs=number_of_epochs, verbose=verbosity_mode, validation_split=validation_split)"
      ]
    },
    {
      "cell_type": "code",
      "source": [
        ""
      ],
      "metadata": {
        "id": "9sm9humSw_ul"
      },
      "execution_count": null,
      "outputs": []
    },
    {
      "cell_type": "markdown",
      "metadata": {
        "id": "9ruZTm3Aw_7Z"
      },
      "source": [
        "### **LSTM model lstm = 8**"
      ]
    },
    {
      "cell_type": "code",
      "execution_count": null,
      "metadata": {
        "id": "GDaQd3Fbw_7Z"
      },
      "outputs": [],
      "source": [
        "# Model configuration\n",
        "additional_metrics = ['accuracy']\n",
        "batch_size = 128\n",
        "embedding_output_dims = 64\n",
        "loss_function = BinaryCrossentropy()\n",
        "max_sequence_length = l_max\n",
        "num_distinct_words = len(vocab)\n",
        "number_of_epochs = 2\n",
        "optimizer = Adam()\n",
        "validation_split = 0.30\n",
        "verbosity_mode = 1"
      ]
    },
    {
      "cell_type": "code",
      "execution_count": null,
      "metadata": {
        "id": "Y71MxCOTw_7Z"
      },
      "outputs": [],
      "source": [
        "tf.compat.v1.disable_eager_execution()"
      ]
    },
    {
      "cell_type": "code",
      "execution_count": null,
      "metadata": {
        "id": "AQjjZUD7w_7a"
      },
      "outputs": [],
      "source": [
        "tokenized = tokenized.astype(int)"
      ]
    },
    {
      "cell_type": "code",
      "execution_count": null,
      "metadata": {
        "id": "-EwGseGbw_7a"
      },
      "outputs": [],
      "source": [
        "from tensorflow.keras.layers import Dropout"
      ]
    },
    {
      "cell_type": "code",
      "execution_count": null,
      "metadata": {
        "colab": {
          "base_uri": "https://localhost:8080/"
        },
        "outputId": "fb8587ec-fd48-4019-f9a8-a4d59699df37",
        "id": "jhAjgR2Ww_7a"
      },
      "outputs": [
        {
          "output_type": "stream",
          "name": "stdout",
          "text": [
            "WARNING:tensorflow:Layer lstm_6 will not use cuDNN kernels since it doesn't meet the criteria. It will use a generic GPU kernel as fallback when running on GPU.\n"
          ]
        },
        {
          "output_type": "stream",
          "name": "stderr",
          "text": [
            "WARNING:tensorflow:Layer lstm_6 will not use cuDNN kernels since it doesn't meet the criteria. It will use a generic GPU kernel as fallback when running on GPU.\n"
          ]
        }
      ],
      "source": [
        "model = Sequential()\n",
        "model.add(Embedding(num_distinct_words, embedding_output_dims, input_length=max_sequence_length))\n",
        "model.add(LSTM(8))\n",
        "model.add(Dense(1, activation='sigmoid'))"
      ]
    },
    {
      "cell_type": "code",
      "execution_count": null,
      "metadata": {
        "id": "uKyEk5mRw_7a"
      },
      "outputs": [],
      "source": [
        "model.compile(optimizer=optimizer, loss=loss_function, metrics=additional_metrics)"
      ]
    },
    {
      "cell_type": "code",
      "execution_count": null,
      "metadata": {
        "colab": {
          "base_uri": "https://localhost:8080/"
        },
        "outputId": "3ab0067f-4b76-4e15-86bb-41317ba9d386",
        "id": "ZR0sOtkPw_7a"
      },
      "outputs": [
        {
          "output_type": "stream",
          "name": "stdout",
          "text": [
            "Model: \"sequential_7\"\n",
            "_________________________________________________________________\n",
            " Layer (type)                Output Shape              Param #   \n",
            "=================================================================\n",
            " embedding_6 (Embedding)     (None, 889, 64)           2941440   \n",
            "                                                                 \n",
            " lstm_6 (LSTM)               (None, 8)                 2336      \n",
            "                                                                 \n",
            " dense_10 (Dense)            (None, 1)                 9         \n",
            "                                                                 \n",
            "=================================================================\n",
            "Total params: 2,943,785\n",
            "Trainable params: 2,943,785\n",
            "Non-trainable params: 0\n",
            "_________________________________________________________________\n"
          ]
        }
      ],
      "source": [
        "model.summary()"
      ]
    },
    {
      "cell_type": "code",
      "execution_count": null,
      "metadata": {
        "colab": {
          "base_uri": "https://localhost:8080/"
        },
        "outputId": "26d58aff-7b9f-486f-bcae-f3f46f1689b4",
        "id": "O-Iwq4R3w_7a"
      },
      "outputs": [
        {
          "output_type": "stream",
          "name": "stdout",
          "text": [
            "Train on 33657 samples, validate on 14425 samples\n",
            "Epoch 1/2\n",
            "33657/33657 [==============================] - ETA: 0s - loss: 0.3541 - accuracy: 0.8491"
          ]
        },
        {
          "output_type": "stream",
          "name": "stderr",
          "text": [
            "/usr/local/lib/python3.7/dist-packages/keras/engine/training_v1.py:2057: UserWarning: `Model.state_updates` will be removed in a future version. This property should not be used in TensorFlow 2.0, as `updates` are applied automatically.\n",
            "  updates = self.state_updates\n"
          ]
        },
        {
          "output_type": "stream",
          "name": "stdout",
          "text": [
            "\b\b\b\b\b\b\b\b\b\b\b\b\b\b\b\b\b\b\b\b\b\b\b\b\b\b\b\b\b\b\b\b\b\b\b\b\b\b\b\b\b\b\b\b\b\b\b\b\b\b\b\b\b\b\b\b\b\b\b\b\b\b\b\b\b\b\b\b\b\b\b\b\b\b\b\b\b\b\b\b\b\b\b\b\b\b\b\b\r33657/33657 [==============================] - 257s 8ms/sample - loss: 0.3541 - accuracy: 0.8491 - val_loss: 0.2038 - val_accuracy: 0.9331\n",
            "Epoch 2/2\n",
            "33657/33657 [==============================] - 254s 8ms/sample - loss: 0.1591 - accuracy: 0.9501 - val_loss: 0.1863 - val_accuracy: 0.9299\n"
          ]
        }
      ],
      "source": [
        "history8 = model.fit(tokenized, train_y, batch_size=batch_size, epochs=number_of_epochs, verbose=verbosity_mode, validation_split=validation_split)"
      ]
    },
    {
      "cell_type": "code",
      "execution_count": null,
      "metadata": {
        "colab": {
          "base_uri": "https://localhost:8080/"
        },
        "outputId": "cecf4f21-889d-4578-f3c3-698fff55f5f7",
        "id": "MVM86iLA5h7N"
      },
      "outputs": [
        {
          "output_type": "stream",
          "name": "stderr",
          "text": [
            "/usr/local/lib/python3.7/dist-packages/keras/engine/training_v1.py:2079: UserWarning: `Model.state_updates` will be removed in a future version. This property should not be used in TensorFlow 2.0, as `updates` are applied automatically.\n",
            "  updates=self.state_updates,\n"
          ]
        },
        {
          "output_type": "execute_result",
          "data": {
            "text/plain": [
              "array([[0.98087126]], dtype=float32)"
            ]
          },
          "metadata": {},
          "execution_count": 325
        }
      ],
      "source": [
        "model.predict(np.reshape(tokenized[10],(1,l_max)))"
      ]
    },
    {
      "cell_type": "code",
      "execution_count": null,
      "metadata": {
        "id": "2G_2HoPP5h7N"
      },
      "outputs": [],
      "source": [
        "lstm_train_predicted = model.predict(tokenized)"
      ]
    },
    {
      "cell_type": "code",
      "execution_count": null,
      "metadata": {
        "id": "duaLtgfY5h7N"
      },
      "outputs": [],
      "source": [
        "p_lstm = model.predict(test_x)"
      ]
    },
    {
      "cell_type": "code",
      "execution_count": null,
      "metadata": {
        "id": "ar6q5wyn5h7N"
      },
      "outputs": [],
      "source": [
        "p_lstm = p_lstm.reshape((p_lstm.shape[0],))"
      ]
    },
    {
      "cell_type": "code",
      "execution_count": null,
      "metadata": {
        "id": "qW5k7IdM5h7N"
      },
      "outputs": [],
      "source": [
        "df_lstm = pd.DataFrame({'id': test_data.id,\n",
        "                   'recommend': p_lstm})"
      ]
    },
    {
      "cell_type": "code",
      "execution_count": null,
      "metadata": {
        "id": "cVqTw59h5h7O"
      },
      "outputs": [],
      "source": [
        "gh = df_lstm['recommend'] >= 0.5"
      ]
    },
    {
      "cell_type": "code",
      "execution_count": null,
      "metadata": {
        "id": "tFM-fgif5h7O"
      },
      "outputs": [],
      "source": [
        "df_lstm.loc[:,'recommend'] = 'not_recommended'"
      ]
    },
    {
      "cell_type": "code",
      "execution_count": null,
      "metadata": {
        "id": "FosqxAWP5h7O"
      },
      "outputs": [],
      "source": [
        "df_lstm.loc[gh,'recommend'] = 'recommended'"
      ]
    },
    {
      "cell_type": "code",
      "execution_count": null,
      "metadata": {
        "id": "CINABLmq5h7O"
      },
      "outputs": [],
      "source": [
        "df_lstm.to_csv('LSTM.csv', index=False)"
      ]
    },
    {
      "cell_type": "markdown",
      "metadata": {
        "id": "FGcc0n1GenZD"
      },
      "source": [
        "# **Ensembling**"
      ]
    },
    {
      "cell_type": "code",
      "execution_count": null,
      "metadata": {
        "id": "LZtA9cBglS5z"
      },
      "outputs": [],
      "source": [
        "sgd_tfidf_pred = sgd_tfidf_pred.reshape((sgd_tfidf_pred.shape[0],))\n",
        "lstm_train_predicted = lstm_train_predicted.reshape((lstm_train_predicted.shape[0],))"
      ]
    },
    {
      "cell_type": "code",
      "execution_count": null,
      "metadata": {
        "id": "vejnfKfItyax"
      },
      "outputs": [],
      "source": [
        "ens_test = pd.DataFrame({\n",
        "    \"sgd\": p,\n",
        "    \"lstm\": p_lstm\n",
        "})\n",
        "\n",
        "ens_train = pd.DataFrame({\n",
        "    \"sgd\": sgd_tfidf_pred,\n",
        "    \"lstm\": lstm_train_predicted\n",
        "})"
      ]
    },
    {
      "cell_type": "code",
      "execution_count": null,
      "metadata": {
        "id": "iH_iDpC3ghIw",
        "colab": {
          "base_uri": "https://localhost:8080/"
        },
        "outputId": "6b9ace16-3f9f-4ec5-f24b-56ef8a4fbeb5"
      },
      "outputs": [
        {
          "output_type": "execute_result",
          "data": {
            "text/plain": [
              "array([1, 0, 1, ..., 0, 1, 1])"
            ]
          },
          "metadata": {},
          "execution_count": 336
        }
      ],
      "source": [
        "train_y"
      ]
    },
    {
      "cell_type": "code",
      "execution_count": null,
      "metadata": {
        "id": "HNCBam3HgmtI",
        "colab": {
          "base_uri": "https://localhost:8080/"
        },
        "outputId": "eda03bbb-cb75-4a3f-f720-0dec4e8d2911"
      },
      "outputs": [
        {
          "output_type": "execute_result",
          "data": {
            "text/plain": [
              "LogisticRegression()"
            ]
          },
          "metadata": {},
          "execution_count": 337
        }
      ],
      "source": [
        "from sklearn.linear_model import LogisticRegression\n",
        "logreg = LogisticRegression()\n",
        "logreg.fit(ens_train, train_y)"
      ]
    },
    {
      "cell_type": "code",
      "execution_count": null,
      "metadata": {
        "id": "aCSsI8yfmKu4"
      },
      "outputs": [],
      "source": [
        "ens_pred = logreg.predict(ens_test)"
      ]
    },
    {
      "cell_type": "code",
      "execution_count": null,
      "metadata": {
        "id": "_28qoec4mTib"
      },
      "outputs": [],
      "source": [
        ""
      ]
    },
    {
      "cell_type": "code",
      "execution_count": null,
      "metadata": {
        "id": "vWKEmfYumTqB"
      },
      "outputs": [],
      "source": [
        "ens_lr = pd.DataFrame({'id': test_data.id,\n",
        "                   'recommend': ens_pred})"
      ]
    },
    {
      "cell_type": "code",
      "execution_count": null,
      "metadata": {
        "id": "5dU2y9q0mTqC"
      },
      "outputs": [],
      "source": [
        "enslr_gh = ens_lr['recommend'] == 1"
      ]
    },
    {
      "cell_type": "code",
      "execution_count": null,
      "metadata": {
        "id": "CZzvVn4GmTqC"
      },
      "outputs": [],
      "source": [
        "ens_lr.loc[:,'recommend'] = 'not_recommended'"
      ]
    },
    {
      "cell_type": "code",
      "execution_count": null,
      "metadata": {
        "id": "Y6-V--cSmTqD"
      },
      "outputs": [],
      "source": [
        "ens_lr.loc[enslr_gh,'recommend'] = 'recommended'"
      ]
    },
    {
      "cell_type": "code",
      "execution_count": null,
      "metadata": {
        "id": "ZPrpGv-YmTqE"
      },
      "outputs": [],
      "source": [
        "ens_lr.to_csv('ens_lr.csv', index=False)"
      ]
    },
    {
      "cell_type": "code",
      "execution_count": null,
      "metadata": {
        "id": "aLyKrBiImUbx"
      },
      "outputs": [],
      "source": [
        ""
      ]
    },
    {
      "cell_type": "code",
      "execution_count": null,
      "metadata": {
        "id": "RaKF2AE-heF5"
      },
      "outputs": [],
      "source": [
        "from sklearn.tree import DecisionTreeClassifier\n",
        "clf = DecisionTreeClassifier().fit(ens_train, train_y)"
      ]
    },
    {
      "cell_type": "code",
      "execution_count": null,
      "metadata": {
        "id": "lHy8cq5Lmw55"
      },
      "outputs": [],
      "source": [
        "ensdt_pred = clf.predict(ens_test)"
      ]
    },
    {
      "cell_type": "code",
      "execution_count": null,
      "metadata": {
        "id": "kpNmkrfBm6FC"
      },
      "outputs": [],
      "source": [
        ""
      ]
    },
    {
      "cell_type": "code",
      "execution_count": null,
      "metadata": {
        "id": "otOVlJ2Em6RL"
      },
      "outputs": [],
      "source": [
        "ens_dt = pd.DataFrame({'id': test_data.id,\n",
        "                   'recommend': ensdt_pred})"
      ]
    },
    {
      "cell_type": "code",
      "execution_count": null,
      "metadata": {
        "id": "kKjTP-jtm6RM"
      },
      "outputs": [],
      "source": [
        "ensdt_gh = ens_dt['recommend'] == 1"
      ]
    },
    {
      "cell_type": "code",
      "execution_count": null,
      "metadata": {
        "id": "SayeXlOpm6RM"
      },
      "outputs": [],
      "source": [
        "ens_dt.loc[:,'recommend'] = 'not_recommended'"
      ]
    },
    {
      "cell_type": "code",
      "execution_count": null,
      "metadata": {
        "id": "pnHX0OPBm6RM"
      },
      "outputs": [],
      "source": [
        "ens_dt.loc[ensdt_gh,'recommend'] = 'recommended'"
      ]
    },
    {
      "cell_type": "code",
      "execution_count": null,
      "metadata": {
        "id": "GE8N9ymDm6RN"
      },
      "outputs": [],
      "source": [
        "ens_dt.to_csv('ens_dt.csv', index=False)"
      ]
    },
    {
      "cell_type": "code",
      "execution_count": null,
      "metadata": {
        "id": "ec0d38ezm5_Y"
      },
      "outputs": [],
      "source": [
        ""
      ]
    },
    {
      "cell_type": "code",
      "execution_count": null,
      "metadata": {
        "id": "rl8VQJoWhsFx",
        "colab": {
          "base_uri": "https://localhost:8080/"
        },
        "outputId": "fdf9c8be-9dee-4143-8aac-7c971e340847"
      },
      "outputs": [
        {
          "output_type": "execute_result",
          "data": {
            "text/plain": [
              "KNeighborsClassifier()"
            ]
          },
          "metadata": {},
          "execution_count": 351
        }
      ],
      "source": [
        "from sklearn.neighbors import KNeighborsClassifier\n",
        "knn = KNeighborsClassifier()\n",
        "knn.fit(ens_train, train_y)"
      ]
    },
    {
      "cell_type": "code",
      "execution_count": null,
      "metadata": {
        "id": "6ML49-8SnPXR"
      },
      "outputs": [],
      "source": [
        "ensknn_pred = knn.predict(ens_test)"
      ]
    },
    {
      "cell_type": "code",
      "execution_count": null,
      "metadata": {
        "id": "8CM_E2iynRe6"
      },
      "outputs": [],
      "source": [
        ""
      ]
    },
    {
      "cell_type": "code",
      "execution_count": null,
      "metadata": {
        "id": "ZA04vtB8nRe6"
      },
      "outputs": [],
      "source": [
        "ens_knn = pd.DataFrame({'id': test_data.id,\n",
        "                   'recommend': ensknn_pred})"
      ]
    },
    {
      "cell_type": "code",
      "execution_count": null,
      "metadata": {
        "id": "k5qs5O60nRe7"
      },
      "outputs": [],
      "source": [
        "ensknn_gh = ens_dt['recommend'] == 1"
      ]
    },
    {
      "cell_type": "code",
      "execution_count": null,
      "metadata": {
        "id": "wjyctRPUnRe7"
      },
      "outputs": [],
      "source": [
        "ens_knn.loc[:,'recommend'] = 'not_recommended'"
      ]
    },
    {
      "cell_type": "code",
      "execution_count": null,
      "metadata": {
        "id": "ODCSPoCKnRe7"
      },
      "outputs": [],
      "source": [
        "ens_knn.loc[ensknn_gh,'recommend'] = 'recommended'"
      ]
    },
    {
      "cell_type": "code",
      "execution_count": null,
      "metadata": {
        "id": "5Cx9WJeDnRe7"
      },
      "outputs": [],
      "source": [
        "ens_knn.to_csv('ens_knn.csv', index=False)"
      ]
    },
    {
      "cell_type": "markdown",
      "source": [
        "# **Plots!**"
      ],
      "metadata": {
        "id": "Ssyn_l7isyQ9"
      }
    },
    {
      "cell_type": "code",
      "source": [
        "import matplotlib.pyplot as plt"
      ],
      "metadata": {
        "id": "__ysrBuWs-AM"
      },
      "execution_count": null,
      "outputs": []
    },
    {
      "cell_type": "code",
      "source": [
        "from matplotlib.pyplot import figure"
      ],
      "metadata": {
        "id": "L0UQ9nEuwvfc"
      },
      "execution_count": null,
      "outputs": []
    },
    {
      "cell_type": "code",
      "source": [
        "figure(figsize=(10, 8), dpi=80)\n",
        "\n",
        "xp = [i for i in range(1, 3)]\n",
        "\n",
        "plt.plot(xp, history.history['accuracy'])\n",
        "plt.plot(xp, history.history['val_accuracy'])\n",
        "\n",
        "plt.plot(xp, history128.history['accuracy'])\n",
        "plt.plot(xp, history128.history['val_accuracy'])\n",
        "\n",
        "plt.plot(xp, history128.history['accuracy'])\n",
        "plt.plot(xp, history128.history['val_accuracy'])\n",
        "\n",
        "plt.title('model accuracy')\n",
        "plt.ylabel('accuracy')\n",
        "plt.xlabel('epoch')\n",
        "plt.legend(['train', 'val', 'train with 128 od', 'val 128 od', 'train 8', 'val 8'], loc='upper left')\n",
        "plt.show()"
      ],
      "metadata": {
        "colab": {
          "base_uri": "https://localhost:8080/",
          "height": 565
        },
        "id": "uDuwXkbLtoJT",
        "outputId": "1d8bee56-a7ee-4913-f352-03163d9229a8"
      },
      "execution_count": null,
      "outputs": [
        {
          "output_type": "display_data",
          "data": {
            "image/png": "[encoded data removed]",
            "text/plain": [
              "<Figure size 800x640 with 1 Axes>"
            ]
          },
          "metadata": {
            "needs_background": "light"
          }
        }
      ]
    },
    {
      "cell_type": "code",
      "source": [
        "figure(figsize=(10, 8), dpi=80)\n",
        "\n",
        "y = [0.92380, 0.91700, 0.92257, 0.92542, 0.91171, 0.92228, 0.92771, 0.93257, 0.90657, 0.31457, 0.93600, 0.92342, 0.92057, 0.93000, 0.93342, 0.92571, 0.93314, 0.92685, 0.92800, 0.93400, 0.94257, 0.93628, 0.94542, 0.94685, 0.94714, 0.94571, 0.94657, 0.93314, 0.93800, 0.94371, 0.94228, 0.94428, 0.94228, 0.94314, 0.94085, 0.93028, 0.31457, 0.31457, 0.68542, 0.94028, 0.93971, 0.94200, 0.94000, 0.93800, 0.94228, ]\n",
        "plt.plot(y)"
      ],
      "metadata": {
        "colab": {
          "base_uri": "https://localhost:8080/",
          "height": 550
        },
        "id": "UaWTyy3etoDT",
        "outputId": "63590ed7-03f2-46b2-e8d1-aa703319b671"
      },
      "execution_count": null,
      "outputs": [
        {
          "output_type": "execute_result",
          "data": {
            "text/plain": [
              "[<matplotlib.lines.Line2D at 0x7f6facc55150>]"
            ]
          },
          "metadata": {},
          "execution_count": 364
        },
        {
          "output_type": "display_data",
          "data": {
            "image/png": "[encoded data removed]",
            "text/plain": [
              "<Figure size 800x640 with 1 Axes>"
            ]
          },
          "metadata": {
            "needs_background": "light"
          }
        }
      ]
    }
  ],
  "metadata": {
    "accelerator": "GPU",
    "colab": {
      "collapsed_sections": [
        "iCVtcOoA3Tgh",
        "mG6YKMPc3Zk2",
        "7gXfpoRG3d_P",
        "IIbR08sX3gOF",
        "zWLj9DFJkwuk",
        "GXKehJikowAe",
        "V75CspC_YHsW",
        "6Cy8HnS_I7tF",
        "GkOrDl3wUgif",
        "Mgi1m-BBuRe1",
        "FGcc0n1GenZD"
      ],
      "name": "CI_Final_Project_FV.ipynb",
      "provenance": []
    },
    "kernelspec": {
      "display_name": "Python 3",
      "name": "python3"
    },
    "language_info": {
      "name": "python"
    }
  },
  "nbformat": 4,
  "nbformat_minor": 0
}