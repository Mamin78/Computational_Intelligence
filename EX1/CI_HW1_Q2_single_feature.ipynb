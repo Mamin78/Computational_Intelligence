{
  "nbformat": 4,
  "nbformat_minor": 0,
  "metadata": {
    "colab": {
      "name": "CI_HW1_Q2_single_feature.ipynb",
      "provenance": [],
      "collapsed_sections": []
    },
    "kernelspec": {
      "name": "python3",
      "display_name": "Python 3"
    },
    "language_info": {
      "name": "python"
    }
  },
  "cells": [
    {
      "cell_type": "markdown",
      "metadata": {
        "id": "UN7N6HZEQ81E"
      },
      "source": [
        "# **Single feature version!**"
      ]
    },
    {
      "cell_type": "markdown",
      "metadata": {
        "id": "QGSb0dBUj6pp"
      },
      "source": [
        "## **Imports**"
      ]
    },
    {
      "cell_type": "code",
      "metadata": {
        "id": "Xs98Wxfoezbd"
      },
      "source": [
        "import pandas as pd\n",
        "from random import randint\n",
        "import numpy as np"
      ],
      "execution_count": null,
      "outputs": []
    },
    {
      "cell_type": "markdown",
      "metadata": {
        "id": "QWr3YF0dhf8h"
      },
      "source": [
        "## **Read the data.**"
      ]
    },
    {
      "cell_type": "code",
      "metadata": {
        "id": "9HLyYjFCfjSb"
      },
      "source": [
        "data = pd.read_csv('CRYPTOCURRENCY_COINDESK_BTCUSD_NEW.csv')"
      ],
      "execution_count": null,
      "outputs": []
    },
    {
      "cell_type": "markdown",
      "metadata": {
        "id": "qlusUXwOhguO"
      },
      "source": [
        "## **Feature Engineering!**"
      ]
    },
    {
      "cell_type": "code",
      "metadata": {
        "id": "H__P_MYHXQYI"
      },
      "source": [
        "data['Date'] = pd.to_datetime(data['Date'], format='%m/%d/%Y')"
      ],
      "execution_count": null,
      "outputs": []
    },
    {
      "cell_type": "code",
      "metadata": {
        "id": "5UWmlVrLC4Q2"
      },
      "source": [
        "data['day_number'] = data.index.values + 1"
      ],
      "execution_count": null,
      "outputs": []
    },
    {
      "cell_type": "markdown",
      "metadata": {
        "id": "2NKBXUVfhe9K"
      },
      "source": [
        "## **Data Cleaning**"
      ]
    },
    {
      "cell_type": "code",
      "metadata": {
        "id": "aAESaaGX30ob"
      },
      "source": [
        "data['Close'] = data['Close'].apply(lambda s: s.replace(',', ''))\n",
        "data['Close'] = data['Close'].astype('float32')"
      ],
      "execution_count": null,
      "outputs": []
    },
    {
      "cell_type": "markdown",
      "metadata": {
        "id": "SMJb-NNojD3v"
      },
      "source": [
        "## **Add Polynomial Features**"
      ]
    },
    {
      "cell_type": "markdown",
      "metadata": {
        "id": "LomeO7zNlsS5"
      },
      "source": [
        "10 different degree of polynomial!"
      ]
    },
    {
      "cell_type": "code",
      "metadata": {
        "id": "NsTwSGbbhpjm"
      },
      "source": [
        "fn = ['day_number']\n",
        "an = ['day_number']\n",
        "powers = 10\n",
        "\n",
        "for i in range(2, powers+1):\n",
        "  data['d'+str(i)] = data['day_number'] ** i\n",
        "  fn.append('d'+str(i))\n",
        "  an.append('d'+str(i))\n",
        "  \n",
        "an.append('Close')"
      ],
      "execution_count": null,
      "outputs": []
    },
    {
      "cell_type": "code",
      "metadata": {
        "colab": {
          "base_uri": "https://localhost:8080/",
          "height": 609
        },
        "id": "25mJVHXyhsfj",
        "outputId": "fc7a94c9-4c4e-46b4-8b7b-9610c5abb385"
      },
      "source": [
        "data"
      ],
      "execution_count": null,
      "outputs": [
        {
          "output_type": "execute_result",
          "data": {
            "text/html": [
              "<div>\n",
              "<style scoped>\n",
              "    .dataframe tbody tr th:only-of-type {\n",
              "        vertical-align: middle;\n",
              "    }\n",
              "\n",
              "    .dataframe tbody tr th {\n",
              "        vertical-align: top;\n",
              "    }\n",
              "\n",
              "    .dataframe thead th {\n",
              "        text-align: right;\n",
              "    }\n",
              "</style>\n",
              "<table border=\"1\" class=\"dataframe\">\n",
              "  <thead>\n",
              "    <tr style=\"text-align: right;\">\n",
              "      <th></th>\n",
              "      <th>Date</th>\n",
              "      <th>Close</th>\n",
              "      <th>day_number</th>\n",
              "      <th>d2</th>\n",
              "      <th>d3</th>\n",
              "      <th>d4</th>\n",
              "      <th>d5</th>\n",
              "      <th>d6</th>\n",
              "      <th>d7</th>\n",
              "      <th>d8</th>\n",
              "      <th>d9</th>\n",
              "      <th>d10</th>\n",
              "    </tr>\n",
              "  </thead>\n",
              "  <tbody>\n",
              "    <tr>\n",
              "      <th>0</th>\n",
              "      <td>2020-10-11</td>\n",
              "      <td>11350.0</td>\n",
              "      <td>1</td>\n",
              "      <td>1</td>\n",
              "      <td>1</td>\n",
              "      <td>1</td>\n",
              "      <td>1</td>\n",
              "      <td>1</td>\n",
              "      <td>1</td>\n",
              "      <td>1</td>\n",
              "      <td>1</td>\n",
              "      <td>1</td>\n",
              "    </tr>\n",
              "    <tr>\n",
              "      <th>1</th>\n",
              "      <td>2020-10-12</td>\n",
              "      <td>11564.0</td>\n",
              "      <td>2</td>\n",
              "      <td>4</td>\n",
              "      <td>8</td>\n",
              "      <td>16</td>\n",
              "      <td>32</td>\n",
              "      <td>64</td>\n",
              "      <td>128</td>\n",
              "      <td>256</td>\n",
              "      <td>512</td>\n",
              "      <td>1024</td>\n",
              "    </tr>\n",
              "    <tr>\n",
              "      <th>2</th>\n",
              "      <td>2020-10-13</td>\n",
              "      <td>11437.0</td>\n",
              "      <td>3</td>\n",
              "      <td>9</td>\n",
              "      <td>27</td>\n",
              "      <td>81</td>\n",
              "      <td>243</td>\n",
              "      <td>729</td>\n",
              "      <td>2187</td>\n",
              "      <td>6561</td>\n",
              "      <td>19683</td>\n",
              "      <td>59049</td>\n",
              "    </tr>\n",
              "    <tr>\n",
              "      <th>3</th>\n",
              "      <td>2020-10-14</td>\n",
              "      <td>11396.0</td>\n",
              "      <td>4</td>\n",
              "      <td>16</td>\n",
              "      <td>64</td>\n",
              "      <td>256</td>\n",
              "      <td>1024</td>\n",
              "      <td>4096</td>\n",
              "      <td>16384</td>\n",
              "      <td>65536</td>\n",
              "      <td>262144</td>\n",
              "      <td>1048576</td>\n",
              "    </tr>\n",
              "    <tr>\n",
              "      <th>4</th>\n",
              "      <td>2020-10-15</td>\n",
              "      <td>11544.0</td>\n",
              "      <td>5</td>\n",
              "      <td>25</td>\n",
              "      <td>125</td>\n",
              "      <td>625</td>\n",
              "      <td>3125</td>\n",
              "      <td>15625</td>\n",
              "      <td>78125</td>\n",
              "      <td>390625</td>\n",
              "      <td>1953125</td>\n",
              "      <td>9765625</td>\n",
              "    </tr>\n",
              "    <tr>\n",
              "      <th>...</th>\n",
              "      <td>...</td>\n",
              "      <td>...</td>\n",
              "      <td>...</td>\n",
              "      <td>...</td>\n",
              "      <td>...</td>\n",
              "      <td>...</td>\n",
              "      <td>...</td>\n",
              "      <td>...</td>\n",
              "      <td>...</td>\n",
              "      <td>...</td>\n",
              "      <td>...</td>\n",
              "      <td>...</td>\n",
              "    </tr>\n",
              "    <tr>\n",
              "      <th>361</th>\n",
              "      <td>2021-10-07</td>\n",
              "      <td>54205.0</td>\n",
              "      <td>362</td>\n",
              "      <td>131044</td>\n",
              "      <td>47437928</td>\n",
              "      <td>17172529936</td>\n",
              "      <td>6216455836832</td>\n",
              "      <td>2250357012933184</td>\n",
              "      <td>814629238681812608</td>\n",
              "      <td>-252120776536661760</td>\n",
              "      <td>965999262276200960</td>\n",
              "      <td>-796404456496733184</td>\n",
              "    </tr>\n",
              "    <tr>\n",
              "      <th>362</th>\n",
              "      <td>2021-10-08</td>\n",
              "      <td>53951.0</td>\n",
              "      <td>363</td>\n",
              "      <td>131769</td>\n",
              "      <td>47832147</td>\n",
              "      <td>17363069361</td>\n",
              "      <td>6302794178043</td>\n",
              "      <td>2287914286629609</td>\n",
              "      <td>830512886046548067</td>\n",
              "      <td>6328272455544122465</td>\n",
              "      <td>-8680107851177497205</td>\n",
              "      <td>3514086626901840921</td>\n",
              "    </tr>\n",
              "    <tr>\n",
              "      <th>363</th>\n",
              "      <td>2021-10-09</td>\n",
              "      <td>54651.0</td>\n",
              "      <td>364</td>\n",
              "      <td>132496</td>\n",
              "      <td>48228544</td>\n",
              "      <td>17555190016</td>\n",
              "      <td>6390089165824</td>\n",
              "      <td>2325992456359936</td>\n",
              "      <td>846661254115016704</td>\n",
              "      <td>-5409952755196297216</td>\n",
              "      <td>4578812995469836288</td>\n",
              "      <td>6480963717160763392</td>\n",
              "    </tr>\n",
              "    <tr>\n",
              "      <th>364</th>\n",
              "      <td>2021-10-10</td>\n",
              "      <td>55425.0</td>\n",
              "      <td>365</td>\n",
              "      <td>133225</td>\n",
              "      <td>48627125</td>\n",
              "      <td>17748900625</td>\n",
              "      <td>6478348728125</td>\n",
              "      <td>2364597285765625</td>\n",
              "      <td>863078009304453125</td>\n",
              "      <td>1428824143063013153</td>\n",
              "      <td>5011978154132355597</td>\n",
              "      <td>3144362961064182921</td>\n",
              "    </tr>\n",
              "    <tr>\n",
              "      <th>365</th>\n",
              "      <td>2021-10-11</td>\n",
              "      <td>57390.0</td>\n",
              "      <td>366</td>\n",
              "      <td>133956</td>\n",
              "      <td>49027896</td>\n",
              "      <td>17944209936</td>\n",
              "      <td>6567580836576</td>\n",
              "      <td>2403734586186816</td>\n",
              "      <td>879766858544374656</td>\n",
              "      <td>8400020974178746624</td>\n",
              "      <td>-6198583760073855488</td>\n",
              "      <td>267864879243740160</td>\n",
              "    </tr>\n",
              "  </tbody>\n",
              "</table>\n",
              "<p>366 rows × 12 columns</p>\n",
              "</div>"
            ],
            "text/plain": [
              "          Date    Close  ...                   d9                  d10\n",
              "0   2020-10-11  11350.0  ...                    1                    1\n",
              "1   2020-10-12  11564.0  ...                  512                 1024\n",
              "2   2020-10-13  11437.0  ...                19683                59049\n",
              "3   2020-10-14  11396.0  ...               262144              1048576\n",
              "4   2020-10-15  11544.0  ...              1953125              9765625\n",
              "..         ...      ...  ...                  ...                  ...\n",
              "361 2021-10-07  54205.0  ...   965999262276200960  -796404456496733184\n",
              "362 2021-10-08  53951.0  ... -8680107851177497205  3514086626901840921\n",
              "363 2021-10-09  54651.0  ...  4578812995469836288  6480963717160763392\n",
              "364 2021-10-10  55425.0  ...  5011978154132355597  3144362961064182921\n",
              "365 2021-10-11  57390.0  ... -6198583760073855488   267864879243740160\n",
              "\n",
              "[366 rows x 12 columns]"
            ]
          },
          "metadata": {},
          "execution_count": 306
        }
      ]
    },
    {
      "cell_type": "markdown",
      "metadata": {
        "id": "xeQ0gZw1jPbX"
      },
      "source": [
        "## **Normalize the data**"
      ]
    },
    {
      "cell_type": "code",
      "metadata": {
        "id": "6q-b9YSqfBZR"
      },
      "source": [
        "max_v = np.amax(np.array(data[an].values), axis=0)\n",
        "min_v = np.amin(np.array(data[an].values), axis=0)\n",
        "mean_v = np.mean(np.array(data[an].values), axis=0)"
      ],
      "execution_count": null,
      "outputs": []
    },
    {
      "cell_type": "code",
      "metadata": {
        "id": "nIGHIGawgCGj"
      },
      "source": [
        "def normalize(X):\n",
        "  return (X - np.mean(X, axis=0)) / (np.amax(X, axis=0) - np.amin(X, axis=0))"
      ],
      "execution_count": null,
      "outputs": []
    },
    {
      "cell_type": "code",
      "metadata": {
        "id": "T1PnYjNJfvHM"
      },
      "source": [
        "data[an] = normalize(np.array(data[an].values))"
      ],
      "execution_count": null,
      "outputs": []
    },
    {
      "cell_type": "code",
      "metadata": {
        "colab": {
          "base_uri": "https://localhost:8080/",
          "height": 419
        },
        "id": "eh-CYfhm-PZa",
        "outputId": "59e8244a-c812-4879-bb0c-3de7d218926c"
      },
      "source": [
        "data"
      ],
      "execution_count": null,
      "outputs": [
        {
          "output_type": "execute_result",
          "data": {
            "text/html": [
              "<div>\n",
              "<style scoped>\n",
              "    .dataframe tbody tr th:only-of-type {\n",
              "        vertical-align: middle;\n",
              "    }\n",
              "\n",
              "    .dataframe tbody tr th {\n",
              "        vertical-align: top;\n",
              "    }\n",
              "\n",
              "    .dataframe thead th {\n",
              "        text-align: right;\n",
              "    }\n",
              "</style>\n",
              "<table border=\"1\" class=\"dataframe\">\n",
              "  <thead>\n",
              "    <tr style=\"text-align: right;\">\n",
              "      <th></th>\n",
              "      <th>Date</th>\n",
              "      <th>Close</th>\n",
              "      <th>day_number</th>\n",
              "      <th>d2</th>\n",
              "      <th>d3</th>\n",
              "      <th>d4</th>\n",
              "      <th>d5</th>\n",
              "      <th>d6</th>\n",
              "      <th>d7</th>\n",
              "      <th>d8</th>\n",
              "      <th>d9</th>\n",
              "      <th>d10</th>\n",
              "    </tr>\n",
              "  </thead>\n",
              "  <tbody>\n",
              "    <tr>\n",
              "      <th>0</th>\n",
              "      <td>2020-10-11</td>\n",
              "      <td>-0.525500</td>\n",
              "      <td>-0.500000</td>\n",
              "      <td>-0.334696</td>\n",
              "      <td>-0.251368</td>\n",
              "      <td>-0.201369</td>\n",
              "      <td>-0.168036</td>\n",
              "      <td>-0.144227</td>\n",
              "      <td>-0.126370</td>\n",
              "      <td>-0.026494</td>\n",
              "      <td>-0.034464</td>\n",
              "      <td>-0.001789</td>\n",
              "    </tr>\n",
              "    <tr>\n",
              "      <th>1</th>\n",
              "      <td>2020-10-12</td>\n",
              "      <td>-0.521389</td>\n",
              "      <td>-0.497260</td>\n",
              "      <td>-0.334673</td>\n",
              "      <td>-0.251368</td>\n",
              "      <td>-0.201369</td>\n",
              "      <td>-0.168036</td>\n",
              "      <td>-0.144227</td>\n",
              "      <td>-0.126370</td>\n",
              "      <td>-0.026494</td>\n",
              "      <td>-0.034464</td>\n",
              "      <td>-0.001789</td>\n",
              "    </tr>\n",
              "    <tr>\n",
              "      <th>2</th>\n",
              "      <td>2020-10-13</td>\n",
              "      <td>-0.523829</td>\n",
              "      <td>-0.494521</td>\n",
              "      <td>-0.334636</td>\n",
              "      <td>-0.251367</td>\n",
              "      <td>-0.201369</td>\n",
              "      <td>-0.168036</td>\n",
              "      <td>-0.144227</td>\n",
              "      <td>-0.126370</td>\n",
              "      <td>-0.026494</td>\n",
              "      <td>-0.034464</td>\n",
              "      <td>-0.001789</td>\n",
              "    </tr>\n",
              "    <tr>\n",
              "      <th>3</th>\n",
              "      <td>2020-10-14</td>\n",
              "      <td>-0.524616</td>\n",
              "      <td>-0.491781</td>\n",
              "      <td>-0.334584</td>\n",
              "      <td>-0.251367</td>\n",
              "      <td>-0.201369</td>\n",
              "      <td>-0.168036</td>\n",
              "      <td>-0.144227</td>\n",
              "      <td>-0.126370</td>\n",
              "      <td>-0.026494</td>\n",
              "      <td>-0.034464</td>\n",
              "      <td>-0.001789</td>\n",
              "    </tr>\n",
              "    <tr>\n",
              "      <th>4</th>\n",
              "      <td>2020-10-15</td>\n",
              "      <td>-0.521774</td>\n",
              "      <td>-0.489041</td>\n",
              "      <td>-0.334517</td>\n",
              "      <td>-0.251365</td>\n",
              "      <td>-0.201369</td>\n",
              "      <td>-0.168036</td>\n",
              "      <td>-0.144227</td>\n",
              "      <td>-0.126370</td>\n",
              "      <td>-0.026494</td>\n",
              "      <td>-0.034464</td>\n",
              "      <td>-0.001789</td>\n",
              "    </tr>\n",
              "    <tr>\n",
              "      <th>...</th>\n",
              "      <td>...</td>\n",
              "      <td>...</td>\n",
              "      <td>...</td>\n",
              "      <td>...</td>\n",
              "      <td>...</td>\n",
              "      <td>...</td>\n",
              "      <td>...</td>\n",
              "      <td>...</td>\n",
              "      <td>...</td>\n",
              "      <td>...</td>\n",
              "      <td>...</td>\n",
              "      <td>...</td>\n",
              "    </tr>\n",
              "    <tr>\n",
              "      <th>361</th>\n",
              "      <td>2021-10-07</td>\n",
              "      <td>0.297575</td>\n",
              "      <td>0.489041</td>\n",
              "      <td>0.643566</td>\n",
              "      <td>0.716202</td>\n",
              "      <td>0.755627</td>\n",
              "      <td>0.778501</td>\n",
              "      <td>0.791965</td>\n",
              "      <td>0.799590</td>\n",
              "      <td>-0.040284</td>\n",
              "      <td>0.018275</td>\n",
              "      <td>-0.045446</td>\n",
              "    </tr>\n",
              "    <tr>\n",
              "      <th>362</th>\n",
              "      <td>2021-10-08</td>\n",
              "      <td>0.292696</td>\n",
              "      <td>0.491781</td>\n",
              "      <td>0.648978</td>\n",
              "      <td>0.724243</td>\n",
              "      <td>0.766245</td>\n",
              "      <td>0.791647</td>\n",
              "      <td>0.807590</td>\n",
              "      <td>0.817644</td>\n",
              "      <td>0.319626</td>\n",
              "      <td>-0.508362</td>\n",
              "      <td>0.190846</td>\n",
              "    </tr>\n",
              "    <tr>\n",
              "      <th>363</th>\n",
              "      <td>2021-10-09</td>\n",
              "      <td>0.306140</td>\n",
              "      <td>0.494521</td>\n",
              "      <td>0.654405</td>\n",
              "      <td>0.732328</td>\n",
              "      <td>0.776952</td>\n",
              "      <td>0.804939</td>\n",
              "      <td>0.823431</td>\n",
              "      <td>0.836000</td>\n",
              "      <td>-0.322387</td>\n",
              "      <td>0.215520</td>\n",
              "      <td>0.353484</td>\n",
              "    </tr>\n",
              "    <tr>\n",
              "      <th>364</th>\n",
              "      <td>2021-10-10</td>\n",
              "      <td>0.321006</td>\n",
              "      <td>0.497260</td>\n",
              "      <td>0.659847</td>\n",
              "      <td>0.740458</td>\n",
              "      <td>0.787747</td>\n",
              "      <td>0.818377</td>\n",
              "      <td>0.839491</td>\n",
              "      <td>0.854660</td>\n",
              "      <td>0.051654</td>\n",
              "      <td>0.239169</td>\n",
              "      <td>0.170578</td>\n",
              "    </tr>\n",
              "    <tr>\n",
              "      <th>365</th>\n",
              "      <td>2021-10-11</td>\n",
              "      <td>0.358746</td>\n",
              "      <td>0.500000</td>\n",
              "      <td>0.665304</td>\n",
              "      <td>0.748632</td>\n",
              "      <td>0.798631</td>\n",
              "      <td>0.831964</td>\n",
              "      <td>0.855773</td>\n",
              "      <td>0.873630</td>\n",
              "      <td>0.432938</td>\n",
              "      <td>-0.372881</td>\n",
              "      <td>0.012895</td>\n",
              "    </tr>\n",
              "  </tbody>\n",
              "</table>\n",
              "<p>366 rows × 12 columns</p>\n",
              "</div>"
            ],
            "text/plain": [
              "          Date     Close  day_number  ...        d8        d9       d10\n",
              "0   2020-10-11 -0.525500   -0.500000  ... -0.026494 -0.034464 -0.001789\n",
              "1   2020-10-12 -0.521389   -0.497260  ... -0.026494 -0.034464 -0.001789\n",
              "2   2020-10-13 -0.523829   -0.494521  ... -0.026494 -0.034464 -0.001789\n",
              "3   2020-10-14 -0.524616   -0.491781  ... -0.026494 -0.034464 -0.001789\n",
              "4   2020-10-15 -0.521774   -0.489041  ... -0.026494 -0.034464 -0.001789\n",
              "..         ...       ...         ...  ...       ...       ...       ...\n",
              "361 2021-10-07  0.297575    0.489041  ... -0.040284  0.018275 -0.045446\n",
              "362 2021-10-08  0.292696    0.491781  ...  0.319626 -0.508362  0.190846\n",
              "363 2021-10-09  0.306140    0.494521  ... -0.322387  0.215520  0.353484\n",
              "364 2021-10-10  0.321006    0.497260  ...  0.051654  0.239169  0.170578\n",
              "365 2021-10-11  0.358746    0.500000  ...  0.432938 -0.372881  0.012895\n",
              "\n",
              "[366 rows x 12 columns]"
            ]
          },
          "metadata": {},
          "execution_count": 310
        }
      ]
    },
    {
      "cell_type": "markdown",
      "metadata": {
        "id": "XRvGz5HxjUUH"
      },
      "source": [
        "## **Split the data**"
      ]
    },
    {
      "cell_type": "markdown",
      "metadata": {
        "id": "ImdcUKioktrw"
      },
      "source": [
        "Here, I splited the data in two part(train, val).\n",
        "First of all, the cength of each part were calculated, then while the length of list of selected indexes is not equal to length of validation part, the while continues, when the lengths are equal, i took the every parts by their indexes!"
      ]
    },
    {
      "cell_type": "code",
      "metadata": {
        "id": "vU27AKYoUZ6n"
      },
      "source": [
        "def train_val_split(data, p):\n",
        "  length = len(data)\n",
        "  t_l = int(length * p)\n",
        "\n",
        "  l = []\n",
        "  while len(l) != length - t_l:\n",
        "    t = randint(0, length-1)\n",
        "    if t not in l:\n",
        "      l.append(t)\n",
        "\n",
        "  X_val =  data.loc[l]\n",
        "  y_val = data.loc[l]  \n",
        "  X_val =  X_val[fn]\n",
        "  y_val = y_val[['Close']]\n",
        "\n",
        "\n",
        "  X_train = data.drop(l)\n",
        "  y_train = data.drop(l)\n",
        "  X_train = X_train[fn]\n",
        "  y_train = y_train[['Close']]\n",
        "  return X_train, y_train, X_val, y_val"
      ],
      "execution_count": null,
      "outputs": []
    },
    {
      "cell_type": "code",
      "metadata": {
        "id": "1BdDvtVRfJWf"
      },
      "source": [
        "X_train, y_train, X_valid, y_valid = train_val_split(data, 0.8)"
      ],
      "execution_count": null,
      "outputs": []
    },
    {
      "cell_type": "code",
      "metadata": {
        "id": "2uBuYtVvW3Jj"
      },
      "source": [
        "X_train = np.array(X_train)\n",
        "y_train = np.array(y_train)\n",
        "X_valid =  np.array(X_valid)\n",
        "y_valid = np.array(y_valid)"
      ],
      "execution_count": null,
      "outputs": []
    },
    {
      "cell_type": "code",
      "metadata": {
        "colab": {
          "base_uri": "https://localhost:8080/"
        },
        "id": "rvW1v95oTZvs",
        "outputId": "92f19eed-4494-45d6-ddb5-36a1f8be1640"
      },
      "source": [
        "print(X_train.shape)\n",
        "print(y_train.shape)\n",
        "print(X_valid.shape)\n",
        "print(y_valid.shape)"
      ],
      "execution_count": null,
      "outputs": [
        {
          "output_type": "stream",
          "name": "stdout",
          "text": [
            "(292, 10)\n",
            "(292, 1)\n",
            "(74, 10)\n",
            "(74, 1)\n"
          ]
        }
      ]
    },
    {
      "cell_type": "markdown",
      "metadata": {
        "id": "k-MvxBKzjc6v"
      },
      "source": [
        "## **Model**"
      ]
    },
    {
      "cell_type": "code",
      "metadata": {
        "id": "6lMdX_EufJQg"
      },
      "source": [
        "def cost_function(y, p):\n",
        "  m = len(y)\n",
        "  cost = (1 / m) * np.sum(np.multiply((y - p),(y - p)))\n",
        "  return cost"
      ],
      "execution_count": null,
      "outputs": []
    },
    {
      "cell_type": "code",
      "metadata": {
        "id": "JExpbSfMp4K6"
      },
      "source": [
        "def calc_derivative(X, y, p):\n",
        "  w_d = (-2 / len(X)) * np.dot(X.transpose(), (y - p))\n",
        "  b_d = (-2 / len(X)) * np.sum((y - p))\n",
        "  return w_d, b_d"
      ],
      "execution_count": null,
      "outputs": []
    },
    {
      "cell_type": "code",
      "metadata": {
        "id": "xYLkqfI1vNoZ"
      },
      "source": [
        "def predict(X, W, b):\n",
        "  return np.dot(X, W) + b"
      ],
      "execution_count": null,
      "outputs": []
    },
    {
      "cell_type": "code",
      "metadata": {
        "id": "X3mxauKMfJN4"
      },
      "source": [
        "def gradient_descent(X, y, X_valid, y_valid, n_itrs = 15000, alpha = 0.001):\n",
        "  W = np.zeros((X.shape[1], 1))\n",
        "  b = 1\n",
        "  valid_costs = []\n",
        "  costs = []\n",
        "  derivatives = []\n",
        "  for i in range(n_itrs):\n",
        "    p = predict(X, W, b)\n",
        "\n",
        "    cost = cost_function(y, p)\n",
        "    costs.append(cost)\n",
        "\n",
        "    v_c = cost_function(y_valid, predict(X_valid, W, b))\n",
        "    valid_costs.append(v_c)\n",
        "      \n",
        "    derv_w, derv_b = calc_derivative(X, y, p)\n",
        "    derivatives.append([derv_w, derv_b])\n",
        "\n",
        "    W -= alpha * derv_w\n",
        "    b -= alpha * derv_b\n",
        "    \n",
        "  return W, b, costs, derivatives"
      ],
      "execution_count": null,
      "outputs": []
    },
    {
      "cell_type": "markdown",
      "metadata": {
        "id": "wsLsyqK4jgur"
      },
      "source": [
        "## **Try the model for 20 different degrees of the polynomial.**"
      ]
    },
    {
      "cell_type": "code",
      "metadata": {
        "colab": {
          "base_uri": "https://localhost:8080/"
        },
        "id": "0BMbbNDdm1Jj",
        "outputId": "de3276d0-151b-4f94-be03-a93281396b19"
      },
      "source": [
        "costs = []\n",
        "Ws = []\n",
        "bs = []\n",
        "mc = 10\n",
        "i_a = -1\n",
        "\n",
        "for i in range(powers):\n",
        "  \n",
        "  W, b, costs_i, derivatives = gradient_descent(X_train[:, : (i + 1)], y_train, X_valid[:, :(i + 1)], y_valid, n_itrs = 1000000 + 10000 * i)\n",
        "  p = predict(X_valid[:, : (i + 1) ], W, b)\n",
        "  c = cost_function(y_valid, p)\n",
        "  if c < mc:\n",
        "    mc = c\n",
        "    Ws=W\n",
        "    bs = b\n",
        "    i_a = i\n",
        "  print(i, ' : ',c)\n",
        "print(i_a)"
      ],
      "execution_count": null,
      "outputs": [
        {
          "output_type": "stream",
          "name": "stdout",
          "text": [
            "0  :  0.05228975489869381\n",
            "1  :  0.029437950951853063\n",
            "2  :  0.030204002333721638\n",
            "3  :  0.024939142076282932\n",
            "4  :  0.019583916992695356\n",
            "5  :  0.017544383086856928\n",
            "6  :  0.01769099303251347\n",
            "7  :  0.017861507399158007\n",
            "8  :  0.017883221681514436\n",
            "9  :  0.01753984551180936\n",
            "9\n"
          ]
        }
      ]
    },
    {
      "cell_type": "code",
      "metadata": {
        "colab": {
          "base_uri": "https://localhost:8080/",
          "height": 419
        },
        "id": "zLt85bPyT5RF",
        "outputId": "1a7465d2-45c8-4441-adca-dbba8f798d8c"
      },
      "source": [
        "data.iloc[:, 2:(i_a + 3)]"
      ],
      "execution_count": null,
      "outputs": [
        {
          "output_type": "execute_result",
          "data": {
            "text/html": [
              "<div>\n",
              "<style scoped>\n",
              "    .dataframe tbody tr th:only-of-type {\n",
              "        vertical-align: middle;\n",
              "    }\n",
              "\n",
              "    .dataframe tbody tr th {\n",
              "        vertical-align: top;\n",
              "    }\n",
              "\n",
              "    .dataframe thead th {\n",
              "        text-align: right;\n",
              "    }\n",
              "</style>\n",
              "<table border=\"1\" class=\"dataframe\">\n",
              "  <thead>\n",
              "    <tr style=\"text-align: right;\">\n",
              "      <th></th>\n",
              "      <th>day_number</th>\n",
              "      <th>d2</th>\n",
              "      <th>d3</th>\n",
              "      <th>d4</th>\n",
              "      <th>d5</th>\n",
              "      <th>d6</th>\n",
              "      <th>d7</th>\n",
              "      <th>d8</th>\n",
              "      <th>d9</th>\n",
              "      <th>d10</th>\n",
              "    </tr>\n",
              "  </thead>\n",
              "  <tbody>\n",
              "    <tr>\n",
              "      <th>0</th>\n",
              "      <td>-0.500000</td>\n",
              "      <td>-0.334696</td>\n",
              "      <td>-0.251368</td>\n",
              "      <td>-0.201369</td>\n",
              "      <td>-0.168036</td>\n",
              "      <td>-0.144227</td>\n",
              "      <td>-0.126370</td>\n",
              "      <td>-0.026494</td>\n",
              "      <td>-0.034464</td>\n",
              "      <td>-0.001789</td>\n",
              "    </tr>\n",
              "    <tr>\n",
              "      <th>1</th>\n",
              "      <td>-0.497260</td>\n",
              "      <td>-0.334673</td>\n",
              "      <td>-0.251368</td>\n",
              "      <td>-0.201369</td>\n",
              "      <td>-0.168036</td>\n",
              "      <td>-0.144227</td>\n",
              "      <td>-0.126370</td>\n",
              "      <td>-0.026494</td>\n",
              "      <td>-0.034464</td>\n",
              "      <td>-0.001789</td>\n",
              "    </tr>\n",
              "    <tr>\n",
              "      <th>2</th>\n",
              "      <td>-0.494521</td>\n",
              "      <td>-0.334636</td>\n",
              "      <td>-0.251367</td>\n",
              "      <td>-0.201369</td>\n",
              "      <td>-0.168036</td>\n",
              "      <td>-0.144227</td>\n",
              "      <td>-0.126370</td>\n",
              "      <td>-0.026494</td>\n",
              "      <td>-0.034464</td>\n",
              "      <td>-0.001789</td>\n",
              "    </tr>\n",
              "    <tr>\n",
              "      <th>3</th>\n",
              "      <td>-0.491781</td>\n",
              "      <td>-0.334584</td>\n",
              "      <td>-0.251367</td>\n",
              "      <td>-0.201369</td>\n",
              "      <td>-0.168036</td>\n",
              "      <td>-0.144227</td>\n",
              "      <td>-0.126370</td>\n",
              "      <td>-0.026494</td>\n",
              "      <td>-0.034464</td>\n",
              "      <td>-0.001789</td>\n",
              "    </tr>\n",
              "    <tr>\n",
              "      <th>4</th>\n",
              "      <td>-0.489041</td>\n",
              "      <td>-0.334517</td>\n",
              "      <td>-0.251365</td>\n",
              "      <td>-0.201369</td>\n",
              "      <td>-0.168036</td>\n",
              "      <td>-0.144227</td>\n",
              "      <td>-0.126370</td>\n",
              "      <td>-0.026494</td>\n",
              "      <td>-0.034464</td>\n",
              "      <td>-0.001789</td>\n",
              "    </tr>\n",
              "    <tr>\n",
              "      <th>...</th>\n",
              "      <td>...</td>\n",
              "      <td>...</td>\n",
              "      <td>...</td>\n",
              "      <td>...</td>\n",
              "      <td>...</td>\n",
              "      <td>...</td>\n",
              "      <td>...</td>\n",
              "      <td>...</td>\n",
              "      <td>...</td>\n",
              "      <td>...</td>\n",
              "    </tr>\n",
              "    <tr>\n",
              "      <th>361</th>\n",
              "      <td>0.489041</td>\n",
              "      <td>0.643566</td>\n",
              "      <td>0.716202</td>\n",
              "      <td>0.755627</td>\n",
              "      <td>0.778501</td>\n",
              "      <td>0.791965</td>\n",
              "      <td>0.799590</td>\n",
              "      <td>-0.040284</td>\n",
              "      <td>0.018275</td>\n",
              "      <td>-0.045446</td>\n",
              "    </tr>\n",
              "    <tr>\n",
              "      <th>362</th>\n",
              "      <td>0.491781</td>\n",
              "      <td>0.648978</td>\n",
              "      <td>0.724243</td>\n",
              "      <td>0.766245</td>\n",
              "      <td>0.791647</td>\n",
              "      <td>0.807590</td>\n",
              "      <td>0.817644</td>\n",
              "      <td>0.319626</td>\n",
              "      <td>-0.508362</td>\n",
              "      <td>0.190846</td>\n",
              "    </tr>\n",
              "    <tr>\n",
              "      <th>363</th>\n",
              "      <td>0.494521</td>\n",
              "      <td>0.654405</td>\n",
              "      <td>0.732328</td>\n",
              "      <td>0.776952</td>\n",
              "      <td>0.804939</td>\n",
              "      <td>0.823431</td>\n",
              "      <td>0.836000</td>\n",
              "      <td>-0.322387</td>\n",
              "      <td>0.215520</td>\n",
              "      <td>0.353484</td>\n",
              "    </tr>\n",
              "    <tr>\n",
              "      <th>364</th>\n",
              "      <td>0.497260</td>\n",
              "      <td>0.659847</td>\n",
              "      <td>0.740458</td>\n",
              "      <td>0.787747</td>\n",
              "      <td>0.818377</td>\n",
              "      <td>0.839491</td>\n",
              "      <td>0.854660</td>\n",
              "      <td>0.051654</td>\n",
              "      <td>0.239169</td>\n",
              "      <td>0.170578</td>\n",
              "    </tr>\n",
              "    <tr>\n",
              "      <th>365</th>\n",
              "      <td>0.500000</td>\n",
              "      <td>0.665304</td>\n",
              "      <td>0.748632</td>\n",
              "      <td>0.798631</td>\n",
              "      <td>0.831964</td>\n",
              "      <td>0.855773</td>\n",
              "      <td>0.873630</td>\n",
              "      <td>0.432938</td>\n",
              "      <td>-0.372881</td>\n",
              "      <td>0.012895</td>\n",
              "    </tr>\n",
              "  </tbody>\n",
              "</table>\n",
              "<p>366 rows × 10 columns</p>\n",
              "</div>"
            ],
            "text/plain": [
              "     day_number        d2        d3  ...        d8        d9       d10\n",
              "0     -0.500000 -0.334696 -0.251368  ... -0.026494 -0.034464 -0.001789\n",
              "1     -0.497260 -0.334673 -0.251368  ... -0.026494 -0.034464 -0.001789\n",
              "2     -0.494521 -0.334636 -0.251367  ... -0.026494 -0.034464 -0.001789\n",
              "3     -0.491781 -0.334584 -0.251367  ... -0.026494 -0.034464 -0.001789\n",
              "4     -0.489041 -0.334517 -0.251365  ... -0.026494 -0.034464 -0.001789\n",
              "..          ...       ...       ...  ...       ...       ...       ...\n",
              "361    0.489041  0.643566  0.716202  ... -0.040284  0.018275 -0.045446\n",
              "362    0.491781  0.648978  0.724243  ...  0.319626 -0.508362  0.190846\n",
              "363    0.494521  0.654405  0.732328  ... -0.322387  0.215520  0.353484\n",
              "364    0.497260  0.659847  0.740458  ...  0.051654  0.239169  0.170578\n",
              "365    0.500000  0.665304  0.748632  ...  0.432938 -0.372881  0.012895\n",
              "\n",
              "[366 rows x 10 columns]"
            ]
          },
          "metadata": {},
          "execution_count": 320
        }
      ]
    },
    {
      "cell_type": "markdown",
      "metadata": {
        "id": "ZlqPZfpNWV1y"
      },
      "source": [
        "Comparing the actual and predicted values."
      ]
    },
    {
      "cell_type": "code",
      "metadata": {
        "id": "YG1abhSrBk5G"
      },
      "source": [
        "p = predict(np.array(data.iloc[:, 2:(i_a + 3)]), Ws, bs)"
      ],
      "execution_count": null,
      "outputs": []
    },
    {
      "cell_type": "code",
      "metadata": {
        "colab": {
          "base_uri": "https://localhost:8080/",
          "height": 279
        },
        "id": "TVVXhSMtBg9i",
        "outputId": "8dc6585e-fd19-4f36-8249-289f1888e56f"
      },
      "source": [
        "import matplotlib.pyplot as plt\n",
        "\n",
        "plt.plot(p, label= 'Predicted')\n",
        "plt.plot(data['Close'], label= 'Actual')\n",
        "plt.legend(loc='best')\n",
        "plt.xlabel('Day')\n",
        "plt.ylabel('Close!')\n",
        "plt.show()"
      ],
      "execution_count": null,
      "outputs": [
        {
          "output_type": "display_data",
          "data": {
            "image/png": "[encoded data removed]",
            "text/plain": [
              "<Figure size 432x288 with 1 Axes>"
            ]
          },
          "metadata": {
            "needs_background": "light"
          }
        }
      ]
    }
  ]
}