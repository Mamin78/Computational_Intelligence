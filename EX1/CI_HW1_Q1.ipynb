{
  "nbformat": 4,
  "nbformat_minor": 0,
  "metadata": {
    "colab": {
      "name": "CI_HW1_Q1.ipynb",
      "provenance": [],
      "collapsed_sections": []
    },
    "kernelspec": {
      "name": "python3",
      "display_name": "Python 3"
    },
    "language_info": {
      "name": "python"
    }
  },
  "cells": [
    {
      "cell_type": "markdown",
      "metadata": {
        "id": "MTwvYk62gtXb"
      },
      "source": [
        "# **Imports**"
      ]
    },
    {
      "cell_type": "code",
      "metadata": {
        "id": "Xs98Wxfoezbd"
      },
      "source": [
        "import pandas as pd\n",
        "from random import randint\n",
        "import numpy as np"
      ],
      "execution_count": null,
      "outputs": []
    },
    {
      "cell_type": "markdown",
      "metadata": {
        "id": "Q4T_tDvugzPH"
      },
      "source": [
        "# **Read the data**"
      ]
    },
    {
      "cell_type": "code",
      "metadata": {
        "id": "9HLyYjFCfjSb"
      },
      "source": [
        "data = pd.read_csv('CRYPTOCURRENCY_COINDESK_BTCUSD_NEW.csv')"
      ],
      "execution_count": null,
      "outputs": []
    },
    {
      "cell_type": "markdown",
      "metadata": {
        "id": "3HAtpZFTg4bc"
      },
      "source": [
        "## **Preprocessing**"
      ]
    },
    {
      "cell_type": "markdown",
      "metadata": {
        "id": "-zHfHBE9iohC"
      },
      "source": [
        "Four different feature were created from 'Date' Column.\n",
        "Year, Month, Day and Day number which shows the index of current day in the data."
      ]
    },
    {
      "cell_type": "code",
      "metadata": {
        "id": "H__P_MYHXQYI"
      },
      "source": [
        "data['Date'] = pd.to_datetime(data['Date'], format='%m/%d/%Y')"
      ],
      "execution_count": null,
      "outputs": []
    },
    {
      "cell_type": "code",
      "metadata": {
        "id": "i9al1xQSXwfp"
      },
      "source": [
        "data['year'] = data['Date'].dt.year\n",
        "data['month'] = data['Date'].dt.month\n",
        "data['day'] = data['Date'].dt.day"
      ],
      "execution_count": null,
      "outputs": []
    },
    {
      "cell_type": "code",
      "metadata": {
        "id": "U2nU29_zYX-q"
      },
      "source": [
        "data['year'] = data['year'] % 2020 + 1"
      ],
      "execution_count": null,
      "outputs": []
    },
    {
      "cell_type": "code",
      "metadata": {
        "id": "5UWmlVrLC4Q2"
      },
      "source": [
        "data['day_number'] = data.index.values + 1"
      ],
      "execution_count": null,
      "outputs": []
    },
    {
      "cell_type": "code",
      "metadata": {
        "id": "aAESaaGX30ob"
      },
      "source": [
        "data['Close'] = data['Close'].apply(lambda s: s.replace(',', ''))\n",
        "data['Close'] = data['Close'].astype('float32')"
      ],
      "execution_count": null,
      "outputs": []
    },
    {
      "cell_type": "code",
      "metadata": {
        "id": "9BW12x1MFHij"
      },
      "source": [
        "fn = ['year', 'month', 'day', 'day_number']\n",
        "an = ['year', 'month', 'day', 'day_number', 'Close']"
      ],
      "execution_count": null,
      "outputs": []
    },
    {
      "cell_type": "code",
      "metadata": {
        "colab": {
          "base_uri": "https://localhost:8080/",
          "height": 279
        },
        "id": "YgwRK8hEi0Q9",
        "outputId": "1ea2ec22-97cd-4081-c4df-24e2888d1596"
      },
      "source": [
        "import matplotlib.pyplot as plt\n",
        "plt.plot(data['Close'])\n",
        "plt.xlabel('Day')\n",
        "plt.ylabel('Close!')\n",
        "plt.show()"
      ],
      "execution_count": null,
      "outputs": [
        {
          "output_type": "display_data",
          "data": {
            "image/png": "[encoded data removed]",
            "text/plain": [
              "<Figure size 432x288 with 1 Axes>"
            ]
          },
          "metadata": {
            "needs_background": "light"
          }
        }
      ]
    },
    {
      "cell_type": "markdown",
      "metadata": {
        "id": "ox2PXmPUhDud"
      },
      "source": [
        "# **Normalization**"
      ]
    },
    {
      "cell_type": "code",
      "metadata": {
        "id": "WP0KtwHg-kvu"
      },
      "source": [
        "max_v = np.amax(np.array(data[an].values), axis=0)\n",
        "min_v = np.amin(np.array(data[an].values), axis=0)\n",
        "mean_v = np.mean(np.array(data[an].values), axis=0)\n",
        "\n",
        "def normalize(X):\n",
        "  return (X - np.mean(X, axis=0)) / (np.amax(X, axis=0) - np.amin(X, axis=0))\n",
        "\n",
        "data[an] = normalize(np.array(data[an].values))"
      ],
      "execution_count": null,
      "outputs": []
    },
    {
      "cell_type": "code",
      "metadata": {
        "id": "9LYTBVOgtTYr"
      },
      "source": [
        "def denormalize(n, maxv, minv, meanv):\n",
        "  return (n * (maxv - minv)) + meanv"
      ],
      "execution_count": null,
      "outputs": []
    },
    {
      "cell_type": "code",
      "metadata": {
        "colab": {
          "base_uri": "https://localhost:8080/",
          "height": 419
        },
        "id": "uZcEwOjHF6t1",
        "outputId": "8d933486-c2f5-4c43-c861-f876f7232a05"
      },
      "source": [
        "data"
      ],
      "execution_count": null,
      "outputs": [
        {
          "output_type": "execute_result",
          "data": {
            "text/html": [
              "<div>\n",
              "<style scoped>\n",
              "    .dataframe tbody tr th:only-of-type {\n",
              "        vertical-align: middle;\n",
              "    }\n",
              "\n",
              "    .dataframe tbody tr th {\n",
              "        vertical-align: top;\n",
              "    }\n",
              "\n",
              "    .dataframe thead th {\n",
              "        text-align: right;\n",
              "    }\n",
              "</style>\n",
              "<table border=\"1\" class=\"dataframe\">\n",
              "  <thead>\n",
              "    <tr style=\"text-align: right;\">\n",
              "      <th></th>\n",
              "      <th>Date</th>\n",
              "      <th>Close</th>\n",
              "      <th>year</th>\n",
              "      <th>month</th>\n",
              "      <th>day</th>\n",
              "      <th>day_number</th>\n",
              "    </tr>\n",
              "  </thead>\n",
              "  <tbody>\n",
              "    <tr>\n",
              "      <th>0</th>\n",
              "      <td>2020-10-11</td>\n",
              "      <td>-0.525500</td>\n",
              "      <td>-0.775956</td>\n",
              "      <td>0.314953</td>\n",
              "      <td>-0.156922</td>\n",
              "      <td>-0.500000</td>\n",
              "    </tr>\n",
              "    <tr>\n",
              "      <th>1</th>\n",
              "      <td>2020-10-12</td>\n",
              "      <td>-0.521389</td>\n",
              "      <td>-0.775956</td>\n",
              "      <td>0.314953</td>\n",
              "      <td>-0.123588</td>\n",
              "      <td>-0.497260</td>\n",
              "    </tr>\n",
              "    <tr>\n",
              "      <th>2</th>\n",
              "      <td>2020-10-13</td>\n",
              "      <td>-0.523829</td>\n",
              "      <td>-0.775956</td>\n",
              "      <td>0.314953</td>\n",
              "      <td>-0.090255</td>\n",
              "      <td>-0.494521</td>\n",
              "    </tr>\n",
              "    <tr>\n",
              "      <th>3</th>\n",
              "      <td>2020-10-14</td>\n",
              "      <td>-0.524616</td>\n",
              "      <td>-0.775956</td>\n",
              "      <td>0.314953</td>\n",
              "      <td>-0.056922</td>\n",
              "      <td>-0.491781</td>\n",
              "    </tr>\n",
              "    <tr>\n",
              "      <th>4</th>\n",
              "      <td>2020-10-15</td>\n",
              "      <td>-0.521774</td>\n",
              "      <td>-0.775956</td>\n",
              "      <td>0.314953</td>\n",
              "      <td>-0.023588</td>\n",
              "      <td>-0.489041</td>\n",
              "    </tr>\n",
              "    <tr>\n",
              "      <th>...</th>\n",
              "      <td>...</td>\n",
              "      <td>...</td>\n",
              "      <td>...</td>\n",
              "      <td>...</td>\n",
              "      <td>...</td>\n",
              "      <td>...</td>\n",
              "    </tr>\n",
              "    <tr>\n",
              "      <th>361</th>\n",
              "      <td>2021-10-07</td>\n",
              "      <td>0.297575</td>\n",
              "      <td>0.224044</td>\n",
              "      <td>0.314953</td>\n",
              "      <td>-0.290255</td>\n",
              "      <td>0.489041</td>\n",
              "    </tr>\n",
              "    <tr>\n",
              "      <th>362</th>\n",
              "      <td>2021-10-08</td>\n",
              "      <td>0.292696</td>\n",
              "      <td>0.224044</td>\n",
              "      <td>0.314953</td>\n",
              "      <td>-0.256922</td>\n",
              "      <td>0.491781</td>\n",
              "    </tr>\n",
              "    <tr>\n",
              "      <th>363</th>\n",
              "      <td>2021-10-09</td>\n",
              "      <td>0.306140</td>\n",
              "      <td>0.224044</td>\n",
              "      <td>0.314953</td>\n",
              "      <td>-0.223588</td>\n",
              "      <td>0.494521</td>\n",
              "    </tr>\n",
              "    <tr>\n",
              "      <th>364</th>\n",
              "      <td>2021-10-10</td>\n",
              "      <td>0.321006</td>\n",
              "      <td>0.224044</td>\n",
              "      <td>0.314953</td>\n",
              "      <td>-0.190255</td>\n",
              "      <td>0.497260</td>\n",
              "    </tr>\n",
              "    <tr>\n",
              "      <th>365</th>\n",
              "      <td>2021-10-11</td>\n",
              "      <td>0.358746</td>\n",
              "      <td>0.224044</td>\n",
              "      <td>0.314953</td>\n",
              "      <td>-0.156922</td>\n",
              "      <td>0.500000</td>\n",
              "    </tr>\n",
              "  </tbody>\n",
              "</table>\n",
              "<p>366 rows × 6 columns</p>\n",
              "</div>"
            ],
            "text/plain": [
              "          Date     Close      year     month       day  day_number\n",
              "0   2020-10-11 -0.525500 -0.775956  0.314953 -0.156922   -0.500000\n",
              "1   2020-10-12 -0.521389 -0.775956  0.314953 -0.123588   -0.497260\n",
              "2   2020-10-13 -0.523829 -0.775956  0.314953 -0.090255   -0.494521\n",
              "3   2020-10-14 -0.524616 -0.775956  0.314953 -0.056922   -0.491781\n",
              "4   2020-10-15 -0.521774 -0.775956  0.314953 -0.023588   -0.489041\n",
              "..         ...       ...       ...       ...       ...         ...\n",
              "361 2021-10-07  0.297575  0.224044  0.314953 -0.290255    0.489041\n",
              "362 2021-10-08  0.292696  0.224044  0.314953 -0.256922    0.491781\n",
              "363 2021-10-09  0.306140  0.224044  0.314953 -0.223588    0.494521\n",
              "364 2021-10-10  0.321006  0.224044  0.314953 -0.190255    0.497260\n",
              "365 2021-10-11  0.358746  0.224044  0.314953 -0.156922    0.500000\n",
              "\n",
              "[366 rows x 6 columns]"
            ]
          },
          "metadata": {},
          "execution_count": 48
        }
      ]
    },
    {
      "cell_type": "markdown",
      "metadata": {
        "id": "Gkf8nV2fhRXe"
      },
      "source": [
        "# **Train validation Split**"
      ]
    },
    {
      "cell_type": "code",
      "metadata": {
        "id": "vU27AKYoUZ6n"
      },
      "source": [
        "def train_val_split(data, p):\n",
        "  length = len(data)\n",
        "  t_l = int(length * p)\n",
        "\n",
        "  l = []\n",
        "  while len(l) != length - t_l:\n",
        "    t = randint(0, length-1)\n",
        "    if t not in l:\n",
        "      l.append(t)\n",
        "\n",
        "  X_val =  data.loc[l]\n",
        "  y_val = data.loc[l]  \n",
        "  X_val =  X_val[fn]\n",
        "  y_val = y_val[['Close']]\n",
        "\n",
        "\n",
        "  X_train = data.drop(l)\n",
        "  y_train = data.drop(l)\n",
        "  X_train = X_train[fn]\n",
        "  y_train = y_train[['Close']]\n",
        "  return X_train, y_train, X_val, y_val"
      ],
      "execution_count": null,
      "outputs": []
    },
    {
      "cell_type": "code",
      "metadata": {
        "id": "1BdDvtVRfJWf"
      },
      "source": [
        "X_train, y_train, X_valid, y_valid = train_val_split(data, 0.8)"
      ],
      "execution_count": null,
      "outputs": []
    },
    {
      "cell_type": "code",
      "metadata": {
        "id": "2uBuYtVvW3Jj"
      },
      "source": [
        "X_train = np.array(X_train)\n",
        "y_train = np.array(y_train)\n",
        "X_valid =  np.array(X_valid)\n",
        "y_valid = np.array(y_valid)"
      ],
      "execution_count": null,
      "outputs": []
    },
    {
      "cell_type": "code",
      "metadata": {
        "colab": {
          "base_uri": "https://localhost:8080/"
        },
        "id": "rvW1v95oTZvs",
        "outputId": "7210736c-034d-4a53-9857-525e11e041d7"
      },
      "source": [
        "print(X_train.shape)\n",
        "print(y_train.shape)\n",
        "print(X_valid.shape)\n",
        "print(y_valid.shape)"
      ],
      "execution_count": null,
      "outputs": [
        {
          "output_type": "stream",
          "name": "stdout",
          "text": [
            "(292, 4)\n",
            "(292, 1)\n",
            "(74, 4)\n",
            "(74, 1)\n"
          ]
        }
      ]
    },
    {
      "cell_type": "markdown",
      "metadata": {
        "id": "3d1SPj_ehWwD"
      },
      "source": [
        "# **Model**"
      ]
    },
    {
      "cell_type": "code",
      "metadata": {
        "id": "6lMdX_EufJQg"
      },
      "source": [
        "def cost_function(y, p):\n",
        "  m = len(y)\n",
        "  cost = (1 / m) * np.sum(np.multiply((y - p),(y - p)))\n",
        "  return cost"
      ],
      "execution_count": null,
      "outputs": []
    },
    {
      "cell_type": "code",
      "metadata": {
        "id": "JExpbSfMp4K6"
      },
      "source": [
        "def calc_derivative(X, y, p):\n",
        "  w_d = (-2 / len(X)) * np.dot(X.transpose(), (y - p))\n",
        "  b_d = (-2 / len(X)) * np.sum((y - p))\n",
        "  return w_d, b_d"
      ],
      "execution_count": null,
      "outputs": []
    },
    {
      "cell_type": "code",
      "metadata": {
        "colab": {
          "base_uri": "https://localhost:8080/"
        },
        "id": "PH0BhktwZ7Qz",
        "outputId": "1c82d05d-c59e-41be-8f1d-567961a2335d"
      },
      "source": [
        "calc_derivative(X_train, y_train, y_train + 1)"
      ],
      "execution_count": null,
      "outputs": [
        {
          "output_type": "execute_result",
          "data": {
            "text/plain": [
              "(array([[-0.00396736],\n",
              "        [-0.00023137],\n",
              "        [-0.02457395],\n",
              "        [-0.00623006]]), 2.0)"
            ]
          },
          "metadata": {},
          "execution_count": 55
        }
      ]
    },
    {
      "cell_type": "code",
      "metadata": {
        "id": "xYLkqfI1vNoZ"
      },
      "source": [
        "def predict(X, W, b):\n",
        "  return np.dot(X, W) + b"
      ],
      "execution_count": null,
      "outputs": []
    },
    {
      "cell_type": "code",
      "metadata": {
        "id": "X3mxauKMfJN4"
      },
      "source": [
        "def gradient_descent(X, y, X_valid, y_valid, n_itrs = 100000, alpha = 0.001):\n",
        "  # W = np.zeros((X_train.shape[1], 1))\n",
        "  # b = 0\n",
        "  W = np.random.random_sample((X_train.shape[1], 1))\n",
        "  b = np.random.random_sample((1, 1))\n",
        "  valid_costs = []\n",
        "  grads = []\n",
        "  derivatives = []\n",
        "  for i in range(n_itrs+1):\n",
        "    p = predict(X, W, b)\n",
        "    \n",
        "    cost = cost_function(y, p)\n",
        "    grads.append(cost)\n",
        "\n",
        "    # calculate the cost for validation part with current weights\n",
        "    v_c = cost_function(y_valid, predict(X_valid, W, b))\n",
        "    valid_costs.append(v_c)\n",
        "    \n",
        "    # calculate derivatives\n",
        "    derv_w, derv_b = calc_derivative(X, y, p)\n",
        "    derivatives.append([derv_w, derv_b])\n",
        "\n",
        "    # new weights\n",
        "    W -= alpha * derv_w\n",
        "    b -= alpha * derv_b\n",
        "    \n",
        "    if i % 1000 == 0:\n",
        "      print(i)\n",
        "      print(cost)\n",
        "      print()\n",
        "  return W, b, grads, derivatives"
      ],
      "execution_count": null,
      "outputs": []
    },
    {
      "cell_type": "code",
      "metadata": {
        "colab": {
          "base_uri": "https://localhost:8080/"
        },
        "id": "xjnhAMKYNw1l",
        "outputId": "75d7d2dc-a043-4ddf-a1be-faa113d9e647"
      },
      "source": [
        "y_train.shape"
      ],
      "execution_count": null,
      "outputs": [
        {
          "output_type": "execute_result",
          "data": {
            "text/plain": [
              "(292, 1)"
            ]
          },
          "metadata": {},
          "execution_count": 58
        }
      ]
    },
    {
      "cell_type": "code",
      "metadata": {
        "colab": {
          "base_uri": "https://localhost:8080/"
        },
        "id": "I07-Pfma77zJ",
        "outputId": "af0dfe43-f521-4a8c-dc80-26718d5bcdb8"
      },
      "source": [
        "W, b, grds, derivatives = gradient_descent(X_train, y_train, X_valid, y_valid)"
      ],
      "execution_count": null,
      "outputs": [
        {
          "output_type": "stream",
          "name": "stdout",
          "text": [
            "0\n",
            "0.4447141041084493\n",
            "\n",
            "1000\n",
            "0.10155169499444523\n",
            "\n",
            "2000\n",
            "0.0750493174229831\n",
            "\n",
            "3000\n",
            "0.060367722598533534\n",
            "\n",
            "4000\n",
            "0.050098657349679686\n",
            "\n",
            "5000\n",
            "0.0428511804814102\n",
            "\n",
            "6000\n",
            "0.03772980047931445\n",
            "\n",
            "7000\n",
            "0.03410890215305324\n",
            "\n",
            "8000\n",
            "0.03154821235668563\n",
            "\n",
            "9000\n",
            "0.029737067576476345\n",
            "\n",
            "10000\n",
            "0.028455981884231683\n",
            "\n",
            "11000\n",
            "0.027549792052701267\n",
            "\n",
            "12000\n",
            "0.026908774312378266\n",
            "\n",
            "13000\n",
            "0.026455325914775295\n",
            "\n",
            "14000\n",
            "0.026134557701652253\n",
            "\n",
            "15000\n",
            "0.02590764444297684\n",
            "\n",
            "16000\n",
            "0.025747122868953167\n",
            "\n",
            "17000\n",
            "0.025633566340040038\n",
            "\n",
            "18000\n",
            "0.025553232897247476\n",
            "\n",
            "19000\n",
            "0.025496401689250166\n",
            "\n",
            "20000\n",
            "0.025456196267243998\n",
            "\n",
            "21000\n",
            "0.025427752243769353\n",
            "\n",
            "22000\n",
            "0.025407628529011322\n",
            "\n",
            "23000\n",
            "0.025393390858991297\n",
            "\n",
            "24000\n",
            "0.025383317194282575\n",
            "\n",
            "25000\n",
            "0.025376189324745346\n",
            "\n",
            "26000\n",
            "0.02537114545336657\n",
            "\n",
            "27000\n",
            "0.025367575914996415\n",
            "\n",
            "28000\n",
            "0.025365049407780765\n",
            "\n",
            "29000\n",
            "0.02536326080881642\n",
            "\n",
            "30000\n",
            "0.025361994258299436\n",
            "\n",
            "31000\n",
            "0.025361097044570485\n",
            "\n",
            "32000\n",
            "0.02536046112975745\n",
            "\n",
            "33000\n",
            "0.02536001008045367\n",
            "\n",
            "34000\n",
            "0.025359689822006096\n",
            "\n",
            "35000\n",
            "0.025359462097710034\n",
            "\n",
            "36000\n",
            "0.02535929984153107\n",
            "\n",
            "37000\n",
            "0.02535918390452131\n",
            "\n",
            "38000\n",
            "0.02535910073889297\n",
            "\n",
            "39000\n",
            "0.025359040759582566\n",
            "\n",
            "40000\n",
            "0.025358997185106542\n",
            "\n",
            "41000\n",
            "0.02535896521749524\n",
            "\n",
            "42000\n",
            "0.02535894146211181\n",
            "\n",
            "43000\n",
            "0.02535892351718224\n",
            "\n",
            "44000\n",
            "0.025358909683391377\n",
            "\n",
            "45000\n",
            "0.02535889875842317\n",
            "\n",
            "46000\n",
            "0.02535888989159754\n",
            "\n",
            "47000\n",
            "0.025358882481025045\n",
            "\n",
            "48000\n",
            "0.02535887610084255\n",
            "\n",
            "49000\n",
            "0.025358870449731306\n",
            "\n",
            "50000\n",
            "0.025358865314492406\n",
            "\n",
            "51000\n",
            "0.0253588605442754\n",
            "\n",
            "52000\n",
            "0.025358856032344286\n",
            "\n",
            "53000\n",
            "0.025358851703176317\n",
            "\n",
            "54000\n",
            "0.02535884750333382\n",
            "\n",
            "55000\n",
            "0.025358843395005663\n",
            "\n",
            "56000\n",
            "0.025358839351437505\n",
            "\n",
            "57000\n",
            "0.025358835353698414\n",
            "\n",
            "58000\n",
            "0.025358831388393125\n",
            "\n",
            "59000\n",
            "0.025358827446043255\n",
            "\n",
            "60000\n",
            "0.025358823519941957\n",
            "\n",
            "61000\n",
            "0.025358819605343474\n",
            "\n",
            "62000\n",
            "0.025358815698889682\n",
            "\n",
            "63000\n",
            "0.02535881179820436\n",
            "\n",
            "64000\n",
            "0.025358807901606068\n",
            "\n",
            "65000\n",
            "0.025358804007904995\n",
            "\n",
            "66000\n",
            "0.0253588001162592\n",
            "\n",
            "67000\n",
            "0.02535879622607293\n",
            "\n",
            "68000\n",
            "0.025358792336924587\n",
            "\n",
            "69000\n",
            "0.02535878844851585\n",
            "\n",
            "70000\n",
            "0.02535878456063562\n",
            "\n",
            "71000\n",
            "0.025358780673134518\n",
            "\n",
            "72000\n",
            "0.025358776785906825\n",
            "\n",
            "73000\n",
            "0.025358772898877734\n",
            "\n",
            "74000\n",
            "0.025358769011994315\n",
            "\n",
            "75000\n",
            "0.0253587651252191\n",
            "\n",
            "76000\n",
            "0.025358761238525596\n",
            "\n",
            "77000\n",
            "0.02535875735189503\n",
            "\n",
            "78000\n",
            "0.025358753465314132\n",
            "\n",
            "79000\n",
            "0.02535874957877351\n",
            "\n",
            "80000\n",
            "0.025358745692266513\n",
            "\n",
            "81000\n",
            "0.025358741805788433\n",
            "\n",
            "82000\n",
            "0.02535873791933595\n",
            "\n",
            "83000\n",
            "0.025358734032906696\n",
            "\n",
            "84000\n",
            "0.02535873014649901\n",
            "\n",
            "85000\n",
            "0.025358726260111715\n",
            "\n",
            "86000\n",
            "0.025358722373743973\n",
            "\n",
            "87000\n",
            "0.025358718487395192\n",
            "\n",
            "88000\n",
            "0.025358714601064952\n",
            "\n",
            "89000\n",
            "0.025358710714752965\n",
            "\n",
            "90000\n",
            "0.025358706828459015\n",
            "\n",
            "91000\n",
            "0.025358702942182947\n",
            "\n",
            "92000\n",
            "0.02535869905592467\n",
            "\n",
            "93000\n",
            "0.0253586951696841\n",
            "\n",
            "94000\n",
            "0.025358691283461188\n",
            "\n",
            "95000\n",
            "0.025358687397255896\n",
            "\n",
            "96000\n",
            "0.0253586835110682\n",
            "\n",
            "97000\n",
            "0.02535867962489808\n",
            "\n",
            "98000\n",
            "0.02535867573874552\n",
            "\n",
            "99000\n",
            "0.025358671852610513\n",
            "\n",
            "100000\n",
            "0.025358667966493047\n",
            "\n"
          ]
        }
      ]
    },
    {
      "cell_type": "code",
      "metadata": {
        "id": "2rogckCRUGGo"
      },
      "source": [
        "p = predict(X_valid, W, b)"
      ],
      "execution_count": null,
      "outputs": []
    },
    {
      "cell_type": "code",
      "metadata": {
        "colab": {
          "base_uri": "https://localhost:8080/"
        },
        "id": "Gmxbi4dQUGBE",
        "outputId": "2e65d16d-060f-47be-f2fb-57f2ebd8be65"
      },
      "source": [
        "cost_function(y_valid, p)"
      ],
      "execution_count": null,
      "outputs": [
        {
          "output_type": "execute_result",
          "data": {
            "text/plain": [
              "0.024112808054477835"
            ]
          },
          "metadata": {},
          "execution_count": 61
        }
      ]
    },
    {
      "cell_type": "code",
      "metadata": {
        "colab": {
          "base_uri": "https://localhost:8080/"
        },
        "id": "snJPkga5aL_T",
        "outputId": "4a4bbc44-d9a1-4b44-d0e5-03c39e6c5e2a"
      },
      "source": [
        "W"
      ],
      "execution_count": null,
      "outputs": [
        {
          "output_type": "execute_result",
          "data": {
            "text/plain": [
              "array([[ 0.84671697],\n",
              "       [ 0.29681802],\n",
              "       [-0.00555184],\n",
              "       [-0.31798115]])"
            ]
          },
          "metadata": {},
          "execution_count": 62
        }
      ]
    },
    {
      "cell_type": "code",
      "metadata": {
        "colab": {
          "base_uri": "https://localhost:8080/"
        },
        "id": "3bOBvxQVah7j",
        "outputId": "606ded1e-574b-4592-ae0e-e18cb70b7171"
      },
      "source": [
        "b"
      ],
      "execution_count": null,
      "outputs": [
        {
          "output_type": "execute_result",
          "data": {
            "text/plain": [
              "array([[-0.00384835]])"
            ]
          },
          "metadata": {},
          "execution_count": 63
        }
      ]
    },
    {
      "cell_type": "code",
      "metadata": {
        "colab": {
          "base_uri": "https://localhost:8080/",
          "height": 265
        },
        "id": "-huQelx9a2oJ",
        "outputId": "a4644409-7988-46f0-81f8-fa9b8a2faece"
      },
      "source": [
        "import matplotlib.pyplot as plt\n",
        "plt.plot(grds)\n",
        "plt.ylabel('Cost')\n",
        "plt.show()"
      ],
      "execution_count": null,
      "outputs": [
        {
          "output_type": "display_data",
          "data": {
            "image/png": "[encoded data removed]",
            "text/plain": [
              "<Figure size 432x288 with 1 Axes>"
            ]
          },
          "metadata": {
            "needs_background": "light"
          }
        }
      ]
    },
    {
      "cell_type": "code",
      "metadata": {
        "id": "7JALqArXt0XU"
      },
      "source": [
        "wp = predict(np.array(data[fn]), W, b)"
      ],
      "execution_count": null,
      "outputs": []
    },
    {
      "cell_type": "code",
      "metadata": {
        "id": "MHMrSwfWu0ZX"
      },
      "source": [
        "dp = data.copy()\n",
        "dp['Close'] = wp"
      ],
      "execution_count": null,
      "outputs": []
    },
    {
      "cell_type": "markdown",
      "metadata": {
        "id": "awgh9XaQhuW1"
      },
      "source": [
        "Denormalization of actual values and predicted valuse!"
      ]
    },
    {
      "cell_type": "code",
      "metadata": {
        "id": "lihgsbQkvVMq"
      },
      "source": [
        "data[an] = denormalize(data[an], max_v, min_v, mean_v)"
      ],
      "execution_count": null,
      "outputs": []
    },
    {
      "cell_type": "code",
      "metadata": {
        "id": "PPTf9zeKvOBE"
      },
      "source": [
        "dp[an] = denormalize(dp[an], max_v, min_v, mean_v)"
      ],
      "execution_count": null,
      "outputs": []
    },
    {
      "cell_type": "code",
      "metadata": {
        "colab": {
          "base_uri": "https://localhost:8080/",
          "height": 419
        },
        "id": "4QCgbmNdvR6Y",
        "outputId": "c482ed4f-7195-479e-c65d-39f7d1a012cd"
      },
      "source": [
        "dp"
      ],
      "execution_count": null,
      "outputs": [
        {
          "output_type": "execute_result",
          "data": {
            "text/html": [
              "<div>\n",
              "<style scoped>\n",
              "    .dataframe tbody tr th:only-of-type {\n",
              "        vertical-align: middle;\n",
              "    }\n",
              "\n",
              "    .dataframe tbody tr th {\n",
              "        vertical-align: top;\n",
              "    }\n",
              "\n",
              "    .dataframe thead th {\n",
              "        text-align: right;\n",
              "    }\n",
              "</style>\n",
              "<table border=\"1\" class=\"dataframe\">\n",
              "  <thead>\n",
              "    <tr style=\"text-align: right;\">\n",
              "      <th></th>\n",
              "      <th>Date</th>\n",
              "      <th>Close</th>\n",
              "      <th>year</th>\n",
              "      <th>month</th>\n",
              "      <th>day</th>\n",
              "      <th>day_number</th>\n",
              "    </tr>\n",
              "  </thead>\n",
              "  <tbody>\n",
              "    <tr>\n",
              "      <th>0</th>\n",
              "      <td>2020-10-11</td>\n",
              "      <td>17492.932855</td>\n",
              "      <td>1.0</td>\n",
              "      <td>10.0</td>\n",
              "      <td>11.0</td>\n",
              "      <td>1.0</td>\n",
              "    </tr>\n",
              "    <tr>\n",
              "      <th>1</th>\n",
              "      <td>2020-10-12</td>\n",
              "      <td>17437.937480</td>\n",
              "      <td>1.0</td>\n",
              "      <td>10.0</td>\n",
              "      <td>12.0</td>\n",
              "      <td>2.0</td>\n",
              "    </tr>\n",
              "    <tr>\n",
              "      <th>2</th>\n",
              "      <td>2020-10-13</td>\n",
              "      <td>17382.942105</td>\n",
              "      <td>1.0</td>\n",
              "      <td>10.0</td>\n",
              "      <td>13.0</td>\n",
              "      <td>3.0</td>\n",
              "    </tr>\n",
              "    <tr>\n",
              "      <th>3</th>\n",
              "      <td>2020-10-14</td>\n",
              "      <td>17327.946731</td>\n",
              "      <td>1.0</td>\n",
              "      <td>10.0</td>\n",
              "      <td>14.0</td>\n",
              "      <td>4.0</td>\n",
              "    </tr>\n",
              "    <tr>\n",
              "      <th>4</th>\n",
              "      <td>2020-10-15</td>\n",
              "      <td>17272.951356</td>\n",
              "      <td>1.0</td>\n",
              "      <td>10.0</td>\n",
              "      <td>15.0</td>\n",
              "      <td>5.0</td>\n",
              "    </tr>\n",
              "    <tr>\n",
              "      <th>...</th>\n",
              "      <td>...</td>\n",
              "      <td>...</td>\n",
              "      <td>...</td>\n",
              "      <td>...</td>\n",
              "      <td>...</td>\n",
              "      <td>...</td>\n",
              "    </tr>\n",
              "    <tr>\n",
              "      <th>361</th>\n",
              "      <td>2021-10-07</td>\n",
              "      <td>45242.602287</td>\n",
              "      <td>2.0</td>\n",
              "      <td>10.0</td>\n",
              "      <td>7.0</td>\n",
              "      <td>362.0</td>\n",
              "    </tr>\n",
              "    <tr>\n",
              "      <th>362</th>\n",
              "      <td>2021-10-08</td>\n",
              "      <td>45187.606912</td>\n",
              "      <td>2.0</td>\n",
              "      <td>10.0</td>\n",
              "      <td>8.0</td>\n",
              "      <td>363.0</td>\n",
              "    </tr>\n",
              "    <tr>\n",
              "      <th>363</th>\n",
              "      <td>2021-10-09</td>\n",
              "      <td>45132.611538</td>\n",
              "      <td>2.0</td>\n",
              "      <td>10.0</td>\n",
              "      <td>9.0</td>\n",
              "      <td>364.0</td>\n",
              "    </tr>\n",
              "    <tr>\n",
              "      <th>364</th>\n",
              "      <td>2021-10-10</td>\n",
              "      <td>45077.616163</td>\n",
              "      <td>2.0</td>\n",
              "      <td>10.0</td>\n",
              "      <td>10.0</td>\n",
              "      <td>365.0</td>\n",
              "    </tr>\n",
              "    <tr>\n",
              "      <th>365</th>\n",
              "      <td>2021-10-11</td>\n",
              "      <td>45022.620788</td>\n",
              "      <td>2.0</td>\n",
              "      <td>10.0</td>\n",
              "      <td>11.0</td>\n",
              "      <td>366.0</td>\n",
              "    </tr>\n",
              "  </tbody>\n",
              "</table>\n",
              "<p>366 rows × 6 columns</p>\n",
              "</div>"
            ],
            "text/plain": [
              "          Date         Close  year  month   day  day_number\n",
              "0   2020-10-11  17492.932855   1.0   10.0  11.0         1.0\n",
              "1   2020-10-12  17437.937480   1.0   10.0  12.0         2.0\n",
              "2   2020-10-13  17382.942105   1.0   10.0  13.0         3.0\n",
              "3   2020-10-14  17327.946731   1.0   10.0  14.0         4.0\n",
              "4   2020-10-15  17272.951356   1.0   10.0  15.0         5.0\n",
              "..         ...           ...   ...    ...   ...         ...\n",
              "361 2021-10-07  45242.602287   2.0   10.0   7.0       362.0\n",
              "362 2021-10-08  45187.606912   2.0   10.0   8.0       363.0\n",
              "363 2021-10-09  45132.611538   2.0   10.0   9.0       364.0\n",
              "364 2021-10-10  45077.616163   2.0   10.0  10.0       365.0\n",
              "365 2021-10-11  45022.620788   2.0   10.0  11.0       366.0\n",
              "\n",
              "[366 rows x 6 columns]"
            ]
          },
          "metadata": {},
          "execution_count": 69
        }
      ]
    },
    {
      "cell_type": "markdown",
      "metadata": {
        "id": "JGp4tgdlhhyD"
      },
      "source": [
        "Comparing the actual values vs predicted values"
      ]
    },
    {
      "cell_type": "code",
      "metadata": {
        "colab": {
          "base_uri": "https://localhost:8080/",
          "height": 279
        },
        "id": "lcn41scECmX5",
        "outputId": "85fb242e-136c-41a7-f344-1c2abb226619"
      },
      "source": [
        "plt.plot(dp['Close'], label='predicted')\n",
        "plt.plot(data['Close'], label='actual')\n",
        "plt.legend(loc='best')\n",
        "plt.xlabel('Day')\n",
        "plt.ylabel('Close!')\n",
        "plt.show()"
      ],
      "execution_count": null,
      "outputs": [
        {
          "output_type": "display_data",
          "data": {
            "image/png": "[encoded data removed]",
            "text/plain": [
              "<Figure size 432x288 with 1 Axes>"
            ]
          },
          "metadata": {
            "needs_background": "light"
          }
        }
      ]
    }
  ]
}