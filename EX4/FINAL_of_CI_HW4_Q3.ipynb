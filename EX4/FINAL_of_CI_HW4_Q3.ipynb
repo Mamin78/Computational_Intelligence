{
  "nbformat": 4,
  "nbformat_minor": 0,
  "metadata": {
    "colab": {
      "name": "FINAL of CI_HW4_Q3.ipynb",
      "provenance": [],
      "collapsed_sections": [
        "GEJCQp3IRvpY",
        "K3VSkU1vRi4H",
        "WFLd-hyPRiRp",
        "fBuka9wlR8JB",
        "mz-vJwEESGyg"
      ]
    },
    "kernelspec": {
      "name": "python3",
      "display_name": "Python 3"
    },
    "language_info": {
      "name": "python"
    }
  },
  "cells": [
    {
      "cell_type": "markdown",
      "source": [
        "# **Imports**"
      ],
      "metadata": {
        "id": "GEJCQp3IRvpY"
      }
    },
    {
      "cell_type": "code",
      "source": [
        "import pandas as pd\n",
        "import numpy as np\n",
        "import matplotlib.pyplot as plt\n",
        "import random"
      ],
      "metadata": {
        "id": "KLbdX2Au0-Q5"
      },
      "execution_count": null,
      "outputs": []
    },
    {
      "cell_type": "markdown",
      "source": [
        "# **Creating obejctes' information array**"
      ],
      "metadata": {
        "id": "K3VSkU1vRi4H"
      }
    },
    {
      "cell_type": "code",
      "execution_count": null,
      "metadata": {
        "id": "y6nJSGwCfP93"
      },
      "outputs": [],
      "source": [
        "info = np.zeros((4, 15))\n",
        "\n",
        "weights   = [14, 15, 12, 10, 18, 14,  2,  5,  10, 1,   8,  14, 15, 16, 19]\n",
        "prices    = [12, 10, 5,  2,  10, 8,   10, 10, 12, 1,   14, 16, 17, 18, 20]\n",
        "obj_class = [1,  1,  1,  1,  1,  1,   2,  2,  2,  2,   3,  3,  3,  3,  3 ]\n",
        "\n",
        "weights   = np.array(weights)\n",
        "prices    = np.array(prices)\n",
        "obj_class = np.array(obj_class)\n",
        "\n",
        "p_to_w_ratios = prices / weights"
      ]
    },
    {
      "cell_type": "code",
      "source": [
        "info[0] = weights\n",
        "info[1] = prices\n",
        "info[2] = obj_class\n",
        "info[3] = p_to_w_ratios"
      ],
      "metadata": {
        "id": "GL_mBSqJABNT"
      },
      "execution_count": null,
      "outputs": []
    },
    {
      "cell_type": "code",
      "source": [
        "sorted_info = info[ :, info[3].argsort()]\n",
        "sorted_info"
      ],
      "metadata": {
        "colab": {
          "base_uri": "https://localhost:8080/"
        },
        "id": "z1qRymOrEYSs",
        "outputId": "ee52b617-1341-497f-c3a6-a9994f93cdf2"
      },
      "execution_count": null,
      "outputs": [
        {
          "output_type": "execute_result",
          "data": {
            "text/plain": [
              "array([[10.        , 12.        , 18.        , 14.        , 15.        ,\n",
              "        14.        ,  1.        , 19.        , 16.        , 15.        ,\n",
              "        14.        , 10.        ,  8.        ,  5.        ,  2.        ],\n",
              "       [ 2.        ,  5.        , 10.        ,  8.        , 10.        ,\n",
              "        12.        ,  1.        , 20.        , 18.        , 17.        ,\n",
              "        16.        , 12.        , 14.        , 10.        , 10.        ],\n",
              "       [ 1.        ,  1.        ,  1.        ,  1.        ,  1.        ,\n",
              "         1.        ,  2.        ,  3.        ,  3.        ,  3.        ,\n",
              "         3.        ,  2.        ,  3.        ,  2.        ,  2.        ],\n",
              "       [ 0.2       ,  0.41666667,  0.55555556,  0.57142857,  0.66666667,\n",
              "         0.85714286,  1.        ,  1.05263158,  1.125     ,  1.13333333,\n",
              "         1.14285714,  1.2       ,  1.75      ,  2.        ,  5.        ]])"
            ]
          },
          "metadata": {},
          "execution_count": 4
        }
      ]
    },
    {
      "cell_type": "markdown",
      "source": [
        "# **Implementation of Algorithm**"
      ],
      "metadata": {
        "id": "WFLd-hyPRiRp"
      }
    },
    {
      "cell_type": "markdown",
      "source": [
        "## **Normaliztion Functions**"
      ],
      "metadata": {
        "id": "fBuka9wlR8JB"
      }
    },
    {
      "cell_type": "markdown",
      "source": [
        "These functions check whether the given gen is under problem's limits(For Example, does gen have at leasst an object from every class?) or not. If doesn't, make it under the limits!"
      ],
      "metadata": {
        "id": "JWh_l5wdFpOo"
      }
    },
    {
      "cell_type": "markdown",
      "source": [
        "Returns the classes are included in gen."
      ],
      "metadata": {
        "id": "gHlucbNmGyEO"
      }
    },
    {
      "cell_type": "code",
      "source": [
        "def included_classes(gen):\n",
        "  c = []\n",
        "  for i in range(len(gen)):\n",
        "    if gen[i] > 0:\n",
        "      c.append(sorted_info[2, i])\n",
        "  return set(c)"
      ],
      "metadata": {
        "id": "u60FCnz_F-Pu"
      },
      "execution_count": null,
      "outputs": []
    },
    {
      "cell_type": "markdown",
      "source": [
        "Returns the classes are not included in gen."
      ],
      "metadata": {
        "id": "KaM4BulkG5AT"
      }
    },
    {
      "cell_type": "code",
      "source": [
        "def not_included_classes(includeds):\n",
        "  c = [1, 2, 3]\n",
        "  for i in list(includeds):\n",
        "    c.remove(i)\n",
        "  return c"
      ],
      "metadata": {
        "id": "dtuo8u3bNVxH"
      },
      "execution_count": null,
      "outputs": []
    },
    {
      "cell_type": "code",
      "source": [
        "def calculate_the_value_of_gen(gen):\n",
        "  gen = gen.reshape((gen.shape[0], 1))\n",
        "\n",
        "  return np.dot(sorted_info[1], gen)"
      ],
      "metadata": {
        "id": "JFykZtF_4ymP"
      },
      "execution_count": null,
      "outputs": []
    },
    {
      "cell_type": "markdown",
      "source": [
        "Calculates the total weight of gen."
      ],
      "metadata": {
        "id": "cPqfu7HGG-o_"
      }
    },
    {
      "cell_type": "code",
      "source": [
        "def calculate_cumulative_weights(gen):\n",
        "  gen = gen.reshape((gen.shape[0], 1))\n",
        "\n",
        "  return np.dot(sorted_info[0], gen)"
      ],
      "metadata": {
        "id": "QWllor3_HiIm"
      },
      "execution_count": null,
      "outputs": []
    },
    {
      "cell_type": "markdown",
      "source": [
        "If there is not any object from a class, this function add the best and possible object from that class to gen."
      ],
      "metadata": {
        "id": "hRoZfIjEHFci"
      }
    },
    {
      "cell_type": "code",
      "source": [
        "def make_gen_complete(gen, not_includeds):\n",
        "  for i in range(len(gen) - 1, 0, -1):\n",
        "    if len(not_includeds) == 0:\n",
        "      return gen\n",
        "\n",
        "    if gen[i] == 0:\n",
        "      if info[2, i] in not_includeds:\n",
        "        gen[i] += 1\n",
        "        not_includeds.remove(info[2, i])\n",
        "\n",
        "  return gen"
      ],
      "metadata": {
        "id": "sRgDaBmVOHOf"
      },
      "execution_count": null,
      "outputs": []
    },
    {
      "cell_type": "markdown",
      "source": [
        "Makes total weight of gen less than ***300***."
      ],
      "metadata": {
        "id": "anFGhs3IHakw"
      }
    },
    {
      "cell_type": "code",
      "source": [
        "def make_gen_under_the_limit(gen, weight_limit = 300):\n",
        "  for i in range(len(gen)):\n",
        "\n",
        "    for j in range(int(gen[i])):\n",
        "\n",
        "      if calculate_cumulative_weights(gen) <= weight_limit:\n",
        "        return gen\n",
        "      gen[i] -= 1\n",
        "\n",
        "      if len(included_classes(gen)) < 3:\n",
        "        gen[i] += 1\n",
        "        continue\n",
        "  \n",
        "  return gen"
      ],
      "metadata": {
        "id": "CbniOp_OIKJh"
      },
      "execution_count": null,
      "outputs": []
    },
    {
      "cell_type": "markdown",
      "source": [
        "Ckecks all limits and corrects the gen if it is not."
      ],
      "metadata": {
        "id": "J6xAmzYtHoCU"
      }
    },
    {
      "cell_type": "code",
      "source": [
        "def normalize(gen, weight_limit = 300):\n",
        "\n",
        "  includeds = included_classes(gen)\n",
        "  if not len(includeds) == 3:\n",
        "    gen = make_gen_complete(gen, not_included_classes(includeds))\n",
        "\n",
        "  if calculate_cumulative_weights(gen) > weight_limit:\n",
        "    gen = make_gen_under_the_limit(gen, weight_limit = 300)\n",
        "\n",
        "  return gen"
      ],
      "metadata": {
        "id": "ffWWVmaa6wyM"
      },
      "execution_count": null,
      "outputs": []
    },
    {
      "cell_type": "markdown",
      "source": [
        "Makes the call's value between 0 to 5, only if it is not!"
      ],
      "metadata": {
        "id": "3rIEauQuHyKq"
      }
    },
    {
      "cell_type": "code",
      "source": [
        "def make_cell_value_under_the_limits(val, min_val=0, max_val=5):\n",
        "  if val > max_val or val < min_val:\n",
        "    val = random.randint(min_val, max_val)\n",
        "  \n",
        "  return val"
      ],
      "metadata": {
        "id": "kB4ktgnibBhj"
      },
      "execution_count": null,
      "outputs": []
    },
    {
      "cell_type": "markdown",
      "source": [
        "## **Main Part**"
      ],
      "metadata": {
        "id": "mz-vJwEESGyg"
      }
    },
    {
      "cell_type": "markdown",
      "source": [
        "This function generates the initial generation in given size."
      ],
      "metadata": {
        "id": "A1quYoFAIElq"
      }
    },
    {
      "cell_type": "code",
      "source": [
        "def generate_initial_population(size=50, n_features=15):\n",
        "  population = np.random.randint(5, size=(size, n_features))\n",
        "\n",
        "  for i in range(size):\n",
        "    population[i] = normalize(population[i], weight_limit = 300)\n",
        "    \n",
        "  return population"
      ],
      "metadata": {
        "id": "xLTnMAmX4aMq"
      },
      "execution_count": null,
      "outputs": []
    },
    {
      "cell_type": "markdown",
      "source": [
        "This function does a one point crossover."
      ],
      "metadata": {
        "id": "wHRxqZukILt5"
      }
    },
    {
      "cell_type": "code",
      "source": [
        "def crossover(f_gen, s_gen):\n",
        "  i = random.randint(0, len(f_gen) - 1)\n",
        "  new_f = np.append(f_gen[:i], s_gen[i:])\n",
        "  new_s = np.append(s_gen[:i], f_gen[i:])\n",
        "\n",
        "  return new_f, new_s"
      ],
      "metadata": {
        "id": "INycBjwITPlP"
      },
      "execution_count": null,
      "outputs": []
    },
    {
      "cell_type": "code",
      "source": [
        "def indexes_generator(max_ind):\n",
        "  f = random.randint(0, max_ind)\n",
        "  s = random.randint(0, max_ind)\n",
        "  while f == s:\n",
        "    s = random.randint(0, max_ind)\n",
        "  return f, s"
      ],
      "metadata": {
        "id": "_8HFzTOFWLto"
      },
      "execution_count": null,
      "outputs": []
    },
    {
      "cell_type": "markdown",
      "source": [
        "Does crossover over population!"
      ],
      "metadata": {
        "id": "b-3vD72GITgg"
      }
    },
    {
      "cell_type": "code",
      "source": [
        "def do_crossover(population, number_of_crossover=20, random_selection=5):\n",
        "  for i in range(number_of_crossover):\n",
        "    random_selected_gens = np.random.randint(len(population) - 2, size=(random_selection, 1)).tolist()\n",
        "    fi, si = indexes_generator(len(random_selected_gens) - 2)\n",
        "\n",
        "    new_f, new_s = crossover(population[random_selected_gens[fi]], population[random_selected_gens[si]])\n",
        "\n",
        "    population = np.append(population, normalize(new_f).reshape(1, new_f.shape[0]), 0)\n",
        "    population = np.append(population, normalize(new_s).reshape(1, new_s.shape[0]), 0)\n",
        "\n",
        "  return population"
      ],
      "metadata": {
        "id": "UmGrBmSyWNSw"
      },
      "execution_count": null,
      "outputs": []
    },
    {
      "cell_type": "markdown",
      "source": [
        "At first, generates a random number between zero to 1, then compares it with the mutation probability, if it's prossible, generates the sign randomly. At the end, Adds or subtracs a random number between 0 to 2(basen on the generated sign)."
      ],
      "metadata": {
        "id": "shUEI3ynIW4x"
      }
    },
    {
      "cell_type": "code",
      "source": [
        "def mutation(gen, probability=0.70, max_limit = 2):\n",
        "  p = random.uniform(0, 1)\n",
        "  if p <= probability:\n",
        "    sign = random.uniform(0, 1)\n",
        "\n",
        "    i = random.randint(0, len(gen) - 1)\n",
        "    if sign > 0.5:\n",
        "      gen[i] += random.randint(0, max_limit)\n",
        "    else:\n",
        "      gen[i] -= random.randint(0, max_limit)\n",
        "\n",
        "    gen[i] = make_cell_value_under_the_limits(gen[i])\n",
        "\n",
        "  return normalize(gen)"
      ],
      "metadata": {
        "id": "CgtsAo4QXUpS"
      },
      "execution_count": null,
      "outputs": []
    },
    {
      "cell_type": "markdown",
      "source": [
        "Does mutation over population."
      ],
      "metadata": {
        "id": "WiYh87JRJsz4"
      }
    },
    {
      "cell_type": "code",
      "source": [
        "def do_mutation(population, probability = 0.70):\n",
        "  for i in range(len(population)):\n",
        "    population[i] = mutation(population[i], probability)\n",
        "  \n",
        "  return population"
      ],
      "metadata": {
        "id": "HtwXsg1obfya"
      },
      "execution_count": null,
      "outputs": []
    },
    {
      "cell_type": "markdown",
      "source": [
        "Fitness function which calculates the total value of price / weight for the given gen."
      ],
      "metadata": {
        "id": "6ITIeLZQJv0x"
      }
    },
    {
      "cell_type": "code",
      "source": [
        "def fitness_func(gen):\n",
        "  return np.dot(gen, sorted_info[3].T)"
      ],
      "metadata": {
        "id": "_P9X9k-ybszJ"
      },
      "execution_count": null,
      "outputs": []
    },
    {
      "cell_type": "markdown",
      "source": [
        "These two functions sort population based on fitness function."
      ],
      "metadata": {
        "id": "WXhkkEQAKA7h"
      }
    },
    {
      "cell_type": "code",
      "source": [
        "def sort_values(population):\n",
        "  f = fitness_func(population)\n",
        "\n",
        "  f = f.reshape((f.shape[0], 1))\n",
        "  pop_fitness = np.append(population, f, 1)\n",
        "  pop_fitness = pop_fitness[np.argsort(pop_fitness[:, -1])]\n",
        "  return pop_fitness[:, :-1]"
      ],
      "metadata": {
        "id": "p43twuMNdQBR"
      },
      "execution_count": null,
      "outputs": []
    },
    {
      "cell_type": "code",
      "source": [
        "def selection(population, size=50):\n",
        "  return population[-size:-1]"
      ],
      "metadata": {
        "id": "2NiCCMxrdLox"
      },
      "execution_count": null,
      "outputs": []
    },
    {
      "cell_type": "markdown",
      "source": [
        "My Eveloutionary algorithm!\n",
        "\n",
        "Represantation: An array of Arithmetic number values.\n",
        "\n",
        "Crossover: One-point\n",
        "\n",
        "Mutation: Adding or subtracting a random number(between 0-2) to a random cell under the probability of 0.75.\n",
        "\n",
        "Selection: Selects the 50 best gens"
      ],
      "metadata": {
        "id": "Ozv8f9xDKIZY"
      }
    },
    {
      "cell_type": "code",
      "source": [
        "def GA(iterations = 1000, pop_size = 50, n_crossover = 20, mutation_prob=0.75, n_features=15):\n",
        "  population = generate_initial_population(size=pop_size, n_features=n_features)\n",
        "\n",
        "  for i in range(iterations):\n",
        "    if i % 10000 == 0:\n",
        "      print(i)\n",
        "    new_gens = do_crossover(population, number_of_crossover=20, random_selection=5)\n",
        "    population = do_mutation(population, probability = 0.70)\n",
        "\n",
        "    population = np.append(population, new_gens, 0)\n",
        "\n",
        "    population = sort_values(population)\n",
        "\n",
        "    population = selection(population, size=pop_size)\n",
        "\n",
        "  return population[-1]"
      ],
      "metadata": {
        "id": "kKZG4egPdw7z"
      },
      "execution_count": null,
      "outputs": []
    },
    {
      "cell_type": "code",
      "source": [
        "best_gen = GA()"
      ],
      "metadata": {
        "colab": {
          "base_uri": "https://localhost:8080/"
        },
        "id": "OPoWK7zWeEnU",
        "outputId": "6d92887f-b64d-4f0c-ba5c-11772d4872c8"
      },
      "execution_count": null,
      "outputs": [
        {
          "output_type": "stream",
          "name": "stdout",
          "text": [
            "0\n"
          ]
        }
      ]
    },
    {
      "cell_type": "markdown",
      "source": [
        "**Best gen**"
      ],
      "metadata": {
        "id": "MbB9cEj3LGtJ"
      }
    },
    {
      "cell_type": "code",
      "source": [
        "best_gen"
      ],
      "metadata": {
        "colab": {
          "base_uri": "https://localhost:8080/"
        },
        "id": "PSbUBGs04pW6",
        "outputId": "273cb7a5-e261-4f70-aac4-93404ec17129"
      },
      "execution_count": null,
      "outputs": [
        {
          "output_type": "execute_result",
          "data": {
            "text/plain": [
              "array([0., 0., 0., 0., 0., 1., 5., 2., 1., 5., 4., 2., 5., 5., 5.])"
            ]
          },
          "metadata": {},
          "execution_count": 23
        }
      ]
    },
    {
      "cell_type": "markdown",
      "source": [
        "**Total weight of Best Gen**"
      ],
      "metadata": {
        "id": "fwgrymbyLIm4"
      }
    },
    {
      "cell_type": "code",
      "source": [
        "calculate_cumulative_weights(best_gen)"
      ],
      "metadata": {
        "colab": {
          "base_uri": "https://localhost:8080/"
        },
        "id": "iyTpCZ8k4s5o",
        "outputId": "a74299a8-608f-4d87-bd0c-de2eaa7d2085"
      },
      "execution_count": null,
      "outputs": [
        {
          "output_type": "execute_result",
          "data": {
            "text/plain": [
              "array([299.])"
            ]
          },
          "metadata": {},
          "execution_count": 24
        }
      ]
    },
    {
      "cell_type": "markdown",
      "source": [
        "**Total value of best gen**"
      ],
      "metadata": {
        "id": "5XI62Yd2LN1J"
      }
    },
    {
      "cell_type": "code",
      "source": [
        "calculate_the_value_of_gen(best_gen)"
      ],
      "metadata": {
        "colab": {
          "base_uri": "https://localhost:8080/"
        },
        "id": "lX77TMPS474Q",
        "outputId": "e531c03c-ab07-4b75-fbd0-dbff135034b4"
      },
      "execution_count": null,
      "outputs": [
        {
          "output_type": "execute_result",
          "data": {
            "text/plain": [
              "array([418.])"
            ]
          },
          "metadata": {},
          "execution_count": 26
        }
      ]
    },
    {
      "cell_type": "markdown",
      "source": [
        "It's obvious, If we had continued GA for more iterations, we would have gotten a better gen."
      ],
      "metadata": {
        "id": "jlUrk20ULYMh"
      }
    }
  ]
}