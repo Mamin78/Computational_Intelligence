{
  "nbformat": 4,
  "nbformat_minor": 0,
  "metadata": {
    "colab": {
      "name": "FINAL of CI_HW4_Q4.ipynb",
      "provenance": [],
      "collapsed_sections": [
        "uwRZNoXtMZia",
        "Oa7TwzjLMcsZ"
      ]
    },
    "kernelspec": {
      "name": "python3",
      "display_name": "Python 3"
    },
    "language_info": {
      "name": "python"
    }
  },
  "cells": [
    {
      "cell_type": "markdown",
      "source": [
        "# **Imports**"
      ],
      "metadata": {
        "id": "uwRZNoXtMZia"
      }
    },
    {
      "cell_type": "code",
      "source": [
        "import random\n",
        "import numpy as np"
      ],
      "metadata": {
        "id": "Bcz5BW3l9hPX"
      },
      "execution_count": null,
      "outputs": []
    },
    {
      "cell_type": "markdown",
      "source": [
        "# **Algorithm**"
      ],
      "metadata": {
        "id": "Oa7TwzjLMcsZ"
      }
    },
    {
      "cell_type": "markdown",
      "source": [
        "This function generates the initial generation in given size."
      ],
      "metadata": {
        "id": "n6k1onV_Mgi6"
      }
    },
    {
      "cell_type": "code",
      "execution_count": null,
      "metadata": {
        "id": "B8YK0u2c7Wyj"
      },
      "outputs": [],
      "source": [
        "def generate_initial_population(size=50, n_features=3):\n",
        "  population = np.zeros((size, n_features))\n",
        "  for i in range(size):\n",
        "    population[i][0] = random.uniform(3, 100)\n",
        "    population[i][1] = random.uniform(3/5, 100/4)\n",
        "    population[i][2] = random.uniform(0.01, 1.05)\n",
        "    \n",
        "  return population"
      ]
    },
    {
      "cell_type": "markdown",
      "source": [
        "Checks whether or not the gen cells are in the correct ranges. If is not, corrects them."
      ],
      "metadata": {
        "id": "nw-OeRNhMjTR"
      }
    },
    {
      "cell_type": "code",
      "source": [
        "def normalize(gen):\n",
        "  if gen[0] < 3 or gen[0] > 100:\n",
        "    gen[0] = random.uniform(3, 100)\n",
        "\n",
        "  if gen[1] < 3/5 or gen[1] > 100/4:\n",
        "    gen[1] = random.uniform(3/5, 100/4)\n",
        "\n",
        "  if gen[2] < 0.01 or gen[2] > 1.05:\n",
        "    gen[2] = random.uniform(0.01, 1.05)\n",
        "\n",
        "  return gen"
      ],
      "metadata": {
        "id": "5KSVhenoLy4S"
      },
      "execution_count": null,
      "outputs": []
    },
    {
      "cell_type": "markdown",
      "source": [
        "Calculates wieghted average based on a(=0.6)."
      ],
      "metadata": {
        "id": "PFa1MA1CM0T5"
      }
    },
    {
      "cell_type": "code",
      "source": [
        "def crossover(f_gen, s_gen, a=0.6):\n",
        "  return normalize(a * f_gen + (1 - a) * s_gen), normalize((1 - a) * f_gen + a * s_gen)"
      ],
      "metadata": {
        "id": "gs2msO7r-WbP"
      },
      "execution_count": null,
      "outputs": []
    },
    {
      "cell_type": "markdown",
      "source": [
        "Adds or subtracts a random number in given ranges."
      ],
      "metadata": {
        "id": "OHU_G7sZNCf5"
      }
    },
    {
      "cell_type": "code",
      "source": [
        "def mutation(gen, probability=0.65):\n",
        "  is_minus = random.uniform(0, 1) <= 0.5\n",
        "\n",
        "  p = random.uniform(0, 1)\n",
        "\n",
        "  if p <= probability:\n",
        "    i = random.randint(0, len(gen) - 1)\n",
        "    \n",
        "    if is_minus:\n",
        "      if i == 0:\n",
        "        gen[i] -= random.uniform(3 / 5, 100 / 5)\n",
        "      elif i == 1:\n",
        "        gen[i] -= random.uniform((3/5) / 5, (100/4) / 5)\n",
        "      elif i == 2:\n",
        "        gen[i] -= random.uniform(0.01/5, 1.05/5)\n",
        "    \n",
        "    else:\n",
        "      if i == 0:\n",
        "        gen[i] += random.uniform(3 / 5, 100 / 5)\n",
        "      elif i == 1:\n",
        "        gen[i] += random.uniform((3/5) / 5, (100/4) / 5)\n",
        "      elif i == 2:\n",
        "        gen[i] += random.uniform(0.01/5, 1.05/5)\n",
        "  \n",
        "  return normalize(gen)"
      ],
      "metadata": {
        "id": "TWvv4Rs4A-yO"
      },
      "execution_count": null,
      "outputs": []
    },
    {
      "cell_type": "code",
      "source": [
        "def indexes_generator(max_ind):\n",
        "  f = random.randint(0, max_ind)\n",
        "  s = random.randint(0, max_ind)\n",
        "  while f == s:\n",
        "    s = random.randint(0, max_ind)\n",
        "  return f, s"
      ],
      "metadata": {
        "id": "GadwmPIoBlh2"
      },
      "execution_count": null,
      "outputs": []
    },
    {
      "cell_type": "markdown",
      "source": [
        "crossover over population"
      ],
      "metadata": {
        "id": "Zrszph5dNQii"
      }
    },
    {
      "cell_type": "code",
      "source": [
        "def do_crossover(population, n_crossover=20):\n",
        "  new_pop = np.zeros((n_crossover * 2, population.shape[1]))\n",
        "  for i in range(n_crossover):\n",
        "    fi, si = indexes_generator(len(population) - 1)\n",
        "    new_pop[i], new_pop[i+1] = crossover(population[fi], population[si])\n",
        "\n",
        "  return new_pop"
      ],
      "metadata": {
        "id": "W2g2_cIEBnL1"
      },
      "execution_count": null,
      "outputs": []
    },
    {
      "cell_type": "markdown",
      "source": [
        "Mutation over population"
      ],
      "metadata": {
        "id": "qEz_sX9bNUSR"
      }
    },
    {
      "cell_type": "code",
      "source": [
        "def do_mutation(population,  probability=0.65):\n",
        "  for i in range(len(population)):\n",
        "    population[i] = mutation(population[i], probability=0.65)\n",
        "  \n",
        "  return population"
      ],
      "metadata": {
        "id": "qVQHkwV0CLT_"
      },
      "execution_count": null,
      "outputs": []
    },
    {
      "cell_type": "markdown",
      "source": [
        "Fitness function (Our goal function)!"
      ],
      "metadata": {
        "id": "hBto0LMINXJg"
      }
    },
    {
      "cell_type": "code",
      "source": [
        "def fitness_func(vars):\n",
        "  x = vars[:, 0]\n",
        "  y = vars[:, 1]\n",
        "  z = vars[:, 2]\n",
        "  return (3 * z ** 2) + (3 * y ** 2) + ((x ** 3) / (y ** 2)) + (x * y * z) + ((x ** 2) * y)"
      ],
      "metadata": {
        "id": "YZCwduMw8B7d"
      },
      "execution_count": null,
      "outputs": []
    },
    {
      "cell_type": "markdown",
      "source": [
        "These two functions sort population based on fitness function."
      ],
      "metadata": {
        "id": "RyDdyIJnNpjh"
      }
    },
    {
      "cell_type": "code",
      "source": [
        "def sort_values(population):\n",
        "  f = fitness_func(population)\n",
        "  f = f.reshape((f.shape[0], 1))\n",
        "  pop_fitness = np.append(population, f, 1)\n",
        "  pop_fitness = pop_fitness[np.argsort(pop_fitness[:, -1])]\n",
        "  return pop_fitness[:, :-1]"
      ],
      "metadata": {
        "id": "GkzwlaLkEcPn"
      },
      "execution_count": null,
      "outputs": []
    },
    {
      "cell_type": "markdown",
      "source": [
        "We must select the gens with the least fitness."
      ],
      "metadata": {
        "id": "OnD-u3tRNsKi"
      }
    },
    {
      "cell_type": "code",
      "source": [
        "def selection(population, size=50):\n",
        "  return population[:size]"
      ],
      "metadata": {
        "id": "6zQksPQjFR2n"
      },
      "execution_count": null,
      "outputs": []
    },
    {
      "cell_type": "markdown",
      "source": [
        "My Eveloutionary algorithm!\n",
        "\n",
        "Represantation: An array of real values which shows the coefficients\n",
        "\n",
        "Crossover: Weighted Average\n",
        "\n",
        "Mutation: Adding a white noise to a random cell under the given probability(or subtracing)\n",
        "\n",
        "Selection: Selects the 50 best gens"
      ],
      "metadata": {
        "id": "nDfcMpxpN08z"
      }
    },
    {
      "cell_type": "code",
      "source": [
        "def GA(iterations = 500000, pop_size = 50, n_crossover = 20, mutation_prob=0.75, n_features=3):\n",
        "  population = generate_initial_population(size=pop_size, n_features=n_features)\n",
        "\n",
        "  for i in range(iterations):\n",
        "    if i % 100000 == 0:\n",
        "      print(i)\n",
        "    new_gens = do_crossover(population, n_crossover=n_crossover)\n",
        "    population = do_mutation(population,  probability=mutation_prob)\n",
        "\n",
        "    population = np.append(population, new_gens, 0)\n",
        "\n",
        "    population = sort_values(population)\n",
        "\n",
        "    population = selection(population, size=pop_size)\n",
        "\n",
        "  return population[0]"
      ],
      "metadata": {
        "id": "72powviTFTxQ"
      },
      "execution_count": null,
      "outputs": []
    },
    {
      "cell_type": "code",
      "source": [
        "best_gen = GA()"
      ],
      "metadata": {
        "colab": {
          "base_uri": "https://localhost:8080/"
        },
        "id": "WrxRyrMgFgBJ",
        "outputId": "d09c0b2f-1a57-4e5e-f4ce-943e5971461e"
      },
      "execution_count": null,
      "outputs": [
        {
          "output_type": "stream",
          "name": "stdout",
          "text": [
            "0\n"
          ]
        },
        {
          "output_type": "stream",
          "name": "stderr",
          "text": [
            "/usr/local/lib/python3.7/dist-packages/ipykernel_launcher.py:5: RuntimeWarning: invalid value encountered in true_divide\n",
            "  \"\"\"\n"
          ]
        },
        {
          "output_type": "stream",
          "name": "stdout",
          "text": [
            "10000\n",
            "20000\n",
            "30000\n",
            "40000\n",
            "50000\n",
            "60000\n",
            "70000\n",
            "80000\n",
            "90000\n",
            "100000\n",
            "110000\n",
            "120000\n",
            "130000\n",
            "140000\n",
            "150000\n",
            "160000\n",
            "170000\n",
            "180000\n",
            "190000\n",
            "200000\n",
            "210000\n",
            "220000\n",
            "230000\n",
            "240000\n",
            "250000\n",
            "260000\n",
            "270000\n",
            "280000\n",
            "290000\n",
            "300000\n",
            "310000\n",
            "320000\n",
            "330000\n",
            "340000\n",
            "350000\n",
            "360000\n",
            "370000\n",
            "380000\n",
            "390000\n",
            "400000\n",
            "410000\n",
            "420000\n",
            "430000\n",
            "440000\n",
            "450000\n",
            "460000\n",
            "470000\n",
            "480000\n",
            "490000\n"
          ]
        }
      ]
    },
    {
      "cell_type": "code",
      "source": [
        "best_gen = best_gen.reshape(1, best_gen.shape[0])"
      ],
      "metadata": {
        "id": "YfwuUZ1qGFp3"
      },
      "execution_count": null,
      "outputs": []
    },
    {
      "cell_type": "markdown",
      "source": [
        "**Best Gen**"
      ],
      "metadata": {
        "id": "EvPLtQuaOBIh"
      }
    },
    {
      "cell_type": "code",
      "source": [
        "best_gen"
      ],
      "metadata": {
        "colab": {
          "base_uri": "https://localhost:8080/"
        },
        "id": "ONxeMl7oGVKw",
        "outputId": "dac36dba-23b8-4aad-d471-e56c55488cc5"
      },
      "execution_count": null,
      "outputs": [
        {
          "output_type": "execute_result",
          "data": {
            "text/plain": [
              "array([[3.61424835, 1.62545694, 0.2157597 ]])"
            ]
          },
          "metadata": {},
          "execution_count": 47
        }
      ]
    },
    {
      "cell_type": "markdown",
      "source": [
        "**The out of goal function when the inputs are best gen's cells.**"
      ],
      "metadata": {
        "id": "U_BaqorPODWR"
      }
    },
    {
      "cell_type": "code",
      "source": [
        "fitness_func(best_gen)"
      ],
      "metadata": {
        "colab": {
          "base_uri": "https://localhost:8080/"
        },
        "id": "1v5_CAVzFf9v",
        "outputId": "50340cde-e699-4b17-cc14-b249c14721a1"
      },
      "execution_count": null,
      "outputs": [
        {
          "output_type": "execute_result",
          "data": {
            "text/plain": [
              "array([48.43565286])"
            ]
          },
          "metadata": {},
          "execution_count": 48
        }
      ]
    }
  ]
}