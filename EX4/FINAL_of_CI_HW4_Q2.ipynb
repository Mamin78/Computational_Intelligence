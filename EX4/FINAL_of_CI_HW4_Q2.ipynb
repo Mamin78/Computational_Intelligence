{
  "cells": [
    {
      "cell_type": "markdown",
      "metadata": {
        "id": "99LG2a0dZJEd"
      },
      "source": [
        "# **Generating our graph**"
      ]
    },
    {
      "cell_type": "markdown",
      "source": [
        "Here, H've created a random graph which always is connected."
      ],
      "metadata": {
        "id": "lGpb09jZxk3y"
      }
    },
    {
      "cell_type": "code",
      "execution_count": null,
      "metadata": {
        "id": "umoxNxEDZBwX"
      },
      "outputs": [],
      "source": [
        "import networkx as nx"
      ]
    },
    {
      "cell_type": "code",
      "execution_count": null,
      "metadata": {
        "colab": {
          "base_uri": "https://localhost:8080/"
        },
        "id": "HdTUtXkUZBs_",
        "outputId": "2d291cfb-11e8-4ee6-f393-e1af22d2ff62"
      },
      "outputs": [
        {
          "output_type": "stream",
          "name": "stdout",
          "text": [
            "6 15.0 8\n"
          ]
        }
      ],
      "source": [
        "import random\n",
        "\n",
        "V = random.randint(6, 12)\n",
        "MAX_EDGES = V * (V -1) * (1 / 2)\n",
        "E = random.randint(MAX_EDGES//2+1, MAX_EDGES)\n",
        "print(V, MAX_EDGES, E)"
      ]
    },
    {
      "cell_type": "code",
      "execution_count": null,
      "metadata": {
        "id": "l2GXWiRKZBpt"
      },
      "outputs": [],
      "source": [
        "G = nx.dense_gnm_random_graph(V, E)"
      ]
    },
    {
      "cell_type": "code",
      "execution_count": null,
      "metadata": {
        "colab": {
          "base_uri": "https://localhost:8080/",
          "height": 319
        },
        "id": "DXn3qfEPZGVn",
        "outputId": "5a32b45d-6a1c-4cad-c56f-942f99aa425a"
      },
      "outputs": [
        {
          "output_type": "display_data",
          "data": {
            "image/png": "[encoded data removed]",
            "text/plain": [
              "<Figure size 432x288 with 1 Axes>"
            ]
          },
          "metadata": {}
        }
      ],
      "source": [
        "%matplotlib inline\n",
        "import matplotlib.pyplot as plt\n",
        "nx.draw(G, with_labels=True)"
      ]
    },
    {
      "cell_type": "markdown",
      "metadata": {
        "id": "4Frc-iw8ZPO1"
      },
      "source": [
        "# **Algorithm**"
      ]
    },
    {
      "cell_type": "markdown",
      "source": [
        "## **Implementation**"
      ],
      "metadata": {
        "id": "7cGyvWOkFbZ3"
      }
    },
    {
      "cell_type": "markdown",
      "source": [
        "In this part, I've defined some functions for our algortithm!"
      ],
      "metadata": {
        "id": "o0zSrnvgx8WS"
      }
    },
    {
      "cell_type": "markdown",
      "source": [
        "This function, generates initial population based on given size.\n",
        "My represantation is binary. In this represantation, We have an array(list) with the length of V which is number nodes in our graph."
      ],
      "metadata": {
        "id": "0ZvPl1x9yERK"
      }
    },
    {
      "cell_type": "code",
      "execution_count": null,
      "metadata": {
        "id": "5G4T2gBiI6jZ"
      },
      "outputs": [],
      "source": [
        "def initial_population_generator(pop_size = 100, gen_size=V):\n",
        "  population = []\n",
        "  for i in range(pop_size):\n",
        "    current_gen = [0 for i in range(gen_size)]\n",
        "    for j in range(gen_size):\n",
        "      current_gen[j] = random.randint(0, 1)\n",
        "    population.append(current_gen)\n",
        "\n",
        "  return population"
      ]
    },
    {
      "cell_type": "markdown",
      "source": [
        "This function flips a given bit in our array."
      ],
      "metadata": {
        "id": "1H-fdbvzyhvb"
      }
    },
    {
      "cell_type": "code",
      "execution_count": null,
      "metadata": {
        "id": "1pYnJBmvOTTD"
      },
      "outputs": [],
      "source": [
        "def flip(val):\n",
        "  return 1 - val"
      ]
    },
    {
      "cell_type": "markdown",
      "source": [
        "Mutation for a single gen"
      ],
      "metadata": {
        "id": "ysNvYPMoyrEL"
      }
    },
    {
      "cell_type": "code",
      "execution_count": null,
      "metadata": {
        "id": "TsPOn9KXNq3b"
      },
      "outputs": [],
      "source": [
        "def mutation(gen, probability=0.75):\n",
        "  p = random.uniform(0, 1)\n",
        "  _, is_comp = compute_fitness_ind(gen, all_edges = list(G.edges))\n",
        "  if is_comp:\n",
        "    probability /= 3\n",
        "  if p <= probability:\n",
        "    index = random.randint(0, len(gen) - 1)\n",
        "    gen[index] = flip(gen[index])\n",
        "  \n",
        "  return gen"
      ]
    },
    {
      "cell_type": "markdown",
      "source": [
        "Mutation in population"
      ],
      "metadata": {
        "id": "Sg577rCeyu8C"
      }
    },
    {
      "cell_type": "code",
      "execution_count": null,
      "metadata": {
        "id": "-uYVaE4sVW59"
      },
      "outputs": [],
      "source": [
        "def do_mutation(population, probability = 0.75):\n",
        "  for i in range(len(population)):\n",
        "    population[i] = mutation(population[i], probability=0.75)\n",
        "  \n",
        "  return population"
      ]
    },
    {
      "cell_type": "markdown",
      "source": [
        "This function does a crossover and generates two new gens."
      ],
      "metadata": {
        "id": "bz5dx4liyzsi"
      }
    },
    {
      "cell_type": "code",
      "execution_count": null,
      "metadata": {
        "id": "Pwy4xT7dPQgL"
      },
      "outputs": [],
      "source": [
        "def crossover(f_gen, s_gen):\n",
        "  crossover_point = random.randint(0, len(f_gen) - 1)\n",
        "  f_gen_n = f_gen.copy()\n",
        "  s_gen_n = s_gen.copy()\n",
        "  f_gen_n[:crossover_point], s_gen_n[:crossover_point] = s_gen[:crossover_point], f_gen[:crossover_point]\n",
        "  return f_gen_n, s_gen_n"
      ]
    },
    {
      "cell_type": "code",
      "execution_count": null,
      "metadata": {
        "id": "3U2sv6OTQb3N"
      },
      "outputs": [],
      "source": [
        "def indexes_generator(max_ind):\n",
        "  f = random.randint(0, max_ind)\n",
        "  s = random.randint(0, max_ind)\n",
        "  while f == s:\n",
        "    s = random.randint(0, max_ind)\n",
        "  return f, s"
      ]
    },
    {
      "cell_type": "markdown",
      "source": [
        "This function does crossover for given number of times."
      ],
      "metadata": {
        "id": "Jfc7KoTHy-t6"
      }
    },
    {
      "cell_type": "code",
      "execution_count": null,
      "metadata": {
        "id": "wQS0dQzzP6Qz"
      },
      "outputs": [],
      "source": [
        "def do_crossover(population, number_of_crossover=20):\n",
        "  for i in range(number_of_crossover):\n",
        "    fi, si = indexes_generator(len(population) - 2)\n",
        "    new_f, new_s = crossover(population[fi], population[si])\n",
        "    population.append(new_f)\n",
        "    population.append(new_s)\n",
        "  return population"
      ]
    },
    {
      "cell_type": "markdown",
      "source": [
        "These functions are related to our fitness function.\n",
        "our fitness calculates number of edges which are connected to our selected nodes then divides this number by the whole number of edges in our graph.\n",
        "Finally, divides this number by number of selected nodes.\n",
        "Our fitnees is increamental which means we must achieve the lergest value of fitness."
      ],
      "metadata": {
        "id": "MiOhoj-LzLTc"
      }
    },
    {
      "cell_type": "code",
      "execution_count": null,
      "metadata": {
        "id": "x10k73mMTdbs"
      },
      "outputs": [],
      "source": [
        "def make_tuples_increamental(l):\n",
        "  for i in range(len(l)):\n",
        "    if l[i][0] > l[i][1]:\n",
        "      l[i] = (l[i][1], l[i][0])\n",
        "    \n",
        "  return l"
      ]
    },
    {
      "cell_type": "code",
      "execution_count": null,
      "metadata": {
        "id": "hXMzMYKTTKy4"
      },
      "outputs": [],
      "source": [
        "def make_set_of_edges(graph, nodes):\n",
        "  list_of_edges = []\n",
        "  for i in nodes:\n",
        "    list_of_edges.extend(list(graph.edges([i])))\n",
        "  \n",
        "  return list(set(make_tuples_increamental(list_of_edges)))"
      ]
    },
    {
      "cell_type": "code",
      "execution_count": null,
      "metadata": {
        "id": "BxwSmhACTvur"
      },
      "outputs": [],
      "source": [
        "def fitness_func(current_edges, all_edges, number_of_nodes):\n",
        "  if number_of_nodes == 0:\n",
        "    return 0, False\n",
        "  return (len(current_edges) / len(all_edges)) / number_of_nodes, (len(current_edges) / len(all_edges)) == 1"
      ]
    },
    {
      "cell_type": "code",
      "execution_count": null,
      "metadata": {
        "id": "Zbi_1lWES2Iw"
      },
      "outputs": [],
      "source": [
        "def compute_fitness_ind(gen, all_edges = list(G.edges)):\n",
        "  nodes = []\n",
        "  for i in range(len(gen)):\n",
        "    if gen[i]:\n",
        "      nodes.append(i)\n",
        "  edges = make_set_of_edges(G, nodes)\n",
        "  cf, is_complete = fitness_func(edges, all_edges, len(gen))\n",
        "  return cf, is_complete"
      ]
    },
    {
      "cell_type": "markdown",
      "source": [
        "These two functions select best gens in our population."
      ],
      "metadata": {
        "id": "rcruQ_2Hz4wP"
      }
    },
    {
      "cell_type": "code",
      "execution_count": null,
      "metadata": {
        "id": "B6o3L9XJUY90"
      },
      "outputs": [],
      "source": [
        "def sort_func(gen):\n",
        "  return compute_fitness_ind(gen, all_edges = list(G.edges))[0]"
      ]
    },
    {
      "cell_type": "code",
      "execution_count": null,
      "metadata": {
        "id": "DeczvDAoUs4N"
      },
      "outputs": [],
      "source": [
        "def selection(population, size = 100):\n",
        "  return population[:size]"
      ]
    },
    {
      "cell_type": "code",
      "execution_count": null,
      "metadata": {
        "id": "JCDIXj2WeTBH"
      },
      "outputs": [],
      "source": [
        "def is_population_complete(population):\n",
        "\n",
        "  is_c = False\n",
        "  best_fitness = -1\n",
        "  bi = -1\n",
        "  for i in range(len(population)):\n",
        "    cf, is_complete = compute_fitness_ind(population[i], all_edges = list(G.edges))\n",
        "    if is_complete:\n",
        "      is_c = is_complete\n",
        "    \n",
        "      if cf > best_fitness:\n",
        "        best_fitness = cf\n",
        "        bi = i\n",
        "\n",
        "\n",
        "  return is_c, bi, best_fitness"
      ]
    },
    {
      "cell_type": "markdown",
      "source": [
        "This function does our algorithm."
      ],
      "metadata": {
        "id": "w72ZmcQn0Jlg"
      }
    },
    {
      "cell_type": "markdown",
      "source": [
        "Represantation: binary\n",
        "\n",
        "crossover: one-point crossover\n",
        "\n",
        "mutation: mutates given gen with probability of 0.5\n",
        "\n",
        "selection: selects gens with the highest fitness"
      ],
      "metadata": {
        "id": "V51pi_zX0hMn"
      }
    },
    {
      "cell_type": "code",
      "execution_count": null,
      "metadata": {
        "id": "CZaoS7GWeIy2"
      },
      "outputs": [],
      "source": [
        "def GA(iterations=2000, initial_size = 30, n_crossover = 10, mutation_p = 0.75):\n",
        "  population = initial_population_generator(pop_size = initial_size, gen_size=V)\n",
        "\n",
        "  best_fitness = -1\n",
        "  best_gen = None\n",
        "  comp = False\n",
        "\n",
        "  for i in range(iterations):\n",
        "    if i % 1000 == 0:\n",
        "      print(i)\n",
        "    population = do_crossover(population, number_of_crossover=n_crossover)\n",
        "    population = do_mutation(population, probability = mutation_p)\n",
        "\n",
        "    population.sort(key=sort_func, reverse=True)\n",
        "    population = selection(population, size = initial_size)\n",
        "\n",
        "    is_complete, best_index, bf = is_population_complete(population)\n",
        "\n",
        "    if is_complete and (best_fitness < bf):\n",
        "      print('Is complete ', i)\n",
        "      comp = True\n",
        "      best_fitness = bf\n",
        "      best_gen = population[best_index].copy()\n",
        "\n",
        "  return population[0], compute_fitness_ind(population[0], all_edges = list(G.edges)), comp"
      ]
    },
    {
      "cell_type": "code",
      "execution_count": null,
      "metadata": {
        "colab": {
          "base_uri": "https://localhost:8080/"
        },
        "id": "jL19Y_ENYulN",
        "outputId": "bcb2e994-066d-4d2d-bc86-04f774688c5f"
      },
      "outputs": [
        {
          "output_type": "stream",
          "name": "stdout",
          "text": [
            "0\n",
            "Is complete  0\n",
            "1000\n"
          ]
        }
      ],
      "source": [
        "best_gen, best_fitness, comp = GA()"
      ]
    },
    {
      "cell_type": "code",
      "execution_count": null,
      "metadata": {
        "id": "3zGeal_MZ191",
        "colab": {
          "base_uri": "https://localhost:8080/"
        },
        "outputId": "74c78d12-d88d-4df4-aed7-73a7c59bb2a1"
      },
      "outputs": [
        {
          "output_type": "execute_result",
          "data": {
            "text/plain": [
              "[1, 1, 0, 0, 1, 1]"
            ]
          },
          "metadata": {},
          "execution_count": 237
        }
      ],
      "source": [
        "best_gen"
      ]
    },
    {
      "cell_type": "code",
      "execution_count": null,
      "metadata": {
        "id": "rT1zgTeLh213",
        "colab": {
          "base_uri": "https://localhost:8080/"
        },
        "outputId": "c774369b-9925-43aa-fbbb-bc68954935d6"
      },
      "outputs": [
        {
          "output_type": "execute_result",
          "data": {
            "text/plain": [
              "(0.16666666666666666, True)"
            ]
          },
          "metadata": {},
          "execution_count": 238
        }
      ],
      "source": [
        "best_fitness"
      ]
    },
    {
      "cell_type": "code",
      "source": [
        "comp"
      ],
      "metadata": {
        "colab": {
          "base_uri": "https://localhost:8080/"
        },
        "id": "pwoHbyRSt49K",
        "outputId": "d50883b0-257a-4e66-9758-b6adcd13512f"
      },
      "execution_count": null,
      "outputs": [
        {
          "output_type": "execute_result",
          "data": {
            "text/plain": [
              "True"
            ]
          },
          "metadata": {},
          "execution_count": 239
        }
      ]
    },
    {
      "cell_type": "code",
      "execution_count": null,
      "metadata": {
        "id": "Q8n_rEzpaII9"
      },
      "outputs": [],
      "source": [
        "nodes = []\n",
        "cv = ['blue' for i in range(len(best_gen))]\n",
        "for i in range(len(best_gen)):\n",
        "  if best_gen[i]:\n",
        "    nodes.append(i)\n",
        "    cv[i] = 'red'"
      ]
    },
    {
      "cell_type": "code",
      "execution_count": null,
      "metadata": {
        "id": "Cuiw_maZbtpv",
        "colab": {
          "base_uri": "https://localhost:8080/"
        },
        "outputId": "88683207-7e7e-4e18-8331-4ae28234dd51"
      },
      "outputs": [
        {
          "output_type": "execute_result",
          "data": {
            "text/plain": [
              "['red', 'red', 'blue', 'blue', 'red', 'red']"
            ]
          },
          "metadata": {},
          "execution_count": 241
        }
      ],
      "source": [
        "cv"
      ]
    },
    {
      "cell_type": "markdown",
      "source": [
        "## **Plots**"
      ],
      "metadata": {
        "id": "Fp3OBC1g0OfC"
      }
    },
    {
      "cell_type": "code",
      "source": [
        "%matplotlib inline\n",
        "import matplotlib.pyplot as plt\n",
        "nx.draw(G, with_labels=True)"
      ],
      "metadata": {
        "colab": {
          "base_uri": "https://localhost:8080/",
          "height": 319
        },
        "id": "Dwwoy60AuRzM",
        "outputId": "d0b29380-9d7d-44c1-a3f5-1091d647ccbd"
      },
      "execution_count": null,
      "outputs": [
        {
          "output_type": "display_data",
          "data": {
            "image/png": "[encoded data removed]",
            "text/plain": [
              "<Figure size 432x288 with 1 Axes>"
            ]
          },
          "metadata": {}
        }
      ]
    },
    {
      "cell_type": "code",
      "execution_count": null,
      "metadata": {
        "id": "WiSScE1Waiol",
        "colab": {
          "base_uri": "https://localhost:8080/",
          "height": 319
        },
        "outputId": "6f80d566-b7b2-474c-9e38-4342fba0e815"
      },
      "outputs": [
        {
          "output_type": "display_data",
          "data": {
            "image/png": "[encoded data removed]",
            "text/plain": [
              "<Figure size 432x288 with 1 Axes>"
            ]
          },
          "metadata": {}
        }
      ],
      "source": [
        "%matplotlib inline\n",
        "import matplotlib.pyplot as plt\n",
        "nx.draw(G, node_color=cv, with_labels=True)"
      ]
    }
  ],
  "metadata": {
    "colab": {
      "collapsed_sections": [
        "99LG2a0dZJEd",
        "4Frc-iw8ZPO1",
        "7cGyvWOkFbZ3",
        "Fp3OBC1g0OfC"
      ],
      "name": "FINAL of CI_HW4_Q2.ipynb",
      "provenance": []
    },
    "kernelspec": {
      "display_name": "Python 3",
      "name": "python3"
    },
    "language_info": {
      "name": "python"
    }
  },
  "nbformat": 4,
  "nbformat_minor": 0
}