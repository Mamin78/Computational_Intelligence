{
  "nbformat": 4,
  "nbformat_minor": 0,
  "metadata": {
    "colab": {
      "name": "Final_CI_EX3.ipynb",
      "provenance": [],
      "collapsed_sections": [
        "eajnn0zhNAeb",
        "EFMYIONpNQjT",
        "x4i5vx-VVGXK"
      ]
    },
    "kernelspec": {
      "name": "python3",
      "display_name": "Python 3"
    },
    "language_info": {
      "name": "python"
    },
    "accelerator": "GPU"
  },
  "cells": [
    {
      "cell_type": "markdown",
      "metadata": {
        "id": "eajnn0zhNAeb"
      },
      "source": [
        "# **Reading The data from google drive**"
      ]
    },
    {
      "cell_type": "code",
      "metadata": {
        "colab": {
          "base_uri": "https://localhost:8080/"
        },
        "id": "XBBHpFI49iqh",
        "outputId": "2c6ea8f3-8390-40c0-d6fa-b0d874e718e0"
      },
      "source": [
        "!pip install PyDrive\n",
        "from pydrive.auth import GoogleAuth\n",
        "from pydrive.drive import GoogleDrive\n",
        "from google.colab import auth\n",
        "from oauth2client.client import GoogleCredentials"
      ],
      "execution_count": null,
      "outputs": [
        {
          "output_type": "stream",
          "name": "stdout",
          "text": [
            "Requirement already satisfied: PyDrive in /usr/local/lib/python3.7/dist-packages (1.3.1)\n",
            "Requirement already satisfied: oauth2client>=4.0.0 in /usr/local/lib/python3.7/dist-packages (from PyDrive) (4.1.3)\n",
            "Requirement already satisfied: google-api-python-client>=1.2 in /usr/local/lib/python3.7/dist-packages (from PyDrive) (1.12.8)\n",
            "Requirement already satisfied: PyYAML>=3.0 in /usr/local/lib/python3.7/dist-packages (from PyDrive) (3.13)\n",
            "Requirement already satisfied: six<2dev,>=1.13.0 in /usr/local/lib/python3.7/dist-packages (from google-api-python-client>=1.2->PyDrive) (1.15.0)\n",
            "Requirement already satisfied: google-api-core<2dev,>=1.21.0 in /usr/local/lib/python3.7/dist-packages (from google-api-python-client>=1.2->PyDrive) (1.26.3)\n",
            "Requirement already satisfied: google-auth>=1.16.0 in /usr/local/lib/python3.7/dist-packages (from google-api-python-client>=1.2->PyDrive) (1.35.0)\n",
            "Requirement already satisfied: uritemplate<4dev,>=3.0.0 in /usr/local/lib/python3.7/dist-packages (from google-api-python-client>=1.2->PyDrive) (3.0.1)\n",
            "Requirement already satisfied: google-auth-httplib2>=0.0.3 in /usr/local/lib/python3.7/dist-packages (from google-api-python-client>=1.2->PyDrive) (0.0.4)\n",
            "Requirement already satisfied: httplib2<1dev,>=0.15.0 in /usr/local/lib/python3.7/dist-packages (from google-api-python-client>=1.2->PyDrive) (0.17.4)\n",
            "Requirement already satisfied: requests<3.0.0dev,>=2.18.0 in /usr/local/lib/python3.7/dist-packages (from google-api-core<2dev,>=1.21.0->google-api-python-client>=1.2->PyDrive) (2.23.0)\n",
            "Requirement already satisfied: protobuf>=3.12.0 in /usr/local/lib/python3.7/dist-packages (from google-api-core<2dev,>=1.21.0->google-api-python-client>=1.2->PyDrive) (3.17.3)\n",
            "Requirement already satisfied: packaging>=14.3 in /usr/local/lib/python3.7/dist-packages (from google-api-core<2dev,>=1.21.0->google-api-python-client>=1.2->PyDrive) (21.3)\n",
            "Requirement already satisfied: googleapis-common-protos<2.0dev,>=1.6.0 in /usr/local/lib/python3.7/dist-packages (from google-api-core<2dev,>=1.21.0->google-api-python-client>=1.2->PyDrive) (1.53.0)\n",
            "Requirement already satisfied: setuptools>=40.3.0 in /usr/local/lib/python3.7/dist-packages (from google-api-core<2dev,>=1.21.0->google-api-python-client>=1.2->PyDrive) (57.4.0)\n",
            "Requirement already satisfied: pytz in /usr/local/lib/python3.7/dist-packages (from google-api-core<2dev,>=1.21.0->google-api-python-client>=1.2->PyDrive) (2018.9)\n",
            "Requirement already satisfied: pyasn1-modules>=0.2.1 in /usr/local/lib/python3.7/dist-packages (from google-auth>=1.16.0->google-api-python-client>=1.2->PyDrive) (0.2.8)\n",
            "Requirement already satisfied: cachetools<5.0,>=2.0.0 in /usr/local/lib/python3.7/dist-packages (from google-auth>=1.16.0->google-api-python-client>=1.2->PyDrive) (4.2.4)\n",
            "Requirement already satisfied: rsa<5,>=3.1.4 in /usr/local/lib/python3.7/dist-packages (from google-auth>=1.16.0->google-api-python-client>=1.2->PyDrive) (4.7.2)\n",
            "Requirement already satisfied: pyasn1>=0.1.7 in /usr/local/lib/python3.7/dist-packages (from oauth2client>=4.0.0->PyDrive) (0.4.8)\n",
            "Requirement already satisfied: pyparsing!=3.0.5,>=2.0.2 in /usr/local/lib/python3.7/dist-packages (from packaging>=14.3->google-api-core<2dev,>=1.21.0->google-api-python-client>=1.2->PyDrive) (3.0.6)\n",
            "Requirement already satisfied: chardet<4,>=3.0.2 in /usr/local/lib/python3.7/dist-packages (from requests<3.0.0dev,>=2.18.0->google-api-core<2dev,>=1.21.0->google-api-python-client>=1.2->PyDrive) (3.0.4)\n",
            "Requirement already satisfied: urllib3!=1.25.0,!=1.25.1,<1.26,>=1.21.1 in /usr/local/lib/python3.7/dist-packages (from requests<3.0.0dev,>=2.18.0->google-api-core<2dev,>=1.21.0->google-api-python-client>=1.2->PyDrive) (1.24.3)\n",
            "Requirement already satisfied: certifi>=2017.4.17 in /usr/local/lib/python3.7/dist-packages (from requests<3.0.0dev,>=2.18.0->google-api-core<2dev,>=1.21.0->google-api-python-client>=1.2->PyDrive) (2021.10.8)\n",
            "Requirement already satisfied: idna<3,>=2.5 in /usr/local/lib/python3.7/dist-packages (from requests<3.0.0dev,>=2.18.0->google-api-core<2dev,>=1.21.0->google-api-python-client>=1.2->PyDrive) (2.10)\n"
          ]
        }
      ]
    },
    {
      "cell_type": "code",
      "metadata": {
        "id": "aAv8igt5D571"
      },
      "source": [
        "auth.authenticate_user()\n",
        "gauth = GoogleAuth()\n",
        "gauth.credentials = GoogleCredentials.get_application_default()\n",
        "drive = GoogleDrive(gauth)"
      ],
      "execution_count": null,
      "outputs": []
    },
    {
      "cell_type": "code",
      "metadata": {
        "id": "7waIhcbCD8g9"
      },
      "source": [
        "downloaded = drive.CreateFile({'id':\"1FUXSmzQXl4lUjHE6vDvXPtAmuo_azcIo\"})\n",
        "downloaded.GetContentFile('train.zip')"
      ],
      "execution_count": null,
      "outputs": []
    },
    {
      "cell_type": "code",
      "metadata": {
        "colab": {
          "base_uri": "https://localhost:8080/"
        },
        "id": "YuhfcNe1MeJb",
        "outputId": "48e1ddbc-b100-48c5-dab4-7e89ecb401ee"
      },
      "source": [
        "!unzip \"train.zip\" -d  \"\""
      ],
      "execution_count": null,
      "outputs": [
        {
          "output_type": "stream",
          "name": "stdout",
          "text": [
            "Archive:  train.zip\n",
            "  inflating: train.csv               \n"
          ]
        }
      ]
    },
    {
      "cell_type": "markdown",
      "metadata": {
        "id": "EFMYIONpNQjT"
      },
      "source": [
        "# **Preprocessing**"
      ]
    },
    {
      "cell_type": "markdown",
      "metadata": {
        "id": "8uW2MLA_DzVy"
      },
      "source": [
        "Here, I've read the data, converted its pixels column's values to matrixes with (8, 48, 1) shape, then split it to train and validation parts. In the end, I've flipped the train part horizontally and vertically for data augmentation."
      ]
    },
    {
      "cell_type": "code",
      "metadata": {
        "id": "ObikBmBVDDgu"
      },
      "source": [
        "import numpy as np"
      ],
      "execution_count": null,
      "outputs": []
    },
    {
      "cell_type": "code",
      "metadata": {
        "id": "y53gFOK-WOUH"
      },
      "source": [
        "import tensorflow as tf"
      ],
      "execution_count": null,
      "outputs": []
    },
    {
      "cell_type": "code",
      "metadata": {
        "id": "0-J_P_PdWiOc"
      },
      "source": [
        "import pandas as pd\n",
        "data = pd.read_csv('train.csv')"
      ],
      "execution_count": null,
      "outputs": []
    },
    {
      "cell_type": "code",
      "metadata": {
        "id": "yBNXYo_GOWk6",
        "colab": {
          "base_uri": "https://localhost:8080/",
          "height": 424
        },
        "outputId": "92509e98-5eb4-44d9-c92d-4a0921f38ca5"
      },
      "source": [
        "data"
      ],
      "execution_count": null,
      "outputs": [
        {
          "output_type": "execute_result",
          "data": {
            "text/html": [
              "<div>\n",
              "<style scoped>\n",
              "    .dataframe tbody tr th:only-of-type {\n",
              "        vertical-align: middle;\n",
              "    }\n",
              "\n",
              "    .dataframe tbody tr th {\n",
              "        vertical-align: top;\n",
              "    }\n",
              "\n",
              "    .dataframe thead th {\n",
              "        text-align: right;\n",
              "    }\n",
              "</style>\n",
              "<table border=\"1\" class=\"dataframe\">\n",
              "  <thead>\n",
              "    <tr style=\"text-align: right;\">\n",
              "      <th></th>\n",
              "      <th>emotion</th>\n",
              "      <th>pixels</th>\n",
              "    </tr>\n",
              "  </thead>\n",
              "  <tbody>\n",
              "    <tr>\n",
              "      <th>0</th>\n",
              "      <td>0</td>\n",
              "      <td>70 80 82 72 58 58 60 63 54 58 60 48 89 115 121...</td>\n",
              "    </tr>\n",
              "    <tr>\n",
              "      <th>1</th>\n",
              "      <td>0</td>\n",
              "      <td>151 150 147 155 148 133 111 140 170 174 182 15...</td>\n",
              "    </tr>\n",
              "    <tr>\n",
              "      <th>2</th>\n",
              "      <td>2</td>\n",
              "      <td>231 212 156 164 174 138 161 173 182 200 106 38...</td>\n",
              "    </tr>\n",
              "    <tr>\n",
              "      <th>3</th>\n",
              "      <td>4</td>\n",
              "      <td>24 32 36 30 32 23 19 20 30 41 21 22 32 34 21 1...</td>\n",
              "    </tr>\n",
              "    <tr>\n",
              "      <th>4</th>\n",
              "      <td>6</td>\n",
              "      <td>4 0 0 0 0 0 0 0 0 0 0 0 3 15 23 28 48 50 58 84...</td>\n",
              "    </tr>\n",
              "    <tr>\n",
              "      <th>...</th>\n",
              "      <td>...</td>\n",
              "      <td>...</td>\n",
              "    </tr>\n",
              "    <tr>\n",
              "      <th>28704</th>\n",
              "      <td>2</td>\n",
              "      <td>84 85 85 85 85 85 85 85 86 86 86 87 86 86 91 9...</td>\n",
              "    </tr>\n",
              "    <tr>\n",
              "      <th>28705</th>\n",
              "      <td>0</td>\n",
              "      <td>114 112 113 113 111 111 112 113 115 113 114 11...</td>\n",
              "    </tr>\n",
              "    <tr>\n",
              "      <th>28706</th>\n",
              "      <td>4</td>\n",
              "      <td>74 81 87 89 95 100 98 93 105 120 127 133 146 1...</td>\n",
              "    </tr>\n",
              "    <tr>\n",
              "      <th>28707</th>\n",
              "      <td>0</td>\n",
              "      <td>222 227 203 90 86 90 84 77 94 87 99 119 134 14...</td>\n",
              "    </tr>\n",
              "    <tr>\n",
              "      <th>28708</th>\n",
              "      <td>4</td>\n",
              "      <td>195 199 205 206 205 203 206 209 208 210 212 21...</td>\n",
              "    </tr>\n",
              "  </tbody>\n",
              "</table>\n",
              "<p>28709 rows × 2 columns</p>\n",
              "</div>"
            ],
            "text/plain": [
              "       emotion                                             pixels\n",
              "0            0  70 80 82 72 58 58 60 63 54 58 60 48 89 115 121...\n",
              "1            0  151 150 147 155 148 133 111 140 170 174 182 15...\n",
              "2            2  231 212 156 164 174 138 161 173 182 200 106 38...\n",
              "3            4  24 32 36 30 32 23 19 20 30 41 21 22 32 34 21 1...\n",
              "4            6  4 0 0 0 0 0 0 0 0 0 0 0 3 15 23 28 48 50 58 84...\n",
              "...        ...                                                ...\n",
              "28704        2  84 85 85 85 85 85 85 85 86 86 86 87 86 86 91 9...\n",
              "28705        0  114 112 113 113 111 111 112 113 115 113 114 11...\n",
              "28706        4  74 81 87 89 95 100 98 93 105 120 127 133 146 1...\n",
              "28707        0  222 227 203 90 86 90 84 77 94 87 99 119 134 14...\n",
              "28708        4  195 199 205 206 205 203 206 209 208 210 212 21...\n",
              "\n",
              "[28709 rows x 2 columns]"
            ]
          },
          "metadata": {},
          "execution_count": 89
        }
      ]
    },
    {
      "cell_type": "markdown",
      "metadata": {
        "id": "qZF-LrIgEvAO"
      },
      "source": [
        "**Creating Matrixes**"
      ]
    },
    {
      "cell_type": "code",
      "metadata": {
        "id": "WRkSz9eRNWn7"
      },
      "source": [
        "def get_int_list(X, r, ind, width=48, height=48):\n",
        "  s = r.split(\" \")\n",
        "\n",
        "  for i in range(len(s)):\n",
        "    row = i // width\n",
        "    column = i % width \n",
        "\n",
        "    X[ind][row][column][0] = int(s[i]) / 255"
      ],
      "execution_count": null,
      "outputs": []
    },
    {
      "cell_type": "code",
      "metadata": {
        "id": "HBM533BVT26v"
      },
      "source": [
        "X = np.zeros(shape=(len(data), 48, 48, 1))"
      ],
      "execution_count": null,
      "outputs": []
    },
    {
      "cell_type": "code",
      "metadata": {
        "id": "GdBY85kpThCV"
      },
      "source": [
        "for i in range(len(data)):\n",
        "  get_int_list(X, data.loc[i, 'pixels'], i)"
      ],
      "execution_count": null,
      "outputs": []
    },
    {
      "cell_type": "code",
      "metadata": {
        "id": "yfmZwUHXZ9ge"
      },
      "source": [
        "y = np.array(data['emotion'])"
      ],
      "execution_count": null,
      "outputs": []
    },
    {
      "cell_type": "markdown",
      "metadata": {
        "id": "gzc2FQBxE3Si"
      },
      "source": [
        "**Spliting the data**"
      ]
    },
    {
      "cell_type": "code",
      "metadata": {
        "id": "Omf7desCZpC1"
      },
      "source": [
        "from sklearn.model_selection import train_test_split\n",
        "train_images_f, test_images, train_labels_f, test_labels = train_test_split(X, y, test_size=0.15, random_state=42)"
      ],
      "execution_count": null,
      "outputs": []
    },
    {
      "cell_type": "markdown",
      "metadata": {
        "id": "fw46F7FGE61p"
      },
      "source": [
        "**Augmenting the train part**"
      ]
    },
    {
      "cell_type": "code",
      "metadata": {
        "id": "4kxNMUpcyBXF"
      },
      "source": [
        "train_images_r = np.flip(train_images_f, 2)\n",
        "train_images_u = np.flip(train_images_f, 1)\n",
        "train_images_ra = np.append(train_images_f, train_images_r, axis=0)\n",
        "train_images = np.append(train_images_ra, train_images_u, axis=0)\n",
        "\n",
        "train_labels_r = np.append(train_labels_f, train_labels_f)\n",
        "train_labels = np.append(train_labels_f, train_labels_r)"
      ],
      "execution_count": null,
      "outputs": []
    },
    {
      "cell_type": "code",
      "metadata": {
        "colab": {
          "base_uri": "https://localhost:8080/",
          "height": 284
        },
        "id": "qZFUQIen1lXi",
        "outputId": "08d39cdd-d0fc-482d-9bbb-30902b9c400f"
      },
      "source": [
        "import matplotlib.pyplot as plt\n",
        "plt.imshow(train_images[10].reshape((48, 48)))"
      ],
      "execution_count": null,
      "outputs": [
        {
          "output_type": "execute_result",
          "data": {
            "text/plain": [
              "<matplotlib.image.AxesImage at 0x7f358b05a3d0>"
            ]
          },
          "metadata": {},
          "execution_count": 97
        },
        {
          "output_type": "display_data",
          "data": {
            "image/png": "[encoded data removed]",
            "text/plain": [
              "<Figure size 432x288 with 1 Axes>"
            ]
          },
          "metadata": {
            "needs_background": "light"
          }
        }
      ]
    },
    {
      "cell_type": "code",
      "metadata": {
        "id": "2uHzkc4BhV3g",
        "colab": {
          "base_uri": "https://localhost:8080/",
          "height": 284
        },
        "outputId": "3999af73-ed7a-4de8-d242-79ed218f1a07"
      },
      "source": [
        "plt.imshow(train_images[train_images_f.shape[0] + 10].reshape((48, 48)))"
      ],
      "execution_count": null,
      "outputs": [
        {
          "output_type": "execute_result",
          "data": {
            "text/plain": [
              "<matplotlib.image.AxesImage at 0x7f3586d3e090>"
            ]
          },
          "metadata": {},
          "execution_count": 98
        },
        {
          "output_type": "display_data",
          "data": {
            "image/png": "[encoded data removed]",
            "text/plain": [
              "<Figure size 432x288 with 1 Axes>"
            ]
          },
          "metadata": {
            "needs_background": "light"
          }
        }
      ]
    },
    {
      "cell_type": "code",
      "metadata": {
        "id": "2w03uC_jUxdt",
        "colab": {
          "base_uri": "https://localhost:8080/",
          "height": 284
        },
        "outputId": "4c1fbc6e-a1df-4a27-fe4a-8e6be88e78f5"
      },
      "source": [
        "plt.imshow(train_images[train_images_f.shape[0] * 2 + 10].reshape((48, 48)))"
      ],
      "execution_count": null,
      "outputs": [
        {
          "output_type": "execute_result",
          "data": {
            "text/plain": [
              "<matplotlib.image.AxesImage at 0x7f3586b60fd0>"
            ]
          },
          "metadata": {},
          "execution_count": 99
        },
        {
          "output_type": "display_data",
          "data": {
            "image/png": "[encoded data removed]",
            "text/plain": [
              "<Figure size 432x288 with 1 Axes>"
            ]
          },
          "metadata": {
            "needs_background": "light"
          }
        }
      ]
    },
    {
      "cell_type": "code",
      "metadata": {
        "colab": {
          "base_uri": "https://localhost:8080/"
        },
        "id": "ks9c7lKmcurD",
        "outputId": "90f89969-076d-40e2-dfc1-87712cc504a1"
      },
      "source": [
        "train_labels[205]"
      ],
      "execution_count": null,
      "outputs": [
        {
          "output_type": "execute_result",
          "data": {
            "text/plain": [
              "0"
            ]
          },
          "metadata": {},
          "execution_count": 100
        }
      ]
    },
    {
      "cell_type": "code",
      "metadata": {
        "colab": {
          "base_uri": "https://localhost:8080/"
        },
        "id": "aboT2Xa8csMk",
        "outputId": "5d4de69b-2694-4118-ceca-41fda356ebf6"
      },
      "source": [
        "train_labels[train_labels_f.shape[0] + 205]"
      ],
      "execution_count": null,
      "outputs": [
        {
          "output_type": "execute_result",
          "data": {
            "text/plain": [
              "0"
            ]
          },
          "metadata": {},
          "execution_count": 101
        }
      ]
    },
    {
      "cell_type": "code",
      "metadata": {
        "id": "aLSu0A4jUz69",
        "colab": {
          "base_uri": "https://localhost:8080/"
        },
        "outputId": "a4d5d00f-c0a8-4390-c863-f009f63417fa"
      },
      "source": [
        "train_labels[train_labels_f.shape[0] * 2 + 205]"
      ],
      "execution_count": null,
      "outputs": [
        {
          "output_type": "execute_result",
          "data": {
            "text/plain": [
              "0"
            ]
          },
          "metadata": {},
          "execution_count": 102
        }
      ]
    },
    {
      "cell_type": "markdown",
      "metadata": {
        "id": "x4i5vx-VVGXK"
      },
      "source": [
        "# **The model**"
      ]
    },
    {
      "cell_type": "markdown",
      "metadata": {
        "id": "LER7yReCF694"
      },
      "source": [
        "In this part, I first created the model architecture, then called the fit function with trains the model on the dataset. In the end, I've plotted the train and validation accuracy changes during the training."
      ]
    },
    {
      "cell_type": "code",
      "metadata": {
        "id": "lFofrJ_lvp4A"
      },
      "source": [
        "import matplotlib.pyplot as plt\n",
        "import tensorflow as tf\n",
        "import pathlib\n",
        "from tensorflow import keras"
      ],
      "execution_count": null,
      "outputs": []
    },
    {
      "cell_type": "code",
      "metadata": {
        "id": "Qy3mpCtH6RAx"
      },
      "source": [
        "from keras.models import Sequential\n",
        "from keras.layers import Conv2D, MaxPooling2D, Flatten, Dense, Activation, Dropout\n",
        "from keras.layers.advanced_activations import LeakyReLU"
      ],
      "execution_count": null,
      "outputs": []
    },
    {
      "cell_type": "markdown",
      "metadata": {
        "id": "2B7lpW1QHikP"
      },
      "source": [
        "**Creating the model**"
      ]
    },
    {
      "cell_type": "code",
      "metadata": {
        "id": "-8uYlIymuH0y"
      },
      "source": [
        "model = Sequential()\n",
        "\n",
        "model.add(Conv2D(16, [3, 3], padding='same', input_shape=train_images[0].shape))\n",
        "model.add(LeakyReLU(0.1))\n",
        "model.add(Conv2D(32, [3, 3], padding='same'))\n",
        "model.add(LeakyReLU(0.1))\n",
        "model.add(MaxPooling2D([2, 2]))\n",
        "model.add(Dropout(0.25))\n",
        "\n",
        "model.add(Conv2D(32, [3, 3], padding='same'))\n",
        "model.add(LeakyReLU(0.1))\n",
        "model.add(Conv2D(64, [3, 3], padding='same'))\n",
        "model.add(LeakyReLU(0.1))\n",
        "model.add(MaxPooling2D([2, 2]))\n",
        "model.add(Dropout(0.25))\n",
        "\n",
        "model.add(Conv2D(128, [3, 3], padding='same'))\n",
        "model.add(LeakyReLU(0.1))\n",
        "model.add(MaxPooling2D([2, 2]))\n",
        "model.add(Dropout(0.25))\n",
        "\n",
        "model.add(Flatten())\n",
        "model.add(Dense(128))\n",
        "model.add(Dropout(0.3))\n",
        "model.add(LeakyReLU(0.1))\n",
        "\n",
        "model.add(Dense(256))\n",
        "model.add(Dropout(0.3))\n",
        "model.add(LeakyReLU(0.1))\n",
        "\n",
        "model.add(Dense(7))\n",
        "model.add(Activation('softmax'))"
      ],
      "execution_count": null,
      "outputs": []
    },
    {
      "cell_type": "code",
      "metadata": {
        "id": "AwnEYgKAdDOj",
        "colab": {
          "base_uri": "https://localhost:8080/"
        },
        "outputId": "531f0aaf-0d97-4e7b-82b2-a81ed3d96101"
      },
      "source": [
        "model.summary()"
      ],
      "execution_count": null,
      "outputs": [
        {
          "output_type": "stream",
          "name": "stdout",
          "text": [
            "Model: \"sequential_7\"\n",
            "_________________________________________________________________\n",
            " Layer (type)                Output Shape              Param #   \n",
            "=================================================================\n",
            " conv2d_20 (Conv2D)          (None, 48, 48, 16)        160       \n",
            "                                                                 \n",
            " leaky_re_lu_28 (LeakyReLU)  (None, 48, 48, 16)        0         \n",
            "                                                                 \n",
            " conv2d_21 (Conv2D)          (None, 48, 48, 32)        4640      \n",
            "                                                                 \n",
            " leaky_re_lu_29 (LeakyReLU)  (None, 48, 48, 32)        0         \n",
            "                                                                 \n",
            " max_pooling2d_12 (MaxPoolin  (None, 24, 24, 32)       0         \n",
            " g2D)                                                            \n",
            "                                                                 \n",
            " dropout_20 (Dropout)        (None, 24, 24, 32)        0         \n",
            "                                                                 \n",
            " conv2d_22 (Conv2D)          (None, 24, 24, 32)        9248      \n",
            "                                                                 \n",
            " leaky_re_lu_30 (LeakyReLU)  (None, 24, 24, 32)        0         \n",
            "                                                                 \n",
            " conv2d_23 (Conv2D)          (None, 24, 24, 64)        18496     \n",
            "                                                                 \n",
            " leaky_re_lu_31 (LeakyReLU)  (None, 24, 24, 64)        0         \n",
            "                                                                 \n",
            " max_pooling2d_13 (MaxPoolin  (None, 12, 12, 64)       0         \n",
            " g2D)                                                            \n",
            "                                                                 \n",
            " dropout_21 (Dropout)        (None, 12, 12, 64)        0         \n",
            "                                                                 \n",
            " conv2d_24 (Conv2D)          (None, 12, 12, 128)       73856     \n",
            "                                                                 \n",
            " leaky_re_lu_32 (LeakyReLU)  (None, 12, 12, 128)       0         \n",
            "                                                                 \n",
            " max_pooling2d_14 (MaxPoolin  (None, 6, 6, 128)        0         \n",
            " g2D)                                                            \n",
            "                                                                 \n",
            " dropout_22 (Dropout)        (None, 6, 6, 128)         0         \n",
            "                                                                 \n",
            " flatten_4 (Flatten)         (None, 4608)              0         \n",
            "                                                                 \n",
            " dense_12 (Dense)            (None, 128)               589952    \n",
            "                                                                 \n",
            " dropout_23 (Dropout)        (None, 128)               0         \n",
            "                                                                 \n",
            " leaky_re_lu_33 (LeakyReLU)  (None, 128)               0         \n",
            "                                                                 \n",
            " dense_13 (Dense)            (None, 256)               33024     \n",
            "                                                                 \n",
            " dropout_24 (Dropout)        (None, 256)               0         \n",
            "                                                                 \n",
            " leaky_re_lu_34 (LeakyReLU)  (None, 256)               0         \n",
            "                                                                 \n",
            " dense_14 (Dense)            (None, 7)                 1799      \n",
            "                                                                 \n",
            " activation_4 (Activation)   (None, 7)                 0         \n",
            "                                                                 \n",
            "=================================================================\n",
            "Total params: 731,175\n",
            "Trainable params: 731,175\n",
            "Non-trainable params: 0\n",
            "_________________________________________________________________\n"
          ]
        }
      ]
    },
    {
      "cell_type": "code",
      "metadata": {
        "id": "vYRvmnDlQhWe",
        "colab": {
          "base_uri": "https://localhost:8080/"
        },
        "outputId": "7ae023f4-1ef3-48b1-c6ef-b350f17dbf50"
      },
      "source": [
        "model.compile(optimizer='adam',\n",
        "              loss=tf.keras.losses.SparseCategoricalCrossentropy(from_logits=True),\n",
        "              metrics=['accuracy'])\n",
        "\n",
        "\n",
        "history = model.fit(train_images, train_labels, epochs=32, validation_data=(test_images, test_labels))\n",
        "\n",
        "# model.save_weights('ws.h5')"
      ],
      "execution_count": null,
      "outputs": [
        {
          "output_type": "stream",
          "name": "stdout",
          "text": [
            "Epoch 1/32\n"
          ]
        },
        {
          "output_type": "stream",
          "name": "stderr",
          "text": [
            "/usr/local/lib/python3.7/dist-packages/tensorflow/python/util/dispatch.py:1096: UserWarning: \"`sparse_categorical_crossentropy` received `from_logits=True`, but the `output` argument was produced by a sigmoid or softmax activation and thus does not represent logits. Was this intended?\"\n",
            "  return dispatch_target(*args, **kwargs)\n"
          ]
        },
        {
          "output_type": "stream",
          "name": "stdout",
          "text": [
            "2288/2288 [==============================] - 39s 17ms/step - loss: 1.6467 - accuracy: 0.3344 - val_loss: 1.3302 - val_accuracy: 0.4925\n",
            "Epoch 2/32\n",
            "2288/2288 [==============================] - 38s 17ms/step - loss: 1.3377 - accuracy: 0.4824 - val_loss: 1.2021 - val_accuracy: 0.5421\n",
            "Epoch 3/32\n",
            "2288/2288 [==============================] - 38s 16ms/step - loss: 1.2452 - accuracy: 0.5219 - val_loss: 1.1763 - val_accuracy: 0.5519\n",
            "Epoch 4/32\n",
            "2288/2288 [==============================] - 38s 17ms/step - loss: 1.1846 - accuracy: 0.5462 - val_loss: 1.1219 - val_accuracy: 0.5746\n",
            "Epoch 5/32\n",
            "2288/2288 [==============================] - 38s 17ms/step - loss: 1.1527 - accuracy: 0.5616 - val_loss: 1.0917 - val_accuracy: 0.5846\n",
            "Epoch 6/32\n",
            "2288/2288 [==============================] - 38s 17ms/step - loss: 1.1143 - accuracy: 0.5743 - val_loss: 1.0815 - val_accuracy: 0.5932\n",
            "Epoch 7/32\n",
            "2288/2288 [==============================] - 38s 17ms/step - loss: 1.0963 - accuracy: 0.5824 - val_loss: 1.0788 - val_accuracy: 0.5955\n",
            "Epoch 8/32\n",
            "2288/2288 [==============================] - 38s 17ms/step - loss: 1.0776 - accuracy: 0.5901 - val_loss: 1.0810 - val_accuracy: 0.5930\n",
            "Epoch 9/32\n",
            "2288/2288 [==============================] - 38s 17ms/step - loss: 1.0577 - accuracy: 0.5993 - val_loss: 1.0790 - val_accuracy: 0.5997\n",
            "Epoch 10/32\n",
            "2288/2288 [==============================] - 38s 17ms/step - loss: 1.0424 - accuracy: 0.6040 - val_loss: 1.0501 - val_accuracy: 0.6060\n",
            "Epoch 11/32\n",
            "2288/2288 [==============================] - 38s 17ms/step - loss: 1.0278 - accuracy: 0.6094 - val_loss: 1.0747 - val_accuracy: 0.5965\n",
            "Epoch 12/32\n",
            "2288/2288 [==============================] - 38s 17ms/step - loss: 1.0150 - accuracy: 0.6150 - val_loss: 1.0607 - val_accuracy: 0.6044\n",
            "Epoch 13/32\n",
            "2288/2288 [==============================] - 38s 17ms/step - loss: 1.0062 - accuracy: 0.6195 - val_loss: 1.0579 - val_accuracy: 0.6058\n",
            "Epoch 14/32\n",
            "2288/2288 [==============================] - 38s 17ms/step - loss: 0.9911 - accuracy: 0.6242 - val_loss: 1.0730 - val_accuracy: 0.6160\n",
            "Epoch 15/32\n",
            "2288/2288 [==============================] - 38s 17ms/step - loss: 0.9807 - accuracy: 0.6278 - val_loss: 1.0636 - val_accuracy: 0.5990\n",
            "Epoch 16/32\n",
            "2288/2288 [==============================] - 38s 17ms/step - loss: 0.9740 - accuracy: 0.6327 - val_loss: 1.0528 - val_accuracy: 0.6039\n",
            "Epoch 17/32\n",
            "2288/2288 [==============================] - 38s 17ms/step - loss: 0.9658 - accuracy: 0.6346 - val_loss: 1.0402 - val_accuracy: 0.6160\n",
            "Epoch 18/32\n",
            "2288/2288 [==============================] - 38s 17ms/step - loss: 0.9553 - accuracy: 0.6391 - val_loss: 1.0488 - val_accuracy: 0.6106\n",
            "Epoch 19/32\n",
            "2288/2288 [==============================] - 38s 17ms/step - loss: 0.9518 - accuracy: 0.6395 - val_loss: 1.0848 - val_accuracy: 0.5948\n",
            "Epoch 20/32\n",
            "2288/2288 [==============================] - 38s 17ms/step - loss: 0.9447 - accuracy: 0.6409 - val_loss: 1.0522 - val_accuracy: 0.6095\n",
            "Epoch 21/32\n",
            "2288/2288 [==============================] - 38s 17ms/step - loss: 0.9371 - accuracy: 0.6477 - val_loss: 1.0748 - val_accuracy: 0.6039\n",
            "Epoch 22/32\n",
            "2288/2288 [==============================] - 38s 17ms/step - loss: 0.9309 - accuracy: 0.6496 - val_loss: 1.0440 - val_accuracy: 0.6123\n",
            "Epoch 23/32\n",
            "2288/2288 [==============================] - 38s 17ms/step - loss: 0.9253 - accuracy: 0.6516 - val_loss: 1.0450 - val_accuracy: 0.6116\n",
            "Epoch 24/32\n",
            "2288/2288 [==============================] - 39s 17ms/step - loss: 0.9170 - accuracy: 0.6528 - val_loss: 1.0380 - val_accuracy: 0.6181\n",
            "Epoch 25/32\n",
            "2288/2288 [==============================] - 38s 17ms/step - loss: 0.9109 - accuracy: 0.6575 - val_loss: 1.0433 - val_accuracy: 0.6111\n",
            "Epoch 26/32\n",
            "2288/2288 [==============================] - 38s 17ms/step - loss: 0.9053 - accuracy: 0.6594 - val_loss: 1.0446 - val_accuracy: 0.6174\n",
            "Epoch 27/32\n",
            "2288/2288 [==============================] - 39s 17ms/step - loss: 0.9014 - accuracy: 0.6610 - val_loss: 1.0530 - val_accuracy: 0.6183\n",
            "Epoch 28/32\n",
            "2288/2288 [==============================] - 38s 17ms/step - loss: 0.8953 - accuracy: 0.6646 - val_loss: 1.0517 - val_accuracy: 0.6148\n",
            "Epoch 29/32\n",
            "2288/2288 [==============================] - 39s 17ms/step - loss: 0.8955 - accuracy: 0.6632 - val_loss: 1.0534 - val_accuracy: 0.6143\n",
            "Epoch 30/32\n",
            "2288/2288 [==============================] - 38s 17ms/step - loss: 0.8828 - accuracy: 0.6667 - val_loss: 1.0875 - val_accuracy: 0.6146\n",
            "Epoch 31/32\n",
            "2288/2288 [==============================] - 38s 17ms/step - loss: 0.8805 - accuracy: 0.6704 - val_loss: 1.1022 - val_accuracy: 0.6085\n",
            "Epoch 32/32\n",
            "2288/2288 [==============================] - 39s 17ms/step - loss: 0.8768 - accuracy: 0.6697 - val_loss: 1.0959 - val_accuracy: 0.6074\n"
          ]
        }
      ]
    },
    {
      "cell_type": "markdown",
      "metadata": {
        "id": "V7e7opiUHmZW"
      },
      "source": [
        "**Plotting the changes of the model in the accuracy of the training and validation set.**"
      ]
    },
    {
      "cell_type": "code",
      "metadata": {
        "id": "Rxq8RgLXQkrG",
        "colab": {
          "base_uri": "https://localhost:8080/",
          "height": 300
        },
        "outputId": "c2e75b98-8f5b-42a0-d7b4-fe97182429e6"
      },
      "source": [
        "plt.plot(history.history['accuracy'], label='accuracy')\n",
        "plt.plot(history.history['val_accuracy'], label = 'val_accuracy')\n",
        "plt.xlabel('Epoch')\n",
        "plt.ylabel('Accuracy')\n",
        "plt.ylim([0, 1])\n",
        "plt.legend(loc='best')\n",
        "\n",
        "test_loss, test_acc = model.evaluate(test_images,  test_labels, verbose=2)"
      ],
      "execution_count": null,
      "outputs": [
        {
          "output_type": "stream",
          "name": "stdout",
          "text": [
            "135/135 - 1s - loss: 1.0959 - accuracy: 0.6074 - 800ms/epoch - 6ms/step\n"
          ]
        },
        {
          "output_type": "display_data",
          "data": {
            "image/png": "[encoded data removed]",
            "text/plain": [
              "<Figure size 432x288 with 1 Axes>"
            ]
          },
          "metadata": {
            "needs_background": "light"
          }
        }
      ]
    },
    {
      "cell_type": "code",
      "metadata": {
        "id": "Cl9hw7iZ2GQ0"
      },
      "source": [
        "def prd(i):\n",
        "  return np.argmax(model.predict(test_images[i:i+1]))"
      ],
      "execution_count": null,
      "outputs": []
    },
    {
      "cell_type": "code",
      "metadata": {
        "id": "UVj0QLa36_6U",
        "colab": {
          "base_uri": "https://localhost:8080/"
        },
        "outputId": "384ac9c7-0ed2-4e63-9752-f3e8da951a15"
      },
      "source": [
        "prd(10)"
      ],
      "execution_count": null,
      "outputs": [
        {
          "output_type": "execute_result",
          "data": {
            "text/plain": [
              "3"
            ]
          },
          "metadata": {},
          "execution_count": 113
        }
      ]
    },
    {
      "cell_type": "code",
      "metadata": {
        "id": "kRqbnvoCr-KE",
        "colab": {
          "base_uri": "https://localhost:8080/"
        },
        "outputId": "cb0de408-777d-46d0-f117-f4c4c0dc0ca4"
      },
      "source": [
        "test_labels[10]"
      ],
      "execution_count": null,
      "outputs": [
        {
          "output_type": "execute_result",
          "data": {
            "text/plain": [
              "3"
            ]
          },
          "metadata": {},
          "execution_count": 114
        }
      ]
    }
  ]
}